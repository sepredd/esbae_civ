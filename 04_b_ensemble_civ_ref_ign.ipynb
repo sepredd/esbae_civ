{
 "cells": [
  {
   "cell_type": "markdown",
   "id": "87e3013a-d2b2-4477-bb18-e6c2de6db506",
   "metadata": {},
   "source": [
    "![titre](images/header.png)\n",
    "\n",
    "# IV A - SBAE - Classification supervisée\n",
    "### Utiliser des données de référence pour entrainer une classification\n",
    "-------\n",
    "\n",
    "Ce bloc-notes vous guide tout au long du processus de création d'un sous-échantillon de la série chronologique et des données de modification récupérées dans III et interprétées visuellement. \n",
    "L'objectif est d'obtenir une variable continue qui décrive la population (par ex. probabilité de changement)"
   ]
  },
  {
   "cell_type": "code",
   "execution_count": 1,
   "id": "1a1ceac7-b6d0-48c4-96b5-f08fdb21e40a",
   "metadata": {},
   "outputs": [
    {
     "name": "stderr",
     "output_type": "stream",
     "text": [
      "/usr/local/lib/python3.8/dist-packages/pandas/core/computation/expressions.py:20: UserWarning: Pandas requires version '2.7.3' or newer of 'numexpr' (version '2.7.1' currently installed).\n",
      "  from pandas.core.computation.check import NUMEXPR_INSTALLED\n"
     ]
    }
   ],
   "source": [
    "import numpy as np\n",
    "import pandas as pd\n",
    "import geopandas as gpd\n",
    "import seaborn as sns\n",
    "\n",
    "from sklearn.model_selection import train_test_split, GridSearchCV, StratifiedKFold\n",
    "from sklearn.cluster import KMeans\n",
    "from sklearn.ensemble import RandomForestClassifier\n",
    "from sklearn.metrics import roc_curve, precision_recall_curve, auc, make_scorer, recall_score, accuracy_score, precision_score, confusion_matrix, classification_report\n",
    "from matplotlib import pyplot as plt"
   ]
  },
  {
   "cell_type": "markdown",
   "id": "b4edb8a3-d1ee-4cb4-943a-a819fdc66862",
   "metadata": {},
   "source": [
    "### 1 Charger et préparer les données CEO"
   ]
  },
  {
   "cell_type": "code",
   "execution_count": 2,
   "id": "f1bc2c7b-1443-46cd-b8d9-be85754946ce",
   "metadata": {},
   "outputs": [
    {
     "name": "stdout",
     "output_type": "stream",
     "text": [
      "Index(['X', 'Y', 'PLOTID', 'LON', 'LAT', 'strate', 'prob_chang', 'ID',\n",
      "       'INT1_2000', 'INT1_2010', 'INT1_2015', 'INT1_2020', 'INT1_2021',\n",
      "       'CHG_20_21', 'CHG_00_10', 'CHG_10_15', 'CHG_15_20', 'IC', 'COMMENT.',\n",
      "       'P-I_name'],\n",
      "      dtype='object')\n"
     ]
    },
    {
     "data": {
      "text/html": [
       "<div>\n",
       "<style scoped>\n",
       "    .dataframe tbody tr th:only-of-type {\n",
       "        vertical-align: middle;\n",
       "    }\n",
       "\n",
       "    .dataframe tbody tr th {\n",
       "        vertical-align: top;\n",
       "    }\n",
       "\n",
       "    .dataframe thead th {\n",
       "        text-align: right;\n",
       "    }\n",
       "</style>\n",
       "<table border=\"1\" class=\"dataframe\">\n",
       "  <thead>\n",
       "    <tr style=\"text-align: right;\">\n",
       "      <th></th>\n",
       "      <th>X</th>\n",
       "      <th>Y</th>\n",
       "      <th>PLOTID</th>\n",
       "      <th>LON</th>\n",
       "      <th>LAT</th>\n",
       "      <th>strate</th>\n",
       "      <th>prob_chang</th>\n",
       "      <th>ID</th>\n",
       "      <th>INT1_2000</th>\n",
       "      <th>INT1_2010</th>\n",
       "      <th>INT1_2015</th>\n",
       "      <th>INT1_2020</th>\n",
       "      <th>INT1_2021</th>\n",
       "      <th>CHG_20_21</th>\n",
       "      <th>CHG_00_10</th>\n",
       "      <th>CHG_10_15</th>\n",
       "      <th>CHG_15_20</th>\n",
       "      <th>IC</th>\n",
       "      <th>COMMENT.</th>\n",
       "      <th>P-I_name</th>\n",
       "    </tr>\n",
       "  </thead>\n",
       "  <tbody>\n",
       "    <tr>\n",
       "      <th>0</th>\n",
       "      <td>49534.66052</td>\n",
       "      <td>568818.388616</td>\n",
       "      <td>63667</td>\n",
       "      <td>-7.061038</td>\n",
       "      <td>5.133202</td>\n",
       "      <td>3</td>\n",
       "      <td>0.523027</td>\n",
       "      <td>346</td>\n",
       "      <td>21</td>\n",
       "      <td>21</td>\n",
       "      <td>21</td>\n",
       "      <td>21</td>\n",
       "      <td>21</td>\n",
       "      <td>Stable</td>\n",
       "      <td>Stable</td>\n",
       "      <td>Stable</td>\n",
       "      <td>Stable</td>\n",
       "      <td>1</td>\n",
       "      <td>NaN</td>\n",
       "      <td>AMO</td>\n",
       "    </tr>\n",
       "  </tbody>\n",
       "</table>\n",
       "</div>"
      ],
      "text/plain": [
       "             X              Y  PLOTID       LON       LAT  strate  prob_chang  \\\n",
       "0  49534.66052  568818.388616   63667 -7.061038  5.133202       3    0.523027   \n",
       "\n",
       "    ID  INT1_2000  INT1_2010  INT1_2015  INT1_2020  INT1_2021 CHG_20_21  \\\n",
       "0  346         21         21         21         21         21    Stable   \n",
       "\n",
       "  CHG_00_10 CHG_10_15 CHG_15_20  IC COMMENT. P-I_name  \n",
       "0    Stable    Stable    Stable   1      NaN      AMO  "
      ]
     },
     "execution_count": 2,
     "metadata": {},
     "output_type": "execute_result"
    }
   ],
   "source": [
    "# read csv file\n",
    "ceo = pd.read_csv('/home/sepal-user/sbae_point_analysis_CIV/erp_1km/ign_ERP_CIV_692pts_20221026.csv', delimiter=',')\n",
    "print(ceo.columns)\n",
    "ceo.head(1)"
   ]
  },
  {
   "cell_type": "code",
   "execution_count": 4,
   "id": "bd2305da-1174-4265-b3e0-5577f7103b80",
   "metadata": {},
   "outputs": [
    {
     "data": {
      "text/plain": [
       "(array([0, 1]), array([580, 112]))"
      ]
     },
     "execution_count": 4,
     "metadata": {},
     "output_type": "execute_result"
    }
   ],
   "source": [
    "# subset columns\n",
    "ceo = ceo[['PLOTID', 'LON', 'LAT', 'CHG_00_10', 'CHG_10_15']]\n",
    "\n",
    "# add CNC column for classification\n",
    "ceo['cnc_0010'] = ceo['CHG_00_10'].apply(lambda x: 1 if x == 'Deforestation' else 0)\n",
    "ceo['cnc_1015'] = ceo['CHG_10_15'].apply(lambda x: 1 if x == 'Deforestation' else 0)\n",
    "ceo['cnc']      = ceo['cnc_0010'] + ceo['cnc_1015']\n",
    "\n",
    "ceo.head(5)\n",
    "np.unique(ceo['cnc'], return_counts=True)"
   ]
  },
  {
   "cell_type": "markdown",
   "id": "252b5964-e1b9-4b15-83c8-d3e350128ef9",
   "metadata": {},
   "source": [
    "### 2 Charger et préparer les données TS"
   ]
  },
  {
   "cell_type": "code",
   "execution_count": 5,
   "id": "993c01fd-a56a-4df6-8f04-eb37f7657c80",
   "metadata": {},
   "outputs": [],
   "source": [
    "# load data\n",
    "ts = pd.read_pickle('/home/sepal-user/sbae_point_analysis_CIV/erp_1km/erp_bdd_ts_aux_1km.pickle')"
   ]
  },
  {
   "cell_type": "code",
   "execution_count": 6,
   "id": "6c3f6026-e0dd-40a3-ac3f-563cf808e6d7",
   "metadata": {},
   "outputs": [
    {
     "data": {
      "text/plain": [
       "46415"
      ]
     },
     "execution_count": 6,
     "metadata": {},
     "output_type": "execute_result"
    }
   ],
   "source": [
    "ts[['dates', 'ts', 'images']].head(5)\n",
    "len(ts)"
   ]
  },
  {
   "cell_type": "code",
   "execution_count": 7,
   "id": "f2d32190-2ca7-4f26-8502-5e34542d0f82",
   "metadata": {},
   "outputs": [],
   "source": [
    "# turn nan to 0\n",
    "ts['gfc_lossyear'] = np.nan_to_num(ts['gfc_lossyear'])\n",
    "# create a binary loss\n",
    "ts['gfc_loss_binary'] = ts['gfc_lossyear'].apply(lambda x: 0 if x == 0 or x > 15 else 1)"
   ]
  },
  {
   "cell_type": "code",
   "execution_count": 8,
   "id": "4cff0fb7-e11e-4701-b885-d182d58a9f40",
   "metadata": {},
   "outputs": [],
   "source": [
    "# create a binary deforestation\n",
    "ts['tmf_def_binary'] = ts['tmf_defyear'].apply(lambda x: 1 if x > 1999 and x <= 2015 else 0)\n",
    "\n",
    "# create a binary degradation\n",
    "ts['tmf_deg_binary'] = ts['tmf_degyear'].apply(lambda x: 1 if x > 1999 and x <= 2015 else 0)"
   ]
  },
  {
   "cell_type": "code",
   "execution_count": 9,
   "id": "cedc4c2b-a4a6-48d1-900e-f486d310370e",
   "metadata": {},
   "outputs": [
    {
     "data": {
      "text/plain": [
       "<matplotlib.axes._subplots.AxesSubplot at 0x7f752f5b2640>"
      ]
     },
     "execution_count": 9,
     "metadata": {},
     "output_type": "execute_result"
    },
    {
     "data": {
      "image/png": "[encoded data removed]",
      "text/plain": [
       "<Figure size 640x480 with 1 Axes>"
      ]
     },
     "metadata": {},
     "output_type": "display_data"
    }
   ],
   "source": [
    "ts['ltr_magnitude'].plot()"
   ]
  },
  {
   "cell_type": "markdown",
   "id": "058deb2e-2fd4-4ed1-a4f1-f583798d47d8",
   "metadata": {},
   "source": [
    "### 2.1 Sélectionner les colonnes pour la classification"
   ]
  },
  {
   "cell_type": "code",
   "execution_count": 10,
   "id": "1d1503bf-eda5-4eae-bfa1-59786a64cfe9",
   "metadata": {},
   "outputs": [],
   "source": [
    "cols_to_classify = [\n",
    "    'images', 'mon_images',\n",
    "    'gfc_tc00', \n",
    "    'gfc_loss_binary',\n",
    "    'tmf_2000', \n",
    "    'tmf_def_binary', 'tmf_deg_binary',\n",
    "    'bfast_magnitude',\n",
    "    'ccdc_magnitude', \n",
    "    'ltr_magnitude', 'ltr_dur', 'ltr_rate',\n",
    "    'cusum_confidence', 'cusum_magnitude', \n",
    "    'ts_mean', 'ts_sd', # we add this anyway in the next cell\n",
    "    'ts_min', 'ts_max',\n",
    "    'bs_slope_mean', 'bs_slope_sd', 'bs_slope_max', 'bs_slope_min'\n",
    "]\n"
   ]
  },
  {
   "cell_type": "markdown",
   "id": "3a71c9a2-b7e5-4347-b972-d587e3674b8c",
   "metadata": {},
   "source": [
    "### 2.2 Extraire des statistiques de séries chronologiques pour chaque bande et les ajouter aux colonnes de données prédictives"
   ]
  },
  {
   "cell_type": "code",
   "execution_count": 11,
   "id": "5780867d-0029-4b1c-9b6a-27ecf0d0ea2a",
   "metadata": {},
   "outputs": [
    {
     "name": "stdout",
     "output_type": "stream",
     "text": [
      " Bands available in dataset time-series: \n",
      "['green', 'red', 'nir', 'swir1', 'swir2', 'ndfi']\n"
     ]
    }
   ],
   "source": [
    "bands = list(ts['ts'][1].keys())\n",
    "print(' Bands available in dataset time-series: ')\n",
    "print(bands) \n",
    "for band in bands:\n",
    "    \n",
    "    # add mean and SD value of time-series for each band\n",
    "    ts[band + '_mean'] = ts['ts'].apply(lambda x: np.nanmean(np.array(x[band])))\n",
    "    ts[band + '_sd'] = ts['ts'].apply(lambda x: np.nanstd(np.array(x[band])))\n",
    "    \n",
    "    # append to classification bands\n",
    "    cols_to_classify.append(band + '_mean')\n",
    "    cols_to_classify.append(band + '_sd')"
   ]
  },
  {
   "cell_type": "code",
   "execution_count": 12,
   "id": "461bc62b-b283-49c6-8f6b-19e30326a907",
   "metadata": {},
   "outputs": [
    {
     "data": {
      "text/plain": [
       "['images',\n",
       " 'mon_images',\n",
       " 'gfc_tc00',\n",
       " 'gfc_loss_binary',\n",
       " 'tmf_2000',\n",
       " 'tmf_def_binary',\n",
       " 'tmf_deg_binary',\n",
       " 'bfast_magnitude',\n",
       " 'ccdc_magnitude',\n",
       " 'ltr_magnitude',\n",
       " 'ltr_dur',\n",
       " 'ltr_rate',\n",
       " 'cusum_confidence',\n",
       " 'cusum_magnitude',\n",
       " 'ts_mean',\n",
       " 'ts_sd',\n",
       " 'ts_min',\n",
       " 'ts_max',\n",
       " 'bs_slope_mean',\n",
       " 'bs_slope_sd',\n",
       " 'bs_slope_max',\n",
       " 'bs_slope_min',\n",
       " 'green_mean',\n",
       " 'green_sd',\n",
       " 'red_mean',\n",
       " 'red_sd',\n",
       " 'nir_mean',\n",
       " 'nir_sd',\n",
       " 'swir1_mean',\n",
       " 'swir1_sd',\n",
       " 'swir2_mean',\n",
       " 'swir2_sd',\n",
       " 'ndfi_mean',\n",
       " 'ndfi_sd']"
      ]
     },
     "execution_count": 12,
     "metadata": {},
     "output_type": "execute_result"
    }
   ],
   "source": [
    "cols_to_classify"
   ]
  },
  {
   "cell_type": "code",
   "execution_count": 13,
   "id": "7f5199ae-979e-4c72-8837-2d625b872c29",
   "metadata": {},
   "outputs": [
    {
     "name": "stdout",
     "output_type": "stream",
     "text": [
      " Number of predictive features: 34\n"
     ]
    }
   ],
   "source": [
    "print(' Number of predictive features: ' + str(len(cols_to_classify)))"
   ]
  },
  {
   "cell_type": "markdown",
   "id": "37185585-2d0b-4499-92f4-7b8da6e6a919",
   "metadata": {},
   "source": [
    "### 2.3 Ajouter une colonne Kmeans (parce que nous le pouvons)"
   ]
  },
  {
   "cell_type": "code",
   "execution_count": 14,
   "id": "1dfe2dc6-1ba9-4b03-bbb1-ad09488a9373",
   "metadata": {},
   "outputs": [],
   "source": [
    "nr_of_cluster=50\n",
    "\n",
    "# run kmeans\n",
    "kmeans_model = KMeans(n_clusters=nr_of_cluster, random_state=42).fit(ts[cols_to_classify])\n",
    "ts['kmeans'] = kmeans_model.predict(ts[cols_to_classify])\n",
    "\n",
    "cols_to_classify.append('kmeans')"
   ]
  },
  {
   "cell_type": "markdown",
   "id": "03f2d440-bc51-41ed-a86a-8a3262f60e54",
   "metadata": {},
   "source": [
    "### 3 Fusionner les données CEO et de TS"
   ]
  },
  {
   "cell_type": "code",
   "execution_count": 15,
   "id": "51b47380-e380-4c29-951c-0300b379d613",
   "metadata": {},
   "outputs": [],
   "source": [
    "df_class = pd.merge(ceo, ts[cols_to_classify + ['PLOTID']], how='inner', left_on='PLOTID', right_on='PLOTID')"
   ]
  },
  {
   "cell_type": "markdown",
   "id": "94a69f67-b3cb-4b41-ad51-26ed7c9b3ecf",
   "metadata": {},
   "source": [
    "### 4 Classification - Création d'un modèle d'ensemble"
   ]
  },
  {
   "cell_type": "markdown",
   "id": "7d4035b2-601b-4cce-9d90-13b0f8f916f6",
   "metadata": {},
   "source": [
    "### 4.1 Partage entre Train-Test"
   ]
  },
  {
   "cell_type": "code",
   "execution_count": 16,
   "id": "b9614822-d4f4-4fbb-8db4-2e583e3e8687",
   "metadata": {},
   "outputs": [],
   "source": [
    "X_train, X_test, y_train, y_test = train_test_split(df_class[cols_to_classify + ['PLOTID']], df_class['cnc'], test_size=0.2, random_state=42, stratify=df_class['cnc'])"
   ]
  },
  {
   "cell_type": "code",
   "execution_count": 17,
   "id": "a66c5a20-0e74-4fb4-8a6d-520e13ca80be",
   "metadata": {},
   "outputs": [
    {
     "data": {
      "text/plain": [
       "553"
      ]
     },
     "execution_count": 17,
     "metadata": {},
     "output_type": "execute_result"
    }
   ],
   "source": [
    "X_train\n",
    "len(X_train)"
   ]
  },
  {
   "cell_type": "code",
   "execution_count": 19,
   "id": "8da5db5b-bc9c-4e9a-af27-ec9f39094324",
   "metadata": {},
   "outputs": [
    {
     "name": "stdout",
     "output_type": "stream",
     "text": [
      "139\n"
     ]
    },
    {
     "data": {
      "text/html": [
       "<div>\n",
       "<style scoped>\n",
       "    .dataframe tbody tr th:only-of-type {\n",
       "        vertical-align: middle;\n",
       "    }\n",
       "\n",
       "    .dataframe tbody tr th {\n",
       "        vertical-align: top;\n",
       "    }\n",
       "\n",
       "    .dataframe thead th {\n",
       "        text-align: right;\n",
       "    }\n",
       "</style>\n",
       "<table border=\"1\" class=\"dataframe\">\n",
       "  <thead>\n",
       "    <tr style=\"text-align: right;\">\n",
       "      <th></th>\n",
       "      <th>images</th>\n",
       "      <th>mon_images</th>\n",
       "      <th>gfc_tc00</th>\n",
       "      <th>gfc_loss_binary</th>\n",
       "      <th>tmf_2000</th>\n",
       "      <th>tmf_def_binary</th>\n",
       "      <th>tmf_deg_binary</th>\n",
       "      <th>bfast_magnitude</th>\n",
       "      <th>ccdc_magnitude</th>\n",
       "      <th>ltr_magnitude</th>\n",
       "      <th>...</th>\n",
       "      <th>nir_mean</th>\n",
       "      <th>nir_sd</th>\n",
       "      <th>swir1_mean</th>\n",
       "      <th>swir1_sd</th>\n",
       "      <th>swir2_mean</th>\n",
       "      <th>swir2_sd</th>\n",
       "      <th>ndfi_mean</th>\n",
       "      <th>ndfi_sd</th>\n",
       "      <th>kmeans</th>\n",
       "      <th>PLOTID</th>\n",
       "    </tr>\n",
       "  </thead>\n",
       "  <tbody>\n",
       "    <tr>\n",
       "      <th>563</th>\n",
       "      <td>78</td>\n",
       "      <td>74</td>\n",
       "      <td>40</td>\n",
       "      <td>0</td>\n",
       "      <td>6</td>\n",
       "      <td>0</td>\n",
       "      <td>0</td>\n",
       "      <td>4275.056641</td>\n",
       "      <td>0.0</td>\n",
       "      <td>0.0</td>\n",
       "      <td>...</td>\n",
       "      <td>3212.800866</td>\n",
       "      <td>577.427955</td>\n",
       "      <td>1913.096537</td>\n",
       "      <td>352.719821</td>\n",
       "      <td>904.142641</td>\n",
       "      <td>335.063332</td>\n",
       "      <td>8165.217100</td>\n",
       "      <td>1232.001954</td>\n",
       "      <td>28</td>\n",
       "      <td>46551</td>\n",
       "    </tr>\n",
       "    <tr>\n",
       "      <th>642</th>\n",
       "      <td>118</td>\n",
       "      <td>111</td>\n",
       "      <td>44</td>\n",
       "      <td>0</td>\n",
       "      <td>6</td>\n",
       "      <td>0</td>\n",
       "      <td>0</td>\n",
       "      <td>-1831.683105</td>\n",
       "      <td>0.0</td>\n",
       "      <td>0.0</td>\n",
       "      <td>...</td>\n",
       "      <td>3024.881766</td>\n",
       "      <td>577.592753</td>\n",
       "      <td>1873.336467</td>\n",
       "      <td>274.269474</td>\n",
       "      <td>906.967236</td>\n",
       "      <td>217.930530</td>\n",
       "      <td>7589.755556</td>\n",
       "      <td>1608.013610</td>\n",
       "      <td>45</td>\n",
       "      <td>58206</td>\n",
       "    </tr>\n",
       "    <tr>\n",
       "      <th>1</th>\n",
       "      <td>63</td>\n",
       "      <td>59</td>\n",
       "      <td>37</td>\n",
       "      <td>0</td>\n",
       "      <td>1</td>\n",
       "      <td>1</td>\n",
       "      <td>0</td>\n",
       "      <td>-3389.856445</td>\n",
       "      <td>0.0</td>\n",
       "      <td>0.0</td>\n",
       "      <td>...</td>\n",
       "      <td>2963.932796</td>\n",
       "      <td>457.644274</td>\n",
       "      <td>1956.579301</td>\n",
       "      <td>372.719278</td>\n",
       "      <td>947.737903</td>\n",
       "      <td>262.989686</td>\n",
       "      <td>7161.393817</td>\n",
       "      <td>1728.199561</td>\n",
       "      <td>45</td>\n",
       "      <td>63833</td>\n",
       "    </tr>\n",
       "    <tr>\n",
       "      <th>75</th>\n",
       "      <td>56</td>\n",
       "      <td>53</td>\n",
       "      <td>47</td>\n",
       "      <td>0</td>\n",
       "      <td>1</td>\n",
       "      <td>0</td>\n",
       "      <td>1</td>\n",
       "      <td>0.000000</td>\n",
       "      <td>0.0</td>\n",
       "      <td>0.0</td>\n",
       "      <td>...</td>\n",
       "      <td>3444.401212</td>\n",
       "      <td>610.703876</td>\n",
       "      <td>2104.350303</td>\n",
       "      <td>424.810019</td>\n",
       "      <td>1030.142121</td>\n",
       "      <td>284.854562</td>\n",
       "      <td>7833.838485</td>\n",
       "      <td>1356.656872</td>\n",
       "      <td>3</td>\n",
       "      <td>81863</td>\n",
       "    </tr>\n",
       "    <tr>\n",
       "      <th>382</th>\n",
       "      <td>53</td>\n",
       "      <td>51</td>\n",
       "      <td>71</td>\n",
       "      <td>1</td>\n",
       "      <td>1</td>\n",
       "      <td>0</td>\n",
       "      <td>0</td>\n",
       "      <td>0.000000</td>\n",
       "      <td>0.0</td>\n",
       "      <td>0.0</td>\n",
       "      <td>...</td>\n",
       "      <td>3386.218498</td>\n",
       "      <td>705.919237</td>\n",
       "      <td>1852.021383</td>\n",
       "      <td>474.382877</td>\n",
       "      <td>841.656822</td>\n",
       "      <td>254.406177</td>\n",
       "      <td>8921.879991</td>\n",
       "      <td>890.611249</td>\n",
       "      <td>40</td>\n",
       "      <td>129333</td>\n",
       "    </tr>\n",
       "  </tbody>\n",
       "</table>\n",
       "<p>5 rows × 36 columns</p>\n",
       "</div>"
      ],
      "text/plain": [
       "     images  mon_images  gfc_tc00  gfc_loss_binary  tmf_2000  tmf_def_binary  \\\n",
       "563      78          74        40                0         6               0   \n",
       "642     118         111        44                0         6               0   \n",
       "1        63          59        37                0         1               1   \n",
       "75       56          53        47                0         1               0   \n",
       "382      53          51        71                1         1               0   \n",
       "\n",
       "     tmf_deg_binary  bfast_magnitude  ccdc_magnitude  ltr_magnitude  ...  \\\n",
       "563               0      4275.056641             0.0            0.0  ...   \n",
       "642               0     -1831.683105             0.0            0.0  ...   \n",
       "1                 0     -3389.856445             0.0            0.0  ...   \n",
       "75                1         0.000000             0.0            0.0  ...   \n",
       "382               0         0.000000             0.0            0.0  ...   \n",
       "\n",
       "        nir_mean      nir_sd   swir1_mean    swir1_sd   swir2_mean  \\\n",
       "563  3212.800866  577.427955  1913.096537  352.719821   904.142641   \n",
       "642  3024.881766  577.592753  1873.336467  274.269474   906.967236   \n",
       "1    2963.932796  457.644274  1956.579301  372.719278   947.737903   \n",
       "75   3444.401212  610.703876  2104.350303  424.810019  1030.142121   \n",
       "382  3386.218498  705.919237  1852.021383  474.382877   841.656822   \n",
       "\n",
       "       swir2_sd    ndfi_mean      ndfi_sd  kmeans  PLOTID  \n",
       "563  335.063332  8165.217100  1232.001954      28   46551  \n",
       "642  217.930530  7589.755556  1608.013610      45   58206  \n",
       "1    262.989686  7161.393817  1728.199561      45   63833  \n",
       "75   284.854562  7833.838485  1356.656872       3   81863  \n",
       "382  254.406177  8921.879991   890.611249      40  129333  \n",
       "\n",
       "[5 rows x 36 columns]"
      ]
     },
     "execution_count": 19,
     "metadata": {},
     "output_type": "execute_result"
    }
   ],
   "source": [
    "X_test\n",
    "print(len(X_test))\n",
    "X_test.head()"
   ]
  },
  {
   "cell_type": "markdown",
   "id": "7654c198-ba6b-44de-81f5-bba3dbda3f56",
   "metadata": {},
   "source": [
    "### 4.2 Classification RF avec optimisation automatisée du modèle pour éviter les faux positifs dans la classe stable"
   ]
  },
  {
   "cell_type": "code",
   "execution_count": 20,
   "id": "58296a63-a10a-4818-aeb9-535664ef8d53",
   "metadata": {},
   "outputs": [
    {
     "name": "stdout",
     "output_type": "stream",
     "text": [
      "Best params for precision_score\n",
      "{'max_features': 20, 'min_samples_split': 5, 'n_estimators': 125}\n",
      "\n",
      "Confusion matrix of Random Forest optimized for precision_score on the test data:\n",
      "     pred_neg  pred_pos\n",
      "neg       110         7\n",
      "pos        10        12\n"
     ]
    }
   ],
   "source": [
    "clf = RandomForestClassifier(n_jobs=-1, oob_score=True)\n",
    "\n",
    "param_grid = {\n",
    "    'min_samples_split': [3, 5, 10], \n",
    "    'n_estimators' : [125, 250, 500],\n",
    "    #'max_depth': [3, 5, 15, 25],\n",
    "    'max_features': [5, 10, 20]\n",
    "}\n",
    "\n",
    "scorers = {\n",
    "    'precision_score': make_scorer(precision_score),\n",
    "    'recall_score': make_scorer(recall_score),\n",
    "    'accuracy_score': make_scorer(accuracy_score)\n",
    "}\n",
    "\n",
    "\n",
    "def grid_search_wrapper(refit_score='recall_score'):\n",
    "    \"\"\"\n",
    "    fits a GridSearchCV classifier using refit_score for optimization\n",
    "    prints classifier performance metrics\n",
    "    \"\"\"\n",
    "    \n",
    "    skf = StratifiedKFold(n_splits=5)\n",
    "    grid_search = GridSearchCV(clf, param_grid, scoring=scorers, refit=refit_score, cv=skf, return_train_score=True, n_jobs=-1)\n",
    "    grid_search.fit(X_train[cols_to_classify], y_train)\n",
    "\n",
    "    # make the predictions\n",
    "    y_pred = grid_search.predict(X_test[cols_to_classify])\n",
    "\n",
    "    print('Best params for {}'.format(refit_score))\n",
    "    print(grid_search.best_params_)\n",
    "\n",
    "    # confusion matrix on the test data.\n",
    "    print('\\nConfusion matrix of Random Forest optimized for {} on the test data:'.format(refit_score))\n",
    "    print(pd.DataFrame(confusion_matrix(y_test, y_pred),\n",
    "                 columns=['pred_neg', 'pred_pos'], index=['neg', 'pos']))\n",
    "    return grid_search\n",
    "\n",
    "grid_search_clf = grid_search_wrapper(refit_score='precision_score')"
   ]
  },
  {
   "cell_type": "markdown",
   "id": "97890049-1e4a-4b55-8dc3-c9130b0642f7",
   "metadata": {},
   "source": [
    "### 4.3 Précision du modèle"
   ]
  },
  {
   "cell_type": "code",
   "execution_count": 21,
   "id": "74f1132a-5a53-471d-9eee-2e5165ed0854",
   "metadata": {},
   "outputs": [
    {
     "name": "stdout",
     "output_type": "stream",
     "text": [
      "-----------------------------\n",
      " Stats on train:\n",
      "-----------------------------\n",
      "Accuracy on train: 0.9963833634719711\n"
     ]
    },
    {
     "data": {
      "text/plain": [
       "array([[463,   0],\n",
       "       [  2,  88]])"
      ]
     },
     "metadata": {},
     "output_type": "display_data"
    },
    {
     "name": "stdout",
     "output_type": "stream",
     "text": [
      "\n",
      "\n",
      "-----------------------------\n",
      " Stats on test:\n",
      "-----------------------------\n",
      "Accuracy on test: 0.8776978417266187\n"
     ]
    },
    {
     "data": {
      "text/plain": [
       "array([[110,   7],\n",
       "       [ 10,  12]])"
      ]
     },
     "metadata": {},
     "output_type": "display_data"
    },
    {
     "name": "stdout",
     "output_type": "stream",
     "text": [
      "\n",
      "\n",
      "-----------------------------\n",
      " Per class stats on test:\n",
      "-----------------------------\n",
      "              precision    recall  f1-score   support\n",
      "\n",
      "      stable     0.9167    0.9402    0.9283       117\n",
      "      change     0.6316    0.5455    0.5854        22\n",
      "\n",
      "    accuracy                         0.8777       139\n",
      "   macro avg     0.7741    0.7428    0.7568       139\n",
      "weighted avg     0.8715    0.8777    0.8740       139\n",
      "\n"
     ]
    },
    {
     "data": {
      "text/plain": [
       "<matplotlib.axes._subplots.AxesSubplot at 0x7f752f2e6280>"
      ]
     },
     "execution_count": 21,
     "metadata": {},
     "output_type": "execute_result"
    },
    {
     "data": {
      "image/png": "[encoded data removed]",
      "text/plain": [
       "<Figure size 1000x700 with 2 Axes>"
      ]
     },
     "metadata": {},
     "output_type": "display_data"
    }
   ],
   "source": [
    "X_train['class'] = grid_search_clf.predict(X_train[cols_to_classify])\n",
    "X_test['class'] = grid_search_clf.predict(X_test[cols_to_classify])\n",
    "\n",
    "print('-----------------------------')\n",
    "print(' Stats on train:')\n",
    "print('-----------------------------')\n",
    "print('Accuracy on train: ' + str(accuracy_score(y_train, X_train['class'])))\n",
    "display(confusion_matrix(y_train, X_train['class']))\n",
    "\n",
    "print('')\n",
    "print('')\n",
    "print('-----------------------------')\n",
    "print(' Stats on test:')\n",
    "print('-----------------------------')\n",
    "#print('Out of Bag Error RF: ' + str(grid_search_clf.oob_score_))\n",
    "print('Accuracy on test: ' + str(accuracy_score(y_test, X_test['class'], )))\n",
    "cm = confusion_matrix(y_test, X_test['class'])\n",
    "display(cm)\n",
    "\n",
    "print('')\n",
    "print('')\n",
    "print('-----------------------------')\n",
    "print(' Per class stats on test:')\n",
    "print('-----------------------------')\n",
    "print(classification_report(y_test, X_test['class'], target_names=['stable', 'change'], digits=4))\n",
    "\n",
    "df_cm = pd.DataFrame(cm, index=['stable', 'change'], columns=['stable', 'change'])\n",
    "plt.figure(figsize = (10,7))\n",
    "sns.heatmap(df_cm, annot=True)"
   ]
  },
  {
   "cell_type": "markdown",
   "id": "df9cb0d3-6673-4b11-bf58-33081fc4f321",
   "metadata": {},
   "source": [
    "### 4.4 Importance des composantes"
   ]
  },
  {
   "cell_type": "code",
   "execution_count": 22,
   "id": "648f4d10-21af-410f-8388-d8614fdceb5b",
   "metadata": {},
   "outputs": [
    {
     "data": {
      "image/png": "[encoded data removed]",
      "text/plain": [
       "<Figure size 2000x1000 with 1 Axes>"
      ]
     },
     "metadata": {},
     "output_type": "display_data"
    }
   ],
   "source": [
    "forest = grid_search_clf.best_estimator_\n",
    "importances = forest.feature_importances_\n",
    "std = np.std([tree.feature_importances_ for tree in forest.estimators_], axis=0)\n",
    "feature_names = [f\"{i}\" for i in X_train[cols_to_classify].columns]\n",
    "forest_importances = pd.Series(importances, index=feature_names)\n",
    "\n",
    "fig, ax = plt.subplots(figsize=(20,10))\n",
    "forest_importances.plot.bar(yerr=std, ax=ax)\n",
    "ax.set_title(\"Feature importances using RF\")\n",
    "ax.set_ylabel(\"Mean decrease in impurity\")\n",
    "fig.tight_layout()"
   ]
  },
  {
   "cell_type": "markdown",
   "id": "f61305af-3b68-4882-95c0-51ff58386b5d",
   "metadata": {},
   "source": [
    "### 4.4 Détermination du seuil pour ne pas avoir de changement"
   ]
  },
  {
   "cell_type": "code",
   "execution_count": null,
   "id": "66128ffc-b770-460f-8ce0-1e79e9dd6898",
   "metadata": {},
   "outputs": [],
   "source": [
    "df_class[['prob_stable', 'prob_change']] = grid_search_clf.predict_proba(df_class[cols_to_classify][cols_to_classify])\n",
    "\n",
    "print('Maximum probability of stable for change points')\n",
    "#thshld = df_class['prob_stable'][df_class['cnc'] == 1].max()\n",
    "thshld = np.percentile(df_class['prob_stable'][df_class['cnc'] == 1], 100)\n",
    "print(thshld)\n",
    "\n",
    "print('Reasonable probability of stable for change points')\n",
    "#thshld = df_class['prob_stable'][df_class['cnc'] == 1].max()\n",
    "thshld = np.percentile(df_class['prob_stable'][df_class['cnc'] == 1], 90)\n",
    "print(thshld)\n",
    "\n",
    "print('Number of points above thshld (considered stable)')\n",
    "abv_thshld = df_class[df_class['prob_stable'] > thshld]\n",
    "print(str(len(abv_thshld)) + ' out of ' + str(len(df_class)))\n",
    "\n",
    "print('Number of actual change points left in stable')\n",
    "print(len(abv_thshld[abv_thshld['cnc'] == 1]))\n",
    "\n",
    "print(' Point Ids of interpreted change with a high probability of being stable')\n",
    "display(df_class[(df_class['cnc'] == 1) & (df_class['prob_stable'] > thshld)].sort_values('prob_stable', ascending=False))"
   ]
  },
  {
   "cell_type": "code",
   "execution_count": null,
   "id": "d857f150-fa6a-4f9f-8cc0-6e7ac14766e0",
   "metadata": {},
   "outputs": [],
   "source": [
    "print(X_test.columns)\n",
    "len(X_test)"
   ]
  },
  {
   "cell_type": "code",
   "execution_count": null,
   "id": "68f8bf6b-d226-4898-ba02-a1db0ee56d4b",
   "metadata": {},
   "outputs": [],
   "source": [
    "X_test[['prob_stable', 'prob_change']] = grid_search_clf.predict_proba(X_test[cols_to_classify])\n",
    "X_test['cnc'] = y_test\n",
    "X_test.to_csv('/home/sepal-user/sbae_point_analysis_CIV/erp_1km/validation_ign_ERP_CIV_IC_113pts.csv', index=False)"
   ]
  },
  {
   "cell_type": "code",
   "execution_count": null,
   "id": "999ed21b-d91b-4464-bfdd-2df718069b6a",
   "metadata": {},
   "outputs": [],
   "source": [
    "df_class['prob_stable'].hist()\n",
    "len(df_class)\n",
    "\n",
    "X_test['prob_stable'].hist()\n"
   ]
  },
  {
   "cell_type": "code",
   "execution_count": null,
   "id": "e955a914-f280-4e48-acd5-45157c287e56",
   "metadata": {},
   "outputs": [],
   "source": [
    "fp_ids = df_class[(df_class['cnc'] == 1) & (df_class['prob_stable'] > thshld)]['PLOTID']"
   ]
  },
  {
   "cell_type": "code",
   "execution_count": null,
   "id": "98cf7714-af01-4fbc-948f-ab9442cb11a4",
   "metadata": {},
   "outputs": [],
   "source": [
    "len(df_class)"
   ]
  },
  {
   "cell_type": "markdown",
   "id": "287bfe0b-05ad-42bf-93c4-5098dca69a83",
   "metadata": {},
   "source": [
    "### 5 Appliquer le modèle d'ensemble à TOUS les points"
   ]
  },
  {
   "cell_type": "code",
   "execution_count": null,
   "id": "2c58bde0-d5df-456e-8782-d9d7e152b247",
   "metadata": {},
   "outputs": [],
   "source": [
    "ts['cnc_class'] = grid_search_clf.predict(ts[cols_to_classify])\n",
    "ts[['prob_stable', 'prob_change']] = grid_search_clf.predict_proba(ts[cols_to_classify])\n",
    "\n",
    "print(' Number of points to visually recheck based on classification result (0.5 probability)')\n",
    "print(len(ts[ts['cnc_class'] == 1]))\n",
    "\n",
    "\n",
    "print(' Number of points to visually recheck based on adjusted probability')\n",
    "print(len(ts[ts['prob_stable'] < thshld]))"
   ]
  },
  {
   "cell_type": "code",
   "execution_count": null,
   "id": "8ad21af0-c506-4269-b482-133447f3d113",
   "metadata": {},
   "outputs": [],
   "source": [
    "ts['prob_stable'].hist(bins=60)"
   ]
  },
  {
   "cell_type": "code",
   "execution_count": null,
   "id": "33ac9528-6803-4e3c-8b85-1b617dc5ae4a",
   "metadata": {},
   "outputs": [],
   "source": [
    "print(ts.columns)"
   ]
  },
  {
   "cell_type": "markdown",
   "id": "d3197036-d954-41fa-a0e7-92313096fe7d",
   "metadata": {},
   "source": [
    "#### Exporter les résultats"
   ]
  },
  {
   "cell_type": "code",
   "execution_count": null,
   "id": "3c883d5a-e304-4bac-a3c6-681c1b58a81e",
   "metadata": {},
   "outputs": [],
   "source": [
    "out_csv_file = '/home/sepal-user/sbae_point_analysis_CIV/erp_1km/bdd_erp_2000_2015_supervised_IC_ign.csv'\n",
    "#tout = ts[['PLOTID','LON', 'LAT','kmeans','cnc_class', 'prob_stable', 'prob_change']]\n",
    "tout = ts\n",
    "tout.to_csv(out_csv_file, index=False)"
   ]
  },
  {
   "cell_type": "markdown",
   "id": "068c9151-b989-4fb1-898d-19e9f1057aea",
   "metadata": {},
   "source": [
    "### 6 Sélectionnez les points de changement les plus probables en fonction de la probabilité"
   ]
  },
  {
   "cell_type": "code",
   "execution_count": null,
   "id": "9c695a23-0cfe-43ae-a3a3-282300b78343",
   "metadata": {},
   "outputs": [],
   "source": [
    "# Number of points you can afford to analyse\n",
    "nr_of_points = 3300\n",
    "\n",
    "# select\n",
    "selection = ts[['PLOTID', 'prob_change']].sort_values('prob_change', ascending=False).head(nr_of_points)\n",
    "display(selection)\n",
    "print('Minimum change probability included in selection: ' + str(selection['prob_change'].min()))"
   ]
  },
  {
   "cell_type": "markdown",
   "id": "df35635d-121d-4d1c-80d9-7e8c1784a438",
   "metadata": {},
   "source": [
    "### 7 Sélectionnez la plupart des points de zone grise selon le modèle"
   ]
  },
  {
   "cell_type": "code",
   "execution_count": null,
   "id": "8abe223e-b874-4ab7-883d-a254d7be6bd7",
   "metadata": {},
   "outputs": [],
   "source": [
    "print(' Number of points to visually recheck based on margin of classifier') \n",
    "ts[['PLOTID', 'prob_change']][(ts['prob_change'] > 0.5) & (ts['prob_change'] < 0.55)].sort_values('prob_change', ascending=False)"
   ]
  }
 ],
 "metadata": {
  "kernelspec": {
   "display_name": "Python 3",
   "language": "python",
   "name": "python3"
  },
  "language_info": {
   "codemirror_mode": {
    "name": "ipython",
    "version": 3
   },
   "file_extension": ".py",
   "mimetype": "text/x-python",
   "name": "python",
   "nbconvert_exporter": "python",
   "pygments_lexer": "ipython3",
   "version": "3.8.10"
  }
 },
 "nbformat": 4,
 "nbformat_minor": 5
}
