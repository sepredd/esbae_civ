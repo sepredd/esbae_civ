{
 "cells": [
  {
   "cell_type": "markdown",
   "id": "9bb9b7af-672f-42ce-8d6d-bc185f9e7461",
   "metadata": {},
   "source": [
    "<font face=\"Calibri\" size=\"2\"> <i>SBAE - Notebook Series - Part 3, version 0.2,  September 2022. Andreas Vollrath, UN-Food and Agricultural Organization, Rome</i>\n",
    "</font>"
   ]
  },
  {
   "cell_type": "markdown",
   "id": "1e1552bf-09e5-4cae-82fe-8166038f2cd1",
   "metadata": {},
   "source": [
    "![titre](images/header.png)\n",
    "\n",
    "# III A - SBAE - sous-échantillonnage spatialement équilibré\n",
    "### Extraire un sous-ensemble d'échantillons de clusters K-Means\n",
    "-------\n",
    "\n",
    "Ce bloc-notes vous guide tout au long du processus de création d'un sous-échantillon de la série chronologique et des données de modification récupérées dans II. L'objectif est d'obtenir un sous-échantillon statistiquement équilibré qui peut être utilisé pour la collecte de données de formation, et comprend idéalement un pourcentage plus élevé de classes rares telles que la déforestation, la dégradation et le gain par rapport à une approche de sous-échantillonnage aléatoire pur."
   ]
  },
  {
   "cell_type": "markdown",
   "id": "eacee8a8-e900-4bbf-b7ab-357fe0987fdc",
   "metadata": {},
   "source": [
    "### Charger les librairies"
   ]
  },
  {
   "cell_type": "code",
   "execution_count": 1,
   "id": "4df1d844-c25a-413c-9840-3ce5280b57b0",
   "metadata": {},
   "outputs": [
    {
     "name": "stderr",
     "output_type": "stream",
     "text": [
      "/usr/local/lib/python3.8/dist-packages/bfast/monitor/opencl/bfastfinal.py:50290: FutureWarning: In the future `np.bool` will be defined as the corresponding NumPy scalar.\n",
      "  'numpy_type': np.bool }\n"
     ]
    },
    {
     "ename": "AttributeError",
     "evalue": "module 'numpy' has no attribute 'bool'.\n`np.bool` was a deprecated alias for the builtin `bool`. To avoid this error in existing code, use `bool` by itself. Doing this will not modify any behavior and is safe. If you specifically wanted the numpy scalar type, use `np.bool_` here.\nThe aliases was originally deprecated in NumPy 1.20; for more details and guidance see the original release note at:\n    https://numpy.org/devdocs/release/1.20.0-notes.html#deprecations",
     "output_type": "error",
     "traceback": [
      "\u001b[0;31m---------------------------------------------------------------------------\u001b[0m",
      "\u001b[0;31mAttributeError\u001b[0m                            Traceback (most recent call last)",
      "Cell \u001b[0;32mIn[1], line 15\u001b[0m\n\u001b[1;32m     12\u001b[0m \u001b[38;5;28;01mimport\u001b[39;00m \u001b[38;5;21;01mmatplotlib\u001b[39;00m\u001b[38;5;21;01m.\u001b[39;00m\u001b[38;5;21;01mpyplot\u001b[39;00m \u001b[38;5;28;01mas\u001b[39;00m \u001b[38;5;21;01mplt\u001b[39;00m\n\u001b[1;32m     14\u001b[0m \u001b[38;5;66;03m# sbae internal functionality  \u001b[39;00m\n\u001b[0;32m---> 15\u001b[0m \u001b[38;5;28;01mimport\u001b[39;00m \u001b[38;5;21;01mhelpers\u001b[39;00m \u001b[38;5;28;01mas\u001b[39;00m \u001b[38;5;21;01mh\u001b[39;00m\n",
      "File \u001b[0;32m~/sbae_point_analysis_CIV/helpers/__init__.py:10\u001b[0m\n\u001b[1;32m      7\u001b[0m \u001b[38;5;28;01mfrom\u001b[39;00m \u001b[38;5;21;01mhelpers\u001b[39;00m\u001b[38;5;21;01m.\u001b[39;00m\u001b[38;5;21;01mee\u001b[39;00m\u001b[38;5;21;01m.\u001b[39;00m\u001b[38;5;21;01mlandtrendr\u001b[39;00m \u001b[38;5;28;01mimport\u001b[39;00m run_landtrendr\n\u001b[1;32m      9\u001b[0m \u001b[38;5;28;01mfrom\u001b[39;00m \u001b[38;5;21;01mhelpers\u001b[39;00m\u001b[38;5;21;01m.\u001b[39;00m\u001b[38;5;21;01mts_analysis\u001b[39;00m\u001b[38;5;21;01m.\u001b[39;00m\u001b[38;5;21;01mcusum\u001b[39;00m \u001b[38;5;28;01mimport\u001b[39;00m run_cusum_deforest, cusum_deforest\n\u001b[0;32m---> 10\u001b[0m \u001b[38;5;28;01mfrom\u001b[39;00m \u001b[38;5;21;01mhelpers\u001b[39;00m\u001b[38;5;21;01m.\u001b[39;00m\u001b[38;5;21;01mts_analysis\u001b[39;00m\u001b[38;5;21;01m.\u001b[39;00m\u001b[38;5;21;01mbfast_wrapper\u001b[39;00m \u001b[38;5;28;01mimport\u001b[39;00m run_bfast_monitor\n\u001b[1;32m     11\u001b[0m \u001b[38;5;28;01mfrom\u001b[39;00m \u001b[38;5;21;01mhelpers\u001b[39;00m\u001b[38;5;21;01m.\u001b[39;00m\u001b[38;5;21;01mts_analysis\u001b[39;00m\u001b[38;5;21;01m.\u001b[39;00m\u001b[38;5;21;01mbootstrap_slope\u001b[39;00m \u001b[38;5;28;01mimport\u001b[39;00m run_bs_slope\n\u001b[1;32m     12\u001b[0m \u001b[38;5;28;01mfrom\u001b[39;00m \u001b[38;5;21;01mhelpers\u001b[39;00m\u001b[38;5;21;01m.\u001b[39;00m\u001b[38;5;21;01mts_analysis\u001b[39;00m\u001b[38;5;21;01m.\u001b[39;00m\u001b[38;5;21;01mtimescan\u001b[39;00m \u001b[38;5;28;01mimport\u001b[39;00m run_timescan_metrics\n",
      "File \u001b[0;32m~/sbae_point_analysis_CIV/helpers/ts_analysis/bfast_wrapper.py:5\u001b[0m\n\u001b[1;32m      2\u001b[0m \u001b[38;5;28;01mimport\u001b[39;00m \u001b[38;5;21;01mpandas\u001b[39;00m \u001b[38;5;28;01mas\u001b[39;00m \u001b[38;5;21;01mpd\u001b[39;00m\n\u001b[1;32m      3\u001b[0m \u001b[38;5;28;01mfrom\u001b[39;00m \u001b[38;5;21;01mdatetime\u001b[39;00m \u001b[38;5;28;01mimport\u001b[39;00m datetime \u001b[38;5;28;01mas\u001b[39;00m dt\n\u001b[0;32m----> 5\u001b[0m \u001b[38;5;28;01mfrom\u001b[39;00m \u001b[38;5;21;01mbfast\u001b[39;00m \u001b[38;5;28;01mimport\u001b[39;00m BFASTMonitor\n\u001b[1;32m      6\u001b[0m \u001b[38;5;28;01mfrom\u001b[39;00m \u001b[38;5;21;01mgodale\u001b[39;00m \u001b[38;5;28;01mimport\u001b[39;00m Executor\n\u001b[1;32m      8\u001b[0m \u001b[38;5;66;03m# default bFast parameters\u001b[39;00m\n",
      "File \u001b[0;32m/usr/local/lib/python3.8/dist-packages/bfast/__init__.py:1\u001b[0m\n\u001b[0;32m----> 1\u001b[0m \u001b[38;5;28;01mfrom\u001b[39;00m \u001b[38;5;21;01m.\u001b[39;00m\u001b[38;5;21;01mmodels\u001b[39;00m \u001b[38;5;28;01mimport\u001b[39;00m BFASTMonitor\n\u001b[1;32m      2\u001b[0m \u001b[38;5;28;01mfrom\u001b[39;00m \u001b[38;5;21;01mwarnings\u001b[39;00m \u001b[38;5;28;01mimport\u001b[39;00m warn\n\u001b[1;32m      4\u001b[0m __version__ \u001b[38;5;241m=\u001b[39m \u001b[38;5;124m'\u001b[39m\u001b[38;5;124m0.8.dev0\u001b[39m\u001b[38;5;124m'\u001b[39m\n",
      "File \u001b[0;32m/usr/local/lib/python3.8/dist-packages/bfast/models.py:1\u001b[0m\n\u001b[0;32m----> 1\u001b[0m \u001b[38;5;28;01mfrom\u001b[39;00m \u001b[38;5;21;01mbfast\u001b[39;00m\u001b[38;5;21;01m.\u001b[39;00m\u001b[38;5;21;01mmonitor\u001b[39;00m \u001b[38;5;28;01mimport\u001b[39;00m \u001b[38;5;241m*\u001b[39m\n\u001b[1;32m      3\u001b[0m \u001b[38;5;28;01mclass\u001b[39;00m \u001b[38;5;21;01mBFASTMonitor\u001b[39;00m():\n\u001b[1;32m      4\u001b[0m \u001b[38;5;250m    \u001b[39m\u001b[38;5;124;03m\"\"\"\u001b[39;00m\n\u001b[1;32m      5\u001b[0m \u001b[38;5;124;03m    BFASTMonitor implements the BFASTMonitor approach and\u001b[39;00m\n\u001b[1;32m      6\u001b[0m \u001b[38;5;124;03m    provides two backends/implementations:\u001b[39;00m\n\u001b[0;32m   (...)\u001b[0m\n\u001b[1;32m     81\u001b[0m \n\u001b[1;32m     82\u001b[0m \u001b[38;5;124;03m    \"\"\"\u001b[39;00m\n",
      "File \u001b[0;32m/usr/local/lib/python3.8/dist-packages/bfast/monitor/__init__.py:1\u001b[0m\n\u001b[0;32m----> 1\u001b[0m \u001b[38;5;28;01mfrom\u001b[39;00m \u001b[38;5;21;01m.\u001b[39;00m\u001b[38;5;21;01mopencl\u001b[39;00m \u001b[38;5;28;01mimport\u001b[39;00m BFASTMonitorOpenCL\n\u001b[1;32m      2\u001b[0m \u001b[38;5;28;01mfrom\u001b[39;00m \u001b[38;5;21;01m.\u001b[39;00m\u001b[38;5;21;01mpython\u001b[39;00m \u001b[38;5;28;01mimport\u001b[39;00m BFASTMonitorPython\n",
      "File \u001b[0;32m/usr/local/lib/python3.8/dist-packages/bfast/monitor/opencl/__init__.py:1\u001b[0m\n\u001b[0;32m----> 1\u001b[0m \u001b[38;5;28;01mfrom\u001b[39;00m \u001b[38;5;21;01m.\u001b[39;00m\u001b[38;5;21;01mbase\u001b[39;00m \u001b[38;5;28;01mimport\u001b[39;00m BFASTMonitorOpenCL\n",
      "File \u001b[0;32m/usr/local/lib/python3.8/dist-packages/bfast/monitor/opencl/base.py:20\u001b[0m\n\u001b[1;32m     17\u001b[0m \u001b[38;5;28;01mfrom\u001b[39;00m \u001b[38;5;21;01mbfast\u001b[39;00m\u001b[38;5;21;01m.\u001b[39;00m\u001b[38;5;21;01mmonitor\u001b[39;00m\u001b[38;5;21;01m.\u001b[39;00m\u001b[38;5;21;01mutils\u001b[39;00m \u001b[38;5;28;01mimport\u001b[39;00m compute_end_history, compute_lam, map_indices\n\u001b[1;32m     19\u001b[0m \u001b[38;5;66;03m# generated by Futhark\u001b[39;00m\n\u001b[0;32m---> 20\u001b[0m \u001b[38;5;28;01mfrom\u001b[39;00m \u001b[38;5;21;01m.\u001b[39;00m\u001b[38;5;21;01mbfastfinal\u001b[39;00m \u001b[38;5;28;01mimport\u001b[39;00m bfastfinal\n\u001b[1;32m     22\u001b[0m \u001b[38;5;66;03m############################################################\u001b[39;00m\n\u001b[1;32m     23\u001b[0m \u001b[38;5;66;03m# ## Remember to run:\u001b[39;00m\n\u001b[1;32m     24\u001b[0m \u001b[38;5;66;03m# ## cd futhark\u001b[39;00m\n\u001b[1;32m     25\u001b[0m \u001b[38;5;66;03m# ## make\u001b[39;00m\n\u001b[1;32m     26\u001b[0m \u001b[38;5;66;03m# ## cp bfastfinal.py ../\u001b[39;00m\n\u001b[1;32m     27\u001b[0m \u001b[38;5;66;03m############################################################\u001b[39;00m\n\u001b[1;32m     29\u001b[0m \u001b[38;5;28;01mclass\u001b[39;00m \u001b[38;5;21;01mBFASTMonitorOpenCL\u001b[39;00m(BFASTMonitorBase):\n",
      "File \u001b[0;32m/usr/local/lib/python3.8/dist-packages/bfast/monitor/opencl/bfastfinal.py:50290\u001b[0m\n\u001b[1;32m  50211\u001b[0m         f\u001b[38;5;241m.\u001b[39munget_char(c)\n\u001b[1;32m  50212\u001b[0m         \u001b[38;5;28;01mreturn\u001b[39;00m \u001b[38;5;28;01mFalse\u001b[39;00m\n\u001b[1;32m  50214\u001b[0m FUTHARK_PRIMTYPES \u001b[38;5;241m=\u001b[39m {\n\u001b[1;32m  50215\u001b[0m     \u001b[38;5;124m'\u001b[39m\u001b[38;5;124mi8\u001b[39m\u001b[38;5;124m'\u001b[39m:  {\u001b[38;5;124m'\u001b[39m\u001b[38;5;124mbinname\u001b[39m\u001b[38;5;124m'\u001b[39m : \u001b[38;5;124mb\u001b[39m\u001b[38;5;124m\"\u001b[39m\u001b[38;5;124m  i8\u001b[39m\u001b[38;5;124m\"\u001b[39m,\n\u001b[1;32m  50216\u001b[0m             \u001b[38;5;124m'\u001b[39m\u001b[38;5;124msize\u001b[39m\u001b[38;5;124m'\u001b[39m : \u001b[38;5;241m1\u001b[39m,\n\u001b[1;32m  50217\u001b[0m             \u001b[38;5;124m'\u001b[39m\u001b[38;5;124mbin_reader\u001b[39m\u001b[38;5;124m'\u001b[39m: read_bin_i8,\n\u001b[1;32m  50218\u001b[0m             \u001b[38;5;124m'\u001b[39m\u001b[38;5;124mstr_reader\u001b[39m\u001b[38;5;124m'\u001b[39m: read_str_i8,\n\u001b[1;32m  50219\u001b[0m             \u001b[38;5;124m'\u001b[39m\u001b[38;5;124mbin_format\u001b[39m\u001b[38;5;124m'\u001b[39m: \u001b[38;5;124m'\u001b[39m\u001b[38;5;124mb\u001b[39m\u001b[38;5;124m'\u001b[39m,\n\u001b[1;32m  50220\u001b[0m             \u001b[38;5;124m'\u001b[39m\u001b[38;5;124mnumpy_type\u001b[39m\u001b[38;5;124m'\u001b[39m: np\u001b[38;5;241m.\u001b[39mint8 },\n\u001b[1;32m  50221\u001b[0m \n\u001b[1;32m  50222\u001b[0m     \u001b[38;5;124m'\u001b[39m\u001b[38;5;124mi16\u001b[39m\u001b[38;5;124m'\u001b[39m: {\u001b[38;5;124m'\u001b[39m\u001b[38;5;124mbinname\u001b[39m\u001b[38;5;124m'\u001b[39m : \u001b[38;5;124mb\u001b[39m\u001b[38;5;124m\"\u001b[39m\u001b[38;5;124m i16\u001b[39m\u001b[38;5;124m\"\u001b[39m,\n\u001b[1;32m  50223\u001b[0m             \u001b[38;5;124m'\u001b[39m\u001b[38;5;124msize\u001b[39m\u001b[38;5;124m'\u001b[39m : \u001b[38;5;241m2\u001b[39m,\n\u001b[1;32m  50224\u001b[0m             \u001b[38;5;124m'\u001b[39m\u001b[38;5;124mbin_reader\u001b[39m\u001b[38;5;124m'\u001b[39m: read_bin_i16,\n\u001b[1;32m  50225\u001b[0m             \u001b[38;5;124m'\u001b[39m\u001b[38;5;124mstr_reader\u001b[39m\u001b[38;5;124m'\u001b[39m: read_str_i16,\n\u001b[1;32m  50226\u001b[0m             \u001b[38;5;124m'\u001b[39m\u001b[38;5;124mbin_format\u001b[39m\u001b[38;5;124m'\u001b[39m: \u001b[38;5;124m'\u001b[39m\u001b[38;5;124mh\u001b[39m\u001b[38;5;124m'\u001b[39m,\n\u001b[1;32m  50227\u001b[0m             \u001b[38;5;124m'\u001b[39m\u001b[38;5;124mnumpy_type\u001b[39m\u001b[38;5;124m'\u001b[39m: np\u001b[38;5;241m.\u001b[39mint16 },\n\u001b[1;32m  50228\u001b[0m \n\u001b[1;32m  50229\u001b[0m     \u001b[38;5;124m'\u001b[39m\u001b[38;5;124mi32\u001b[39m\u001b[38;5;124m'\u001b[39m: {\u001b[38;5;124m'\u001b[39m\u001b[38;5;124mbinname\u001b[39m\u001b[38;5;124m'\u001b[39m : \u001b[38;5;124mb\u001b[39m\u001b[38;5;124m\"\u001b[39m\u001b[38;5;124m i32\u001b[39m\u001b[38;5;124m\"\u001b[39m,\n\u001b[1;32m  50230\u001b[0m             \u001b[38;5;124m'\u001b[39m\u001b[38;5;124msize\u001b[39m\u001b[38;5;124m'\u001b[39m : \u001b[38;5;241m4\u001b[39m,\n\u001b[1;32m  50231\u001b[0m             \u001b[38;5;124m'\u001b[39m\u001b[38;5;124mbin_reader\u001b[39m\u001b[38;5;124m'\u001b[39m: read_bin_i32,\n\u001b[1;32m  50232\u001b[0m             \u001b[38;5;124m'\u001b[39m\u001b[38;5;124mstr_reader\u001b[39m\u001b[38;5;124m'\u001b[39m: read_str_i32,\n\u001b[1;32m  50233\u001b[0m             \u001b[38;5;124m'\u001b[39m\u001b[38;5;124mbin_format\u001b[39m\u001b[38;5;124m'\u001b[39m: \u001b[38;5;124m'\u001b[39m\u001b[38;5;124mi\u001b[39m\u001b[38;5;124m'\u001b[39m,\n\u001b[1;32m  50234\u001b[0m             \u001b[38;5;124m'\u001b[39m\u001b[38;5;124mnumpy_type\u001b[39m\u001b[38;5;124m'\u001b[39m: np\u001b[38;5;241m.\u001b[39mint32 },\n\u001b[1;32m  50235\u001b[0m \n\u001b[1;32m  50236\u001b[0m     \u001b[38;5;124m'\u001b[39m\u001b[38;5;124mi64\u001b[39m\u001b[38;5;124m'\u001b[39m: {\u001b[38;5;124m'\u001b[39m\u001b[38;5;124mbinname\u001b[39m\u001b[38;5;124m'\u001b[39m : \u001b[38;5;124mb\u001b[39m\u001b[38;5;124m\"\u001b[39m\u001b[38;5;124m i64\u001b[39m\u001b[38;5;124m\"\u001b[39m,\n\u001b[1;32m  50237\u001b[0m             \u001b[38;5;124m'\u001b[39m\u001b[38;5;124msize\u001b[39m\u001b[38;5;124m'\u001b[39m : \u001b[38;5;241m8\u001b[39m,\n\u001b[1;32m  50238\u001b[0m             \u001b[38;5;124m'\u001b[39m\u001b[38;5;124mbin_reader\u001b[39m\u001b[38;5;124m'\u001b[39m: read_bin_i64,\n\u001b[1;32m  50239\u001b[0m             \u001b[38;5;124m'\u001b[39m\u001b[38;5;124mstr_reader\u001b[39m\u001b[38;5;124m'\u001b[39m: read_str_i64,\n\u001b[1;32m  50240\u001b[0m             \u001b[38;5;124m'\u001b[39m\u001b[38;5;124mbin_format\u001b[39m\u001b[38;5;124m'\u001b[39m: \u001b[38;5;124m'\u001b[39m\u001b[38;5;124mq\u001b[39m\u001b[38;5;124m'\u001b[39m,\n\u001b[1;32m  50241\u001b[0m             \u001b[38;5;124m'\u001b[39m\u001b[38;5;124mnumpy_type\u001b[39m\u001b[38;5;124m'\u001b[39m: np\u001b[38;5;241m.\u001b[39mint64},\n\u001b[1;32m  50242\u001b[0m \n\u001b[1;32m  50243\u001b[0m     \u001b[38;5;124m'\u001b[39m\u001b[38;5;124mu8\u001b[39m\u001b[38;5;124m'\u001b[39m:  {\u001b[38;5;124m'\u001b[39m\u001b[38;5;124mbinname\u001b[39m\u001b[38;5;124m'\u001b[39m : \u001b[38;5;124mb\u001b[39m\u001b[38;5;124m\"\u001b[39m\u001b[38;5;124m  u8\u001b[39m\u001b[38;5;124m\"\u001b[39m,\n\u001b[1;32m  50244\u001b[0m             \u001b[38;5;124m'\u001b[39m\u001b[38;5;124msize\u001b[39m\u001b[38;5;124m'\u001b[39m : \u001b[38;5;241m1\u001b[39m,\n\u001b[1;32m  50245\u001b[0m             \u001b[38;5;124m'\u001b[39m\u001b[38;5;124mbin_reader\u001b[39m\u001b[38;5;124m'\u001b[39m: read_bin_u8,\n\u001b[1;32m  50246\u001b[0m             \u001b[38;5;124m'\u001b[39m\u001b[38;5;124mstr_reader\u001b[39m\u001b[38;5;124m'\u001b[39m: read_str_u8,\n\u001b[1;32m  50247\u001b[0m             \u001b[38;5;124m'\u001b[39m\u001b[38;5;124mbin_format\u001b[39m\u001b[38;5;124m'\u001b[39m: \u001b[38;5;124m'\u001b[39m\u001b[38;5;124mB\u001b[39m\u001b[38;5;124m'\u001b[39m,\n\u001b[1;32m  50248\u001b[0m             \u001b[38;5;124m'\u001b[39m\u001b[38;5;124mnumpy_type\u001b[39m\u001b[38;5;124m'\u001b[39m: np\u001b[38;5;241m.\u001b[39muint8 },\n\u001b[1;32m  50249\u001b[0m \n\u001b[1;32m  50250\u001b[0m     \u001b[38;5;124m'\u001b[39m\u001b[38;5;124mu16\u001b[39m\u001b[38;5;124m'\u001b[39m: {\u001b[38;5;124m'\u001b[39m\u001b[38;5;124mbinname\u001b[39m\u001b[38;5;124m'\u001b[39m : \u001b[38;5;124mb\u001b[39m\u001b[38;5;124m\"\u001b[39m\u001b[38;5;124m u16\u001b[39m\u001b[38;5;124m\"\u001b[39m,\n\u001b[1;32m  50251\u001b[0m             \u001b[38;5;124m'\u001b[39m\u001b[38;5;124msize\u001b[39m\u001b[38;5;124m'\u001b[39m : \u001b[38;5;241m2\u001b[39m,\n\u001b[1;32m  50252\u001b[0m             \u001b[38;5;124m'\u001b[39m\u001b[38;5;124mbin_reader\u001b[39m\u001b[38;5;124m'\u001b[39m: read_bin_u16,\n\u001b[1;32m  50253\u001b[0m             \u001b[38;5;124m'\u001b[39m\u001b[38;5;124mstr_reader\u001b[39m\u001b[38;5;124m'\u001b[39m: read_str_u16,\n\u001b[1;32m  50254\u001b[0m             \u001b[38;5;124m'\u001b[39m\u001b[38;5;124mbin_format\u001b[39m\u001b[38;5;124m'\u001b[39m: \u001b[38;5;124m'\u001b[39m\u001b[38;5;124mH\u001b[39m\u001b[38;5;124m'\u001b[39m,\n\u001b[1;32m  50255\u001b[0m             \u001b[38;5;124m'\u001b[39m\u001b[38;5;124mnumpy_type\u001b[39m\u001b[38;5;124m'\u001b[39m: np\u001b[38;5;241m.\u001b[39muint16 },\n\u001b[1;32m  50256\u001b[0m \n\u001b[1;32m  50257\u001b[0m     \u001b[38;5;124m'\u001b[39m\u001b[38;5;124mu32\u001b[39m\u001b[38;5;124m'\u001b[39m: {\u001b[38;5;124m'\u001b[39m\u001b[38;5;124mbinname\u001b[39m\u001b[38;5;124m'\u001b[39m : \u001b[38;5;124mb\u001b[39m\u001b[38;5;124m\"\u001b[39m\u001b[38;5;124m u32\u001b[39m\u001b[38;5;124m\"\u001b[39m,\n\u001b[1;32m  50258\u001b[0m             \u001b[38;5;124m'\u001b[39m\u001b[38;5;124msize\u001b[39m\u001b[38;5;124m'\u001b[39m : \u001b[38;5;241m4\u001b[39m,\n\u001b[1;32m  50259\u001b[0m             \u001b[38;5;124m'\u001b[39m\u001b[38;5;124mbin_reader\u001b[39m\u001b[38;5;124m'\u001b[39m: read_bin_u32,\n\u001b[1;32m  50260\u001b[0m             \u001b[38;5;124m'\u001b[39m\u001b[38;5;124mstr_reader\u001b[39m\u001b[38;5;124m'\u001b[39m: read_str_u32,\n\u001b[1;32m  50261\u001b[0m             \u001b[38;5;124m'\u001b[39m\u001b[38;5;124mbin_format\u001b[39m\u001b[38;5;124m'\u001b[39m: \u001b[38;5;124m'\u001b[39m\u001b[38;5;124mI\u001b[39m\u001b[38;5;124m'\u001b[39m,\n\u001b[1;32m  50262\u001b[0m             \u001b[38;5;124m'\u001b[39m\u001b[38;5;124mnumpy_type\u001b[39m\u001b[38;5;124m'\u001b[39m: np\u001b[38;5;241m.\u001b[39muint32 },\n\u001b[1;32m  50263\u001b[0m \n\u001b[1;32m  50264\u001b[0m     \u001b[38;5;124m'\u001b[39m\u001b[38;5;124mu64\u001b[39m\u001b[38;5;124m'\u001b[39m: {\u001b[38;5;124m'\u001b[39m\u001b[38;5;124mbinname\u001b[39m\u001b[38;5;124m'\u001b[39m : \u001b[38;5;124mb\u001b[39m\u001b[38;5;124m\"\u001b[39m\u001b[38;5;124m u64\u001b[39m\u001b[38;5;124m\"\u001b[39m,\n\u001b[1;32m  50265\u001b[0m             \u001b[38;5;124m'\u001b[39m\u001b[38;5;124msize\u001b[39m\u001b[38;5;124m'\u001b[39m : \u001b[38;5;241m8\u001b[39m,\n\u001b[1;32m  50266\u001b[0m             \u001b[38;5;124m'\u001b[39m\u001b[38;5;124mbin_reader\u001b[39m\u001b[38;5;124m'\u001b[39m: read_bin_u64,\n\u001b[1;32m  50267\u001b[0m             \u001b[38;5;124m'\u001b[39m\u001b[38;5;124mstr_reader\u001b[39m\u001b[38;5;124m'\u001b[39m: read_str_u64,\n\u001b[1;32m  50268\u001b[0m             \u001b[38;5;124m'\u001b[39m\u001b[38;5;124mbin_format\u001b[39m\u001b[38;5;124m'\u001b[39m: \u001b[38;5;124m'\u001b[39m\u001b[38;5;124mQ\u001b[39m\u001b[38;5;124m'\u001b[39m,\n\u001b[1;32m  50269\u001b[0m             \u001b[38;5;124m'\u001b[39m\u001b[38;5;124mnumpy_type\u001b[39m\u001b[38;5;124m'\u001b[39m: np\u001b[38;5;241m.\u001b[39muint64 },\n\u001b[1;32m  50270\u001b[0m \n\u001b[1;32m  50271\u001b[0m     \u001b[38;5;124m'\u001b[39m\u001b[38;5;124mf32\u001b[39m\u001b[38;5;124m'\u001b[39m: {\u001b[38;5;124m'\u001b[39m\u001b[38;5;124mbinname\u001b[39m\u001b[38;5;124m'\u001b[39m : \u001b[38;5;124mb\u001b[39m\u001b[38;5;124m\"\u001b[39m\u001b[38;5;124m f32\u001b[39m\u001b[38;5;124m\"\u001b[39m,\n\u001b[1;32m  50272\u001b[0m             \u001b[38;5;124m'\u001b[39m\u001b[38;5;124msize\u001b[39m\u001b[38;5;124m'\u001b[39m : \u001b[38;5;241m4\u001b[39m,\n\u001b[1;32m  50273\u001b[0m             \u001b[38;5;124m'\u001b[39m\u001b[38;5;124mbin_reader\u001b[39m\u001b[38;5;124m'\u001b[39m: read_bin_f32,\n\u001b[1;32m  50274\u001b[0m             \u001b[38;5;124m'\u001b[39m\u001b[38;5;124mstr_reader\u001b[39m\u001b[38;5;124m'\u001b[39m: read_str_f32,\n\u001b[1;32m  50275\u001b[0m             \u001b[38;5;124m'\u001b[39m\u001b[38;5;124mbin_format\u001b[39m\u001b[38;5;124m'\u001b[39m: \u001b[38;5;124m'\u001b[39m\u001b[38;5;124mf\u001b[39m\u001b[38;5;124m'\u001b[39m,\n\u001b[1;32m  50276\u001b[0m             \u001b[38;5;124m'\u001b[39m\u001b[38;5;124mnumpy_type\u001b[39m\u001b[38;5;124m'\u001b[39m: np\u001b[38;5;241m.\u001b[39mfloat32 },\n\u001b[1;32m  50277\u001b[0m \n\u001b[1;32m  50278\u001b[0m     \u001b[38;5;124m'\u001b[39m\u001b[38;5;124mf64\u001b[39m\u001b[38;5;124m'\u001b[39m: {\u001b[38;5;124m'\u001b[39m\u001b[38;5;124mbinname\u001b[39m\u001b[38;5;124m'\u001b[39m : \u001b[38;5;124mb\u001b[39m\u001b[38;5;124m\"\u001b[39m\u001b[38;5;124m f64\u001b[39m\u001b[38;5;124m\"\u001b[39m,\n\u001b[1;32m  50279\u001b[0m             \u001b[38;5;124m'\u001b[39m\u001b[38;5;124msize\u001b[39m\u001b[38;5;124m'\u001b[39m : \u001b[38;5;241m8\u001b[39m,\n\u001b[1;32m  50280\u001b[0m             \u001b[38;5;124m'\u001b[39m\u001b[38;5;124mbin_reader\u001b[39m\u001b[38;5;124m'\u001b[39m: read_bin_f64,\n\u001b[1;32m  50281\u001b[0m             \u001b[38;5;124m'\u001b[39m\u001b[38;5;124mstr_reader\u001b[39m\u001b[38;5;124m'\u001b[39m: read_str_f64,\n\u001b[1;32m  50282\u001b[0m             \u001b[38;5;124m'\u001b[39m\u001b[38;5;124mbin_format\u001b[39m\u001b[38;5;124m'\u001b[39m: \u001b[38;5;124m'\u001b[39m\u001b[38;5;124md\u001b[39m\u001b[38;5;124m'\u001b[39m,\n\u001b[1;32m  50283\u001b[0m             \u001b[38;5;124m'\u001b[39m\u001b[38;5;124mnumpy_type\u001b[39m\u001b[38;5;124m'\u001b[39m: np\u001b[38;5;241m.\u001b[39mfloat64 },\n\u001b[1;32m  50284\u001b[0m \n\u001b[1;32m  50285\u001b[0m     \u001b[38;5;124m'\u001b[39m\u001b[38;5;124mbool\u001b[39m\u001b[38;5;124m'\u001b[39m: {\u001b[38;5;124m'\u001b[39m\u001b[38;5;124mbinname\u001b[39m\u001b[38;5;124m'\u001b[39m : \u001b[38;5;124mb\u001b[39m\u001b[38;5;124m\"\u001b[39m\u001b[38;5;124mbool\u001b[39m\u001b[38;5;124m\"\u001b[39m,\n\u001b[1;32m  50286\u001b[0m              \u001b[38;5;124m'\u001b[39m\u001b[38;5;124msize\u001b[39m\u001b[38;5;124m'\u001b[39m : \u001b[38;5;241m1\u001b[39m,\n\u001b[1;32m  50287\u001b[0m              \u001b[38;5;124m'\u001b[39m\u001b[38;5;124mbin_reader\u001b[39m\u001b[38;5;124m'\u001b[39m: read_bin_bool,\n\u001b[1;32m  50288\u001b[0m              \u001b[38;5;124m'\u001b[39m\u001b[38;5;124mstr_reader\u001b[39m\u001b[38;5;124m'\u001b[39m: read_str_bool,\n\u001b[1;32m  50289\u001b[0m              \u001b[38;5;124m'\u001b[39m\u001b[38;5;124mbin_format\u001b[39m\u001b[38;5;124m'\u001b[39m: \u001b[38;5;124m'\u001b[39m\u001b[38;5;124mb\u001b[39m\u001b[38;5;124m'\u001b[39m,\n\u001b[0;32m> 50290\u001b[0m              \u001b[38;5;124m'\u001b[39m\u001b[38;5;124mnumpy_type\u001b[39m\u001b[38;5;124m'\u001b[39m: \u001b[43mnp\u001b[49m\u001b[38;5;241;43m.\u001b[39;49m\u001b[43mbool\u001b[49m }\n\u001b[1;32m  50291\u001b[0m }\n\u001b[1;32m  50293\u001b[0m \u001b[38;5;28;01mdef\u001b[39;00m \u001b[38;5;21mread_bin_read_type\u001b[39m(f):\n\u001b[1;32m  50294\u001b[0m     read_binname \u001b[38;5;241m=\u001b[39m f\u001b[38;5;241m.\u001b[39mget_chars(\u001b[38;5;241m4\u001b[39m)\n",
      "File \u001b[0;32m/usr/local/lib/python3.8/dist-packages/numpy/__init__.py:305\u001b[0m, in \u001b[0;36m__getattr__\u001b[0;34m(attr)\u001b[0m\n\u001b[1;32m    300\u001b[0m     warnings\u001b[38;5;241m.\u001b[39mwarn(\n\u001b[1;32m    301\u001b[0m         \u001b[38;5;124mf\u001b[39m\u001b[38;5;124m\"\u001b[39m\u001b[38;5;124mIn the future `np.\u001b[39m\u001b[38;5;132;01m{\u001b[39;00mattr\u001b[38;5;132;01m}\u001b[39;00m\u001b[38;5;124m` will be defined as the \u001b[39m\u001b[38;5;124m\"\u001b[39m\n\u001b[1;32m    302\u001b[0m         \u001b[38;5;124m\"\u001b[39m\u001b[38;5;124mcorresponding NumPy scalar.\u001b[39m\u001b[38;5;124m\"\u001b[39m, \u001b[38;5;167;01mFutureWarning\u001b[39;00m, stacklevel\u001b[38;5;241m=\u001b[39m\u001b[38;5;241m2\u001b[39m)\n\u001b[1;32m    304\u001b[0m \u001b[38;5;28;01mif\u001b[39;00m attr \u001b[38;5;129;01min\u001b[39;00m __former_attrs__:\n\u001b[0;32m--> 305\u001b[0m     \u001b[38;5;28;01mraise\u001b[39;00m \u001b[38;5;167;01mAttributeError\u001b[39;00m(__former_attrs__[attr])\n\u001b[1;32m    307\u001b[0m \u001b[38;5;66;03m# Importing Tester requires importing all of UnitTest which is not a\u001b[39;00m\n\u001b[1;32m    308\u001b[0m \u001b[38;5;66;03m# cheap import Since it is mainly used in test suits, we lazy import it\u001b[39;00m\n\u001b[1;32m    309\u001b[0m \u001b[38;5;66;03m# here to save on the order of 10 ms of import time for most users\u001b[39;00m\n\u001b[1;32m    310\u001b[0m \u001b[38;5;66;03m#\u001b[39;00m\n\u001b[1;32m    311\u001b[0m \u001b[38;5;66;03m# The previous way Tester was imported also had a side effect of adding\u001b[39;00m\n\u001b[1;32m    312\u001b[0m \u001b[38;5;66;03m# the full `numpy.testing` namespace\u001b[39;00m\n\u001b[1;32m    313\u001b[0m \u001b[38;5;28;01mif\u001b[39;00m attr \u001b[38;5;241m==\u001b[39m \u001b[38;5;124m'\u001b[39m\u001b[38;5;124mtesting\u001b[39m\u001b[38;5;124m'\u001b[39m:\n",
      "\u001b[0;31mAttributeError\u001b[0m: module 'numpy' has no attribute 'bool'.\n`np.bool` was a deprecated alias for the builtin `bool`. To avoid this error in existing code, use `bool` by itself. Doing this will not modify any behavior and is safe. If you specifically wanted the numpy scalar type, use `np.bool_` here.\nThe aliases was originally deprecated in NumPy 1.20; for more details and guidance see the original release note at:\n    https://numpy.org/devdocs/release/1.20.0-notes.html#deprecations"
     ]
    }
   ],
   "source": [
    "# data management\n",
    "import numpy as np\n",
    "import pandas as pd\n",
    "import geopandas as gpd\n",
    "\n",
    "# clustering\n",
    "from sklearn.cluster import KMeans\n",
    "from sklearn.preprocessing import StandardScaler\n",
    "\n",
    "# plotting\n",
    "import seaborn as sns\n",
    "import matplotlib.pyplot as plt\n",
    "\n",
    "# sbae internal functionality  \n",
    "import helpers as h"
   ]
  },
  {
   "cell_type": "markdown",
   "id": "e5e95ec9-e480-4188-8dc3-fc6d884e553e",
   "metadata": {},
   "source": [
    "### 1 Charger le fichier de résultats du géopackage\n",
    "\n",
    "La première étape consiste à charger le fichier de résultats du Notebook II de la série de notebooks SBAE. Ce fichier doit contenir les sorties de divers algorithmes de séries chronologiques et peut en outre contenir des extraits de"
   ]
  },
  {
   "cell_type": "code",
   "execution_count": null,
   "id": "1b905bed-c71f-4ff2-859f-96733b03ca9b",
   "metadata": {},
   "outputs": [],
   "source": [
    "df = gpd.read_file('erp_5km/results_Landsat_ndfi_1985-01-01_2000-01-01_2017-01-01.gpkg')\n",
    "\n",
    "print('Available Columns')\n",
    "df.columns"
   ]
  },
  {
   "cell_type": "code",
   "execution_count": null,
   "id": "d9a78c56-db4d-4180-8cdc-36dc88640e34",
   "metadata": {},
   "outputs": [],
   "source": [
    "# glob all files in the data augmentation output folder\n",
    "files = Path('/home/sepal-user/module_results/esbae/Cote_Ivoire_MRV/04_Data_Augmentation/Landsat/').glob('*geojson')\n",
    "\n",
    "# prepare for parallel execution\n",
    "files = [[str(file), False] for file in files]\n",
    "\n",
    "# read files in parallel nad put the in a list\n",
    "result = py_helpers.run_in_parallel(\n",
    "    py_helpers.geojson_to_gdf,\n",
    "    files,\n",
    "    workers=4,\n",
    "    parallelization='processes'\n",
    ")\n",
    "\n",
    "# concatenate dataframes from result's list\n",
    "df = pd.concat(result)"
   ]
  },
  {
   "cell_type": "markdown",
   "id": "69575941-b750-4538-a618-0deb1f0415ae",
   "metadata": {},
   "source": [
    "### 2 Sélectionnez les colonnes pertinentes pour créer les clusters\n",
    "\n",
    "Toutes les colonnes des données chargées ne doivent pas entrer dans le processus de clustering, par ex. le point_id ne nous dit rien sur la distribution statistique par rapport au changement. Dans la cellule ci-dessous se trouve une présélection de colonnes qui contiennent potentiellement des informations sur le changement et qui seront donc utiles pour créer des grappes significatives pour un sous-échantillonnage ultérieur."
   ]
  },
  {
   "cell_type": "code",
   "execution_count": null,
   "id": "44a8cba6-7d64-4395-918d-89187ffae3fc",
   "metadata": {},
   "outputs": [],
   "source": [
    "# select columsn thata re used by Kmeans\n",
    "cols_to_cluster = [\n",
    "    'mon_images',\n",
    "    #'elevation',\n",
    "    #'dw_class_mode', 'dw_tree_prob__max',\n",
    "    #'dw_tree_prob__min', 'dw_tree_prob__stdDev', 'dw_tree_prob_mean',\n",
    "    'bfast_magnitude', 'bfast_means', \n",
    "    #'lang_tree_height', \n",
    "    #'potapov_tree_height',\n",
    "    'ccdc_magnitude',\n",
    "    'ltr_magnitude', 'ltr_dur', 'ltr_rate', \n",
    "    'cusum_confidence', 'cusum_magnitude', \n",
    "    'ts_mean', 'ts_sd', 'ts_min', 'ts_max', \n",
    "    'bs_slope_mean', 'bs_slope_sd', 'bs_slope_min', 'bs_slope_max'\n",
    "]"
   ]
  },
  {
   "cell_type": "markdown",
   "id": "8711d8bc-8a43-44bf-a332-5aae37e11770",
   "metadata": {},
   "source": [
    "### 3 Vérifiez les NaN\n",
    "\n",
    "Le processus de clustering n'accepte les NaN dans aucun des champs. Il existe 2 stratégies :\n",
    "\n",
    "1. Supprimez toutes les lignes contenant des NaN\n",
    "2. Remplacez tous les NaN par un nombre"
   ]
  },
  {
   "cell_type": "code",
   "execution_count": null,
   "id": "22156072-817e-46c2-a9f0-1f147a63308d",
   "metadata": {},
   "outputs": [],
   "source": [
    "print(' Length of original dataframe: ' + str(len(df)))\n",
    "df_1 = df.copy()\n",
    "print(' Length of nan-removed dataframe: ' + str(len(df_1[cols_to_cluster].dropna())))\n",
    "\n",
    "for col in cols_to_cluster:\n",
    "    print(f' Column {col} contains {len(df_1[df_1[col].isna()])} NaNs')\n",
    "    # print(f' Column {col} contains {len(df_1[df_1[col].isin([np.inf, -np.inf])])} Infinites')"
   ]
  },
  {
   "cell_type": "markdown",
   "id": "82d61e91-08da-41e5-948b-22a761bd2a9e",
   "metadata": {},
   "source": [
    "# 2 K-Means Clustering"
   ]
  },
  {
   "cell_type": "code",
   "execution_count": null,
   "id": "82b487af-c16d-4769-a2f8-2f4a88343978",
   "metadata": {},
   "outputs": [],
   "source": [
    "nr_of_cluster=12\n",
    "\n",
    "# run kmeans\n",
    "kmeans = KMeans(n_clusters=nr_of_cluster, random_state=42).fit(df[cols_to_cluster])\n",
    "\n",
    "#------------------------------------------------\n",
    "# Standardize the data\n",
    "#X_std = StandardScaler().fit_transform(df[cols_to_cluster])\n",
    "# run kmeans with standardized data\n",
    "#kmeans = KMeans(n_clusters=nr_of_cluster, random_state=42).fit(X_std)\n",
    "#------------------------------------------------\n",
    "\n",
    "# add the cluster column\n",
    "df['Kmeans'] = kmeans.predict(df[cols_to_cluster])\n",
    "\n",
    "# print number of points per clusters\n",
    "clusters, counts = np.unique(df.Kmeans, return_counts=True)\n",
    "print(clusters)\n",
    "print(counts)\n",
    "\n",
    "# plot data\n",
    "pd.DataFrame({'counts': counts}).plot(kind='bar', title='Nr. of Points per cluster', figsize=(10,5))"
   ]
  },
  {
   "cell_type": "markdown",
   "id": "b25d0af6-1297-4ea4-ae5a-5761e30da388",
   "metadata": {},
   "source": [
    "# 3 parcelles\n",
    "\n",
    "## 3.1 Statistiques et tracé de chaque cluster"
   ]
  },
  {
   "cell_type": "code",
   "execution_count": null,
   "id": "d5cf67ad-6acb-406f-b02d-d899b7c96acc",
   "metadata": {},
   "outputs": [],
   "source": [
    "cols_to_plot = cols_to_cluster\n",
    "\n",
    "# in case you want to have that different\n",
    "#cols_to_plot = [\n",
    "#    'mon_images',\n",
    "#    'cusum_confidence', 'cusum_magnitude', \n",
    "#    'ts_mean', 'ts_sd', 'ts_min', 'ts_max', \n",
    "#    'bs_slope_mean', 'bs_slope_sd', 'bs_slope_min', 'bs_slope_max'\n",
    "#]\n",
    "\n",
    "\n",
    "fig, axs = h.plot_stats_per_class(df, 'Kmeans', cols_to_plot)"
   ]
  },
  {
   "cell_type": "markdown",
   "id": "8df5edba-183b-42a5-906b-5358efeb7f46",
   "metadata": {},
   "source": [
    "#### Sauver la figure"
   ]
  },
  {
   "cell_type": "code",
   "execution_count": null,
   "id": "b786e0a9-9185-4757-8891-6469001a7e53",
   "metadata": {},
   "outputs": [],
   "source": [
    "from pathlib import Path\n",
    "\n",
    "Path.cwd().joinpath('plots').mkdir(exist_ok=True)\n",
    "# to save a figure of a certain column/attribute\n",
    "col = 'mon_images' \n",
    "\n",
    "fig[col].savefig(f'plots/{col}.png')"
   ]
  },
  {
   "cell_type": "markdown",
   "id": "59fb29ae-3771-4218-aaf0-1b11b948eb27",
   "metadata": {},
   "source": [
    "## 3.2 Mettre en avant un cluster spécifique sur une carte"
   ]
  },
  {
   "cell_type": "code",
   "execution_count": null,
   "id": "bd4ee1ad-3291-4d76-ae79-ee818d9a978d",
   "metadata": {},
   "outputs": [],
   "source": [
    "cluster_to_highlight = 4\n",
    "\n",
    "fig, ax = plt.subplots(1, 1, figsize=(12, 12))\n",
    "df.plot(ax=ax, column='Kmeans', legend=True, markersize=.1)\n",
    "df[df['Kmeans']==cluster_to_highlight].plot(ax=ax, markersize=5, facecolor='red')\n",
    "plt.tight_layout()"
   ]
  },
  {
   "cell_type": "markdown",
   "id": "fad080be-f724-4e97-a7b3-5b29076da68d",
   "metadata": {},
   "source": [
    "# 4 Sélectionnez un sous-ensemble d'échantillons pour chaque cluster"
   ]
  },
  {
   "cell_type": "code",
   "execution_count": null,
   "id": "edcb77e3-f39e-4aaa-b5e6-754950df565c",
   "metadata": {},
   "outputs": [],
   "source": [
    "nr_of_samples_per_cluster = 25\n",
    "subset_df = pd.DataFrame(columns=df.columns)\n",
    "\n",
    "for cluster in df.Kmeans.unique():\n",
    "    \n",
    "    if len(df[df.Kmeans == cluster]) < nr_of_samples_per_cluster:\n",
    "        \n",
    "        subset_df = pd.concat([\n",
    "            subset_df,\n",
    "            df[df.Kmeans == cluster].sample(len(df[df.Kmeans == cluster]))\n",
    "        ])\n",
    "    else:\n",
    "        \n",
    "        subset_df = pd.concat([\n",
    "            subset_df,\n",
    "            df[df.Kmeans == cluster].sample(nr_of_samples_per_cluster)\n",
    "        ])\n",
    "    \n",
    "print(f'{len(subset_df)} samples have been selected in total')\n",
    "\n",
    "fig, ax = plt.subplots(1, 1, figsize=(10, 10))\n",
    "subset_df = gpd.GeoDataFrame(subset_df, geometry='geometry')\n",
    "subset_df.plot(column='Kmeans', ax=ax, legend=True, markersize=5)"
   ]
  },
  {
   "cell_type": "markdown",
   "id": "864effe0-d3c0-4bdb-8256-b43571dc2d43",
   "metadata": {},
   "source": [
    "# 5 Convertir en fichier to CEO"
   ]
  },
  {
   "cell_type": "code",
   "execution_count": null,
   "id": "97b292d3-f0d6-4105-871d-c8ad36fb9322",
   "metadata": {},
   "outputs": [],
   "source": [
    "out_csv_file = '/home/sepal-user/sbae_point_analysis_CIV/erp_5km/erp_cluster_pts.csv'\n",
    "\n",
    "subset_df['LON'] = gpd.GeoDataFrame(subset_df).geometry.x\n",
    "subset_df['LAT'] = gpd.GeoDataFrame(subset_df).geometry.y\n",
    "subset_df['PLOTID'] = gpd.GeoDataFrame(subset_df).point_id\n",
    "\n",
    "cols = subset_df.columns.tolist()\n",
    "cols = [e for e in cols if e not in ('LON', 'LAT', 'PLOTID')]\n",
    "new_cols = ['LON', 'LAT', 'PLOTID'] + cols\n",
    "subset_df = subset_df[new_cols]\n",
    "subset_df.to_csv(out_csv_file, index=False)"
   ]
  },
  {
   "cell_type": "code",
   "execution_count": null,
   "id": "74a8e965-b521-4698-b1b8-56a713dabcf1",
   "metadata": {},
   "outputs": [],
   "source": []
  }
 ],
 "metadata": {
  "kernelspec": {
   "display_name": "Python 3",
   "language": "python",
   "name": "python3"
  },
  "language_info": {
   "codemirror_mode": {
    "name": "ipython",
    "version": 3
   },
   "file_extension": ".py",
   "mimetype": "text/x-python",
   "name": "python",
   "nbconvert_exporter": "python",
   "pygments_lexer": "ipython3",
   "version": "3.8.10"
  }
 },
 "nbformat": 4,
 "nbformat_minor": 5
}
