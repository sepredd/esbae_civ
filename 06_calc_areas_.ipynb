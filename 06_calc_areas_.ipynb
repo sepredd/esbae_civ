{
 "cells": [
  {
   "cell_type": "markdown",
   "id": "97ffbaca-d639-4075-bf16-e9eced082bbf",
   "metadata": {
    "jupyter": {
     "source_hidden": true
    },
    "tags": []
   },
   "source": [
    "# 1. Import necessary libraries for data handling and visualization."
   ]
  },
  {
   "cell_type": "code",
   "execution_count": 1,
   "id": "201bfe0e-cbca-4026-8a42-0258cb6a695c",
   "metadata": {
    "tags": []
   },
   "outputs": [],
   "source": [
    "import pandas as pd\n",
    "import geopandas as gpd\n",
    "import numpy as np\n",
    "import seaborn as sns\n",
    "from matplotlib import pyplot as plt\n",
    "import matplotlib.ticker as mticker"
   ]
  },
  {
   "cell_type": "markdown",
   "id": "655fca34-5310-471b-8fa6-93ca021aa133",
   "metadata": {},
   "source": [
    "# 2. The eSBAE function:"
   ]
  },
  {
   "cell_type": "code",
   "execution_count": 2,
   "id": "c6e09762-ceb1-4618-8c9d-77ccb8ed72cc",
   "metadata": {},
   "outputs": [],
   "source": [
    "def calculate_areas(db_total, strata_column, categories_column, total_area, z_score):\n",
    "    \n",
    "    df_full = db_total.copy()\n",
    "    df_interpreted = db_total[~db_total[categories_column].isna()]\n",
    "    \n",
    "    # get all attributes\n",
    "    categories = df_interpreted[categories_column].unique()\n",
    "    \n",
    "    # get strata\n",
    "    strata, d = df_interpreted[strata_column].unique(), {}\n",
    "    print(categories)\n",
    "    # create stats for each entry\n",
    "    for category in categories:\n",
    "        \n",
    "        if str(category) == 'nan':\n",
    "            continue\n",
    "            \n",
    "        print(f' Calculating stats for {category}')\n",
    "        # create binary class column\n",
    "        df_interpreted[category] =  df_interpreted[categories_column].apply(lambda x: 1 if x == category else 0)\n",
    "        print(f'There are {df_interpreted[category].sum()} entries of {category} in {categories_column}.')\n",
    "        \n",
    "        # initialize variables for category <> check the catergories > def, deg, gain\n",
    "        categories_area, se_total = 0, 0\n",
    "        d2 = {}\n",
    "        for stratum in strata:\n",
    "                        \n",
    "            if str(stratum) == 'nan':\n",
    "                continue\n",
    "            \n",
    "            # subset to stratum\n",
    "            df_stratum = df_full[df_full[strata_column] == stratum]\n",
    "            \n",
    "            # get area proportion for that stratum on full dataset\n",
    "            proportion_strata = len(df_stratum)/len(df_full)\n",
    "\n",
    "            # get stratum area\n",
    "            stratum_area = proportion_strata * total_area\n",
    "\n",
    "            # get proportion of forest change within strata from interpreted data\n",
    "            proportion_category = len(\n",
    "                df_interpreted[(df_interpreted[strata_column] == stratum) & (df_interpreted[category] == 1)]\n",
    "            ) / len(\n",
    "                df_interpreted[df_interpreted[strata_column] == stratum]\n",
    "            )\n",
    "            \n",
    "            # get area from proportion and full area\n",
    "            category_stratum_area = proportion_category * stratum_area\n",
    "\n",
    "            # get error from interpreted data for full stratum area\n",
    "            var = np.var(df_interpreted[category][df_interpreted[strata_column] == stratum])\n",
    "            sd = np.sqrt(var)               \n",
    "            n = len(df_interpreted[df_interpreted[strata_column] == stratum])\n",
    "            se = sd/np.sqrt(n) * stratum_area\n",
    "                          \n",
    "            # add for totals\n",
    "            categories_area += category_stratum_area\n",
    "            se_total += se**2\n",
    "            \n",
    "            # add to dictionary\n",
    "            d2[f'area_stratum_{stratum}'] = category_stratum_area\n",
    "            d2[f'ci_stratum_{stratum}']=z_score*se\n",
    "        \n",
    "        d2['area_total'] = categories_area\n",
    "        d2['MOE'] = z_score*np.sqrt(se_total)\n",
    "        d2['MOE_perc'] =  d2['MOE'] / categories_area * 100\n",
    "        d[category] = d2\n",
    "    \n",
    "    \n",
    "    return pd.DataFrame.from_dict(d, orient='index')"
   ]
  },
  {
   "cell_type": "markdown",
   "id": "bbad8c01-8266-4c00-9185-9ef1beb7f1c3",
   "metadata": {},
   "source": [
    "# 3 Load and prepare interpreted data from various CEO Validation \n",
    "#### CIV: EPR 4000 points, 1st Validation 835 points, 2nd Validation 3467 points"
   ]
  },
  {
   "cell_type": "code",
   "execution_count": 3,
   "id": "3b924fd9-c0cf-4cb0-a316-6f1c1d8d1e6f",
   "metadata": {
    "tags": []
   },
   "outputs": [],
   "source": [
    "pts835 = pd.read_csv('/home/sepal-user/eSBAE_CIV/data/835_final_v2.csv', delimiter=';')\n",
    "pts3k = pd.read_csv('/home/sepal-user/eSBAE_CIV/data/3K_final_v2.csv', delimiter=';')\n",
    "erp4k = pd.read_csv('/home/sepal-user/eSBAE_CIV/data/erp4K_final.csv', delimiter=';')"
   ]
  },
  {
   "cell_type": "markdown",
   "id": "fac538b1-f84d-4cdb-b9c9-52b941156077",
   "metadata": {},
   "source": [
    "## 3.1 Different data checks and harmonisations "
   ]
  },
  {
   "cell_type": "code",
   "execution_count": null,
   "id": "1a96a414-1e47-4e3f-9944-d914b90d7428",
   "metadata": {
    "tags": []
   },
   "outputs": [],
   "source": [
    "#pts835.columns.to_list() \n",
    "\n",
    "#### land use IPCC categories 2015 (level 1) = 'ocs_n1_2015'\n",
    "#### land use national classes 2015 (level 2) = 'ocs_n2_2015'\n",
    "#### land use IPCC categories 2020 (level 1) = 'ocs_n1_2020'\n",
    "#### land use national classes 2020 (level 2) = 'ocs_n2_2020'\n",
    "\n",
    "### Columns of interest => 'point_id', 'ocs_n1_2015', 'ocs_n2_2015', 'ocs_n1_2020', 'ocs_n2_2020', 'kmeans', 'source'"
   ]
  },
  {
   "cell_type": "code",
   "execution_count": null,
   "id": "f00fad1e-f358-4a9b-a27c-f9b0509257c6",
   "metadata": {
    "tags": []
   },
   "outputs": [],
   "source": [
    "# verify and count possible values in different columns\n",
    "\n",
    "#count_values_pts835 = pts835['ocs_n1_2015'].value_counts()\n",
    "#count_values_pts835 = pts835['ocs_n1_2020'].value_counts()\n",
    "#count_values_pts835 = pts835['ocs_n2_2015'].value_counts()\n",
    "#count_values_pts835 = pts835['ocs_n2_2020'].value_counts()\n",
    "#count_values_pts835 = pts835['kmeans'].value_counts()\n",
    "#count_values_pts835 = pts835['source'].value_counts()\n",
    "#print(count_values_pts835)"
   ]
  },
  {
   "cell_type": "code",
   "execution_count": null,
   "id": "61fc85f4-585b-46ba-9b3c-fef1e6e7e9f7",
   "metadata": {
    "tags": []
   },
   "outputs": [],
   "source": [
    "#pts3k.columns.to_list()\n",
    "\n",
    "#### land use IPCC categories 2015 (level 1) = 'ocs_n1_2015'\n",
    "#### land use national classes 2015 (level 2) = 'ocs_n2_2015'\n",
    "#### land use IPCC categories 2020 (level 1) = 'ocs_n1_2020'\n",
    "#### land use national classes 2020 (level 2) = 'ocs_n2_2020'\n",
    "\n",
    "### Columns of interest => 'point_id', 'ocs_n1_2015', 'ocs_n2_2015', 'ocs_n1_2020', 'ocs_n2_2020', 'kmeans', 'source'"
   ]
  },
  {
   "cell_type": "code",
   "execution_count": null,
   "id": "ef480934-e37a-4a2c-a39d-17ebd05f76ca",
   "metadata": {
    "tags": []
   },
   "outputs": [],
   "source": [
    "# verify and count possible values in different columns\n",
    "\n",
    "#count_values_pts3k = pts3k['ocs_n1_2015'].value_counts()\n",
    "#count_values_pts3k = pts3k['ocs_n1_2020'].value_counts()\n",
    "#count_values_pts3k = pts3k['ocs_n2_2015'].value_counts()\n",
    "#count_values_pts3k = pts3k['ocs_n2_2020'].value_counts()\n",
    "#count_values_pts3k = pts3k['kmeans'].value_counts()\n",
    "#count_values_pts3k = pts3k['source'].value_counts()\n",
    "#print(count_values_pts3k)"
   ]
  },
  {
   "cell_type": "code",
   "execution_count": null,
   "id": "6c218ac8-b6e7-4b82-813a-96dcdb1cc172",
   "metadata": {
    "tags": []
   },
   "outputs": [],
   "source": [
    "#erp4k.columns \n",
    "#erp4k.columns.to_list()\n",
    "#print(erp4k.head())\n"
   ]
  },
  {
   "cell_type": "code",
   "execution_count": 4,
   "id": "0ea4f29e-83dc-4b1a-984a-fa2cf7dba239",
   "metadata": {
    "tags": []
   },
   "outputs": [
    {
     "data": {
      "text/plain": [
       "Index(['point_id', 'PLOTID', 'lon', 'lat', 'chg_prob', 'kmeans', 'str_dal_ne',\n",
       "       'ID', 'phyto', 'def_year_1520', 'deg_year_1520', 'str_dal_FA',\n",
       "       'INT1_2000', 'INT1_n1_2000', 'INT1_n2_2000', 'INT1_2010',\n",
       "       'INT1_n1_2010', 'INT1_n2_2010', 'INT1_2015', 'ocs_n1_2015',\n",
       "       'ocs_n2_2015', 'INT1_2020', 'ocs_n1_2020', 'ocs_n2_2020', 'INT1_2021',\n",
       "       'INT1_n1_2021', 'INT1_n2_2021', 'CHG_00_10', 'CHG_10_15', 'CHG_15_20',\n",
       "       'CHG_20_21', 'Transition_00_10', 'Transition_10_15', 'Transition_15_20',\n",
       "       'Transition_20_21', 'Gain_Cohort', 'IC', 'COMMENT', 'Wetlands', 'CNC',\n",
       "       'chg_yr_1520', 'chg_1520', 'gain_1520', 'def_year2015', 'deg_year2015',\n",
       "       'def_year2016', 'deg_year2016', 'def_year2017', 'deg_year2017',\n",
       "       'def_year2018', 'deg_year2018', 'def_year2019', 'deg_year2019',\n",
       "       'def_year2020', 'deg_year2020', 'gain_year2015', 'gain_year2016',\n",
       "       'gain_year2017', 'gain_year2018', 'gain_year2019', 'gain_year2020',\n",
       "       'source'],\n",
       "      dtype='object')"
      ]
     },
     "execution_count": 4,
     "metadata": {},
     "output_type": "execute_result"
    }
   ],
   "source": [
    "# add column 'source'\n",
    "erp4k['source']= 'CEOERP'\n",
    "\n",
    "# rename land use categories column \n",
    "#### land use IPCC categories 2015 (level 1 or niveau 1) = 'INT1_n1_2015'\n",
    "#### land use national classes 2015 (level 2 or niveau 2) = 'INT1_n2_2015'\n",
    "#### land use IPCC categories 2020 (level 1 or niveau 1) = 'INT1_n1_2020'\n",
    "#### land use national classes 2020 (level 2 or niveau 2) = 'INT1_n2_2020'\n",
    "erp4k.rename(columns={'INT1_n1_2015':'ocs_n1_2015'}, inplace=True)\n",
    "erp4k.rename(columns={'INT1_n2_2015':'ocs_n2_2015'}, inplace=True)\n",
    "erp4k.rename(columns={'INT1_n1_2020':'ocs_n1_2020'}, inplace=True)\n",
    "erp4k.rename(columns={'INT1_n2_2020':'ocs_n2_2020'}, inplace=True)\n",
    "erp4k.rename(columns={'LON':'lon'}, inplace=True)\n",
    "erp4k.rename(columns={'LAT':'lat'}, inplace=True)\n",
    "erp4k.columns"
   ]
  },
  {
   "cell_type": "code",
   "execution_count": null,
   "id": "ca079782-b93b-488b-bfed-138ca6db34c0",
   "metadata": {
    "tags": []
   },
   "outputs": [],
   "source": [
    "#duplicated = erp4k['point_id'].duplicated().any() \n",
    "#if duplicated:\n",
    "#    print (\"problem\")\n",
    "#else:\n",
    "#    print (\"all good\")"
   ]
  },
  {
   "cell_type": "code",
   "execution_count": null,
   "id": "a0317c52-11d9-40cb-a9ce-a1c091dec77d",
   "metadata": {
    "tags": []
   },
   "outputs": [],
   "source": [
    "# verify and count possible values in different columns\n",
    "\n",
    "#count_values_erp4k = erp4k['ocs_n1_2015'].value_counts()\n",
    "#count_values_erp4k = erp4k['ocs_n1_2020'].value_counts()\n",
    "#count_values_erp4k = erp4k['ocs_n2_2020'].value_counts()\n",
    "#count_values_erp4k = erp4k['ocs_n2_2020'].value_counts()\n",
    "#count_values_erp4k = erp4k['kmeans'].value_counts()\n",
    "#count_values_erp4k = erp4k['source'].value_counts()\n",
    "#print(count_values_erp4k)"
   ]
  },
  {
   "cell_type": "code",
   "execution_count": null,
   "id": "ec5d8c3f-9201-4e69-ae9e-7c32dceb961b",
   "metadata": {
    "tags": []
   },
   "outputs": [],
   "source": [
    "#### transition matrix level 1 - 4k pts ERP\n",
    "\n",
    "#tmatrix = pd.pivot_table(erp4k,values='source',index=['ocs_n1_2015'],columns=['ocs_n1_2020'],aggfunc=\"count\")\n",
    "#tmatrix"
   ]
  },
  {
   "cell_type": "code",
   "execution_count": null,
   "id": "8a45a950-9983-4337-a19e-b981c7d80e90",
   "metadata": {
    "tags": []
   },
   "outputs": [],
   "source": [
    "#### transition matrix level 2 - 4k pts ERP\n",
    "\n",
    "#tmatrix = pd.pivot_table(erp4k,values='source',index=['ocs_n2_2015'],columns=['ocs_n2_2020'],aggfunc=\"count\")\n",
    "#tmatrix\n",
    "\n",
    "# folder path to export data + file name\n",
    "#file_export = '/home/sepal-user/eSBAE_CIV/data/tmatrixERP.xlsx'\n",
    "#tmatrix.to_excel(file_export, index=False)"
   ]
  },
  {
   "cell_type": "code",
   "execution_count": null,
   "id": "8c98772c-483c-4e39-a62d-d7987cdd78cc",
   "metadata": {
    "tags": []
   },
   "outputs": [],
   "source": [
    "#### transition matrix level 2 - 4k pts ERP\n",
    "\n",
    "#tmatrix = pd.pivot_table(erp4k,values='source',index=['ocs_n1_2020'],columns=['ocs_n2_2020'],aggfunc=\"count\")\n",
    "#tmatrix"
   ]
  },
  {
   "cell_type": "markdown",
   "id": "18d9dcc3-5737-4cd6-b0d7-614bb1010655",
   "metadata": {},
   "source": [
    "## 3.2. Merge all CEO files into a new dataframe = 8300 points"
   ]
  },
  {
   "cell_type": "code",
   "execution_count": 5,
   "id": "e102b09e-0b28-476e-881b-4faec80f3b55",
   "metadata": {
    "tags": []
   },
   "outputs": [
    {
     "data": {
      "text/plain": [
       "point_id          object\n",
       "PLOTID            object\n",
       "lon              float64\n",
       "lat              float64\n",
       "chg_prob          object\n",
       "                  ...   \n",
       "gain_year2017      int64\n",
       "gain_year2018      int64\n",
       "gain_year2019      int64\n",
       "gain_year2020      int64\n",
       "source            object\n",
       "Length: 62, dtype: object"
      ]
     },
     "execution_count": 5,
     "metadata": {},
     "output_type": "execute_result"
    }
   ],
   "source": [
    "erp4k.dtypes\n",
    "#pts835.dtypes\n",
    "#pts3k.dtypes"
   ]
  },
  {
   "cell_type": "code",
   "execution_count": 6,
   "id": "c604e493-9399-4858-998d-b6a14fb80375",
   "metadata": {
    "tags": []
   },
   "outputs": [],
   "source": [
    "erp4k_clean = erp4k[erp4k['point_id'] != 'z']\n",
    "#len(erp4k) # = 3999\n",
    "#len(erp4k_clean)  #=3998                                              "
   ]
  },
  {
   "cell_type": "code",
   "execution_count": 7,
   "id": "75f450a3-e51c-4551-a36e-885caa822f1d",
   "metadata": {
    "tags": []
   },
   "outputs": [
    {
     "name": "stderr",
     "output_type": "stream",
     "text": [
      "/tmp/ipykernel_440/2597961190.py:1: SettingWithCopyWarning: \n",
      "A value is trying to be set on a copy of a slice from a DataFrame.\n",
      "Try using .loc[row_indexer,col_indexer] = value instead\n",
      "\n",
      "See the caveats in the documentation: https://pandas.pydata.org/pandas-docs/stable/user_guide/indexing.html#returning-a-view-versus-a-copy\n",
      "  erp4k_clean['point_id'] = erp4k_clean['point_id'].astype('int64')\n"
     ]
    }
   ],
   "source": [
    "erp4k_clean['point_id'] = erp4k_clean['point_id'].astype('int64')"
   ]
  },
  {
   "cell_type": "code",
   "execution_count": 8,
   "id": "812d74da-9756-495e-a985-b31f57314062",
   "metadata": {
    "tags": []
   },
   "outputs": [],
   "source": [
    "##### identifier les colonnes essentielles de CEO\n",
    "harm_cols = ['point_id', 'ocs_n1_2015', 'ocs_n2_2015', 'ocs_n1_2020', 'ocs_n2_2020', 'kmeans', 'source']"
   ]
  },
  {
   "cell_type": "code",
   "execution_count": 9,
   "id": "a2c15582-736c-425f-8c4e-c9154ab4dc33",
   "metadata": {
    "tags": []
   },
   "outputs": [],
   "source": [
    "### Concatener les deux tables\n",
    "#merged_NERP = pd.concat([pts835[harm_cols],pts3k[harm_cols]], axis=0, ignore_index=True)"
   ]
  },
  {
   "cell_type": "code",
   "execution_count": 10,
   "id": "5f355e03-f975-4b52-9012-2b87bd352d07",
   "metadata": {
    "tags": []
   },
   "outputs": [
    {
     "data": {
      "text/plain": [
       "8300"
      ]
     },
     "execution_count": 10,
     "metadata": {},
     "output_type": "execute_result"
    }
   ],
   "source": [
    "### Concatener les deux tables\n",
    "dfconcatCEOfull_db = pd.concat([pts835[harm_cols],pts3k[harm_cols], erp4k_clean[harm_cols]], axis=0, ignore_index=True)\n",
    "len(dfconcatCEOfull_db) # = 8300"
   ]
  },
  {
   "cell_type": "code",
   "execution_count": null,
   "id": "6b809780-f301-4aa7-b2e9-e498c95ee7c6",
   "metadata": {
    "tags": []
   },
   "outputs": [],
   "source": [
    "dfconcatCEOfull_db.columns.to_list()"
   ]
  },
  {
   "cell_type": "code",
   "execution_count": 11,
   "id": "ddfac902-6895-4860-91e4-5c184686cdec",
   "metadata": {
    "tags": []
   },
   "outputs": [
    {
     "name": "stdout",
     "output_type": "stream",
     "text": [
      "problem\n"
     ]
    }
   ],
   "source": [
    "duplicado = dfconcatCEOfull_db['point_id'].duplicated().any() \n",
    "if duplicado:\n",
    "    print (\"problem\")\n",
    "else:\n",
    "    print (\"all good\")"
   ]
  },
  {
   "cell_type": "code",
   "execution_count": 12,
   "id": "3dd50e63-e104-445d-b0f2-b2ff34233105",
   "metadata": {
    "tags": []
   },
   "outputs": [
    {
     "name": "stdout",
     "output_type": "stream",
     "text": [
      "      point_id          ocs_n1_2015                   ocs_n2_2015  \\\n",
      "136     155643     Terres cultivees                      Anacarde   \n",
      "427      72898   Terres forestieres                   Foret dense   \n",
      "544     200349  Terres gramineennes                Savane arboree   \n",
      "624     275438     Terres cultivees          Amenagement agricole   \n",
      "825     289002     Terres cultivees             Jachere ou fourre   \n",
      "841        230   Terres forestieres  Foret secondaire ou degradee   \n",
      "900       2682     Terres cultivees             Jachere ou fourre   \n",
      "1636     72898   Terres forestieres                   Foret dense   \n",
      "2389    155643     Terres cultivees                      Anacarde   \n",
      "2792    200349  Terres gramineennes                Savane arboree   \n",
      "3603    275438  Terres gramineennes              Savane arbustive   \n",
      "3792    289002     Terres cultivees                         Hevea   \n",
      "5515       230   Terres forestieres              Foret secondaire   \n",
      "5613      2682     Terres cultivees                         Cacao   \n",
      "\n",
      "              ocs_n1_2020           ocs_n2_2020  kmeans   source  \n",
      "136      Terres cultivees              Anacarde       2   CEO835  \n",
      "427      Terres cultivees  Amenagement agricole       0   CEO835  \n",
      "544   Terres gramineennes        Savane arboree       0   CEO835  \n",
      "624      Terres cultivees  Amenagement agricole       0   CEO835  \n",
      "825      Terres cultivees     Jachere ou fourre       1   CEO835  \n",
      "841      Terres cultivees  Amenagement agricole       0  CEO3467  \n",
      "900      Terres cultivees  Amenagement agricole       2  CEO3467  \n",
      "1636   Terres forestieres           Foret dense       0  CEO3467  \n",
      "2389     Terres cultivees              Anacarde       2  CEO3467  \n",
      "2792  Terres gramineennes        Savane arboree       1  CEO3467  \n",
      "3603  Terres gramineennes      Savane arbustive       1  CEO3467  \n",
      "3792     Terres cultivees                 Hevea       2  CEO3467  \n",
      "5515     Terres cultivees                 Cacao       1   CEOERP  \n",
      "5613     Terres cultivees                 Cacao       1   CEOERP  \n"
     ]
    }
   ],
   "source": [
    "doublonsCEO = dfconcatCEOfull_db[dfconcatCEOfull_db.duplicated(subset='point_id', keep=False)]\n",
    "print(doublonsCEO)"
   ]
  },
  {
   "cell_type": "code",
   "execution_count": 13,
   "id": "621ddd52-30b0-486c-bab5-994aa7a0b66d",
   "metadata": {
    "tags": []
   },
   "outputs": [
    {
     "name": "stdout",
     "output_type": "stream",
     "text": [
      "doublon\n",
      "no     8295\n",
      "yes       5\n",
      "Name: count, dtype: int64\n"
     ]
    }
   ],
   "source": [
    "dfconcatCEOfull_db['doublon'] = 'no'\n",
    "dfconcatCEOfull_db['doublon'] = np.where((dfconcatCEOfull_db['point_id'] == 155643) & (dfconcatCEOfull_db['source'] == 'CEO3467'), 'yes', dfconcatCEOfull_db['doublon'])\n",
    "dfconcatCEOfull_db['doublon'] = np.where((dfconcatCEOfull_db['point_id'] == 72898) & (dfconcatCEOfull_db['source'] == 'CEO3467'), 'yes', dfconcatCEOfull_db['doublon'])\n",
    "dfconcatCEOfull_db['doublon'] = np.where((dfconcatCEOfull_db['point_id'] == 200349) & (dfconcatCEOfull_db['source'] == 'CEO3467'), 'yes', dfconcatCEOfull_db['doublon'])\n",
    "dfconcatCEOfull_db['doublon'] = np.where((dfconcatCEOfull_db['point_id'] == 275438) & (dfconcatCEOfull_db['source'] == 'CEO3467'), 'yes', dfconcatCEOfull_db['doublon'])\n",
    "dfconcatCEOfull_db['doublon'] = np.where((dfconcatCEOfull_db['point_id'] == 289002) & (dfconcatCEOfull_db['source'] == 'CEO3467'), 'yes', dfconcatCEOfull_db['doublon'])\n",
    "\n",
    "count_values_doublon = dfconcatCEOfull_db['doublon'].value_counts()\n",
    "print(count_values_doublon)"
   ]
  },
  {
   "cell_type": "code",
   "execution_count": 14,
   "id": "5a964e56-7695-4232-8108-58a9873f37a3",
   "metadata": {
    "tags": []
   },
   "outputs": [
    {
     "data": {
      "text/plain": [
       "8295"
      ]
     },
     "execution_count": 14,
     "metadata": {},
     "output_type": "execute_result"
    }
   ],
   "source": [
    "dfconcatCEOfull = dfconcatCEOfull_db[dfconcatCEOfull_db['doublon'] == 'no']\n",
    "len(dfconcatCEOfull)"
   ]
  },
  {
   "cell_type": "code",
   "execution_count": 15,
   "id": "34f507bf-a7bc-4516-80a9-8515b91e581e",
   "metadata": {
    "tags": []
   },
   "outputs": [
    {
     "name": "stdout",
     "output_type": "stream",
     "text": [
      "redd_n1\n",
      "SNF      6219\n",
      "SF       1532\n",
      "SDegF     301\n",
      "Def       203\n",
      "Deg        21\n",
      "Gain       19\n",
      "Name: count, dtype: int64\n"
     ]
    },
    {
     "name": "stderr",
     "output_type": "stream",
     "text": [
      "/tmp/ipykernel_440/3600028324.py:4: SettingWithCopyWarning: \n",
      "A value is trying to be set on a copy of a slice from a DataFrame.\n",
      "Try using .loc[row_indexer,col_indexer] = value instead\n",
      "\n",
      "See the caveats in the documentation: https://pandas.pydata.org/pandas-docs/stable/user_guide/indexing.html#returning-a-view-versus-a-copy\n",
      "  dfconcatCEOfull['redd_n1'] = 'problem'\n",
      "/tmp/ipykernel_440/3600028324.py:7: SettingWithCopyWarning: \n",
      "A value is trying to be set on a copy of a slice from a DataFrame.\n",
      "Try using .loc[row_indexer,col_indexer] = value instead\n",
      "\n",
      "See the caveats in the documentation: https://pandas.pydata.org/pandas-docs/stable/user_guide/indexing.html#returning-a-view-versus-a-copy\n",
      "  dfconcatCEOfull['redd_n1'] = np.where((dfconcatCEOfull['ocs_n1_2015'] == 'Terres forestieres') & (dfconcatCEOfull['ocs_n1_2020'] != 'Terres forestieres'), 'Def', dfconcatCEOfull['redd_n1'])\n",
      "/tmp/ipykernel_440/3600028324.py:8: SettingWithCopyWarning: \n",
      "A value is trying to be set on a copy of a slice from a DataFrame.\n",
      "Try using .loc[row_indexer,col_indexer] = value instead\n",
      "\n",
      "See the caveats in the documentation: https://pandas.pydata.org/pandas-docs/stable/user_guide/indexing.html#returning-a-view-versus-a-copy\n",
      "  dfconcatCEOfull['redd_n1'] = np.where((dfconcatCEOfull['ocs_n1_2015'] != 'Terres forestieres') & (dfconcatCEOfull['ocs_n1_2020'] == 'Terres forestieres'), 'Gain', dfconcatCEOfull['redd_n1'])\n",
      "/tmp/ipykernel_440/3600028324.py:9: SettingWithCopyWarning: \n",
      "A value is trying to be set on a copy of a slice from a DataFrame.\n",
      "Try using .loc[row_indexer,col_indexer] = value instead\n",
      "\n",
      "See the caveats in the documentation: https://pandas.pydata.org/pandas-docs/stable/user_guide/indexing.html#returning-a-view-versus-a-copy\n",
      "  dfconcatCEOfull['redd_n1'] = np.where((dfconcatCEOfull['ocs_n1_2015'] == 'Terres forestieres') & (dfconcatCEOfull['ocs_n1_2020'] == 'Terres forestieres'), 'SF', dfconcatCEOfull['redd_n1'])\n",
      "/tmp/ipykernel_440/3600028324.py:10: SettingWithCopyWarning: \n",
      "A value is trying to be set on a copy of a slice from a DataFrame.\n",
      "Try using .loc[row_indexer,col_indexer] = value instead\n",
      "\n",
      "See the caveats in the documentation: https://pandas.pydata.org/pandas-docs/stable/user_guide/indexing.html#returning-a-view-versus-a-copy\n",
      "  dfconcatCEOfull['redd_n1'] = np.where((dfconcatCEOfull['ocs_n1_2015'] != 'Terres forestieres') & (dfconcatCEOfull['ocs_n1_2020'] != 'Terres forestieres'), 'SNF', dfconcatCEOfull['redd_n1'])\n",
      "/tmp/ipykernel_440/3600028324.py:13: SettingWithCopyWarning: \n",
      "A value is trying to be set on a copy of a slice from a DataFrame.\n",
      "Try using .loc[row_indexer,col_indexer] = value instead\n",
      "\n",
      "See the caveats in the documentation: https://pandas.pydata.org/pandas-docs/stable/user_guide/indexing.html#returning-a-view-versus-a-copy\n",
      "  dfconcatCEOfull['redd_n1'] = np.where((dfconcatCEOfull['ocs_n1_2015'] == 'Terres forestieres') & (dfconcatCEOfull['ocs_n2_2020'] == 'Foret secondaire ou degradee'), 'Deg', dfconcatCEOfull['redd_n1'])\n",
      "/tmp/ipykernel_440/3600028324.py:15: SettingWithCopyWarning: \n",
      "A value is trying to be set on a copy of a slice from a DataFrame.\n",
      "Try using .loc[row_indexer,col_indexer] = value instead\n",
      "\n",
      "See the caveats in the documentation: https://pandas.pydata.org/pandas-docs/stable/user_guide/indexing.html#returning-a-view-versus-a-copy\n",
      "  dfconcatCEOfull['redd_n1'] = np.where((dfconcatCEOfull['ocs_n1_2015'] == 'Terres forestieres') & (dfconcatCEOfull['ocs_n2_2020'] == 'Foret secondaire'), 'Deg', dfconcatCEOfull['redd_n1'])\n",
      "/tmp/ipykernel_440/3600028324.py:17: SettingWithCopyWarning: \n",
      "A value is trying to be set on a copy of a slice from a DataFrame.\n",
      "Try using .loc[row_indexer,col_indexer] = value instead\n",
      "\n",
      "See the caveats in the documentation: https://pandas.pydata.org/pandas-docs/stable/user_guide/indexing.html#returning-a-view-versus-a-copy\n",
      "  dfconcatCEOfull['redd_n1'] = np.where((dfconcatCEOfull['ocs_n2_2015'] == 'Foret secondaire') & (dfconcatCEOfull['ocs_n2_2020'] == 'Plantation agroforestiere'), 'Deg', dfconcatCEOfull['redd_n1'])\n",
      "/tmp/ipykernel_440/3600028324.py:18: SettingWithCopyWarning: \n",
      "A value is trying to be set on a copy of a slice from a DataFrame.\n",
      "Try using .loc[row_indexer,col_indexer] = value instead\n",
      "\n",
      "See the caveats in the documentation: https://pandas.pydata.org/pandas-docs/stable/user_guide/indexing.html#returning-a-view-versus-a-copy\n",
      "  dfconcatCEOfull['redd_n1'] = np.where((dfconcatCEOfull['ocs_n2_2015'] == 'Foret dense') & (dfconcatCEOfull['ocs_n2_2020'] == 'Plantation agroforestiere'), 'Deg', dfconcatCEOfull['redd_n1'])\n",
      "/tmp/ipykernel_440/3600028324.py:21: SettingWithCopyWarning: \n",
      "A value is trying to be set on a copy of a slice from a DataFrame.\n",
      "Try using .loc[row_indexer,col_indexer] = value instead\n",
      "\n",
      "See the caveats in the documentation: https://pandas.pydata.org/pandas-docs/stable/user_guide/indexing.html#returning-a-view-versus-a-copy\n",
      "  dfconcatCEOfull['redd_n1'] = np.where((dfconcatCEOfull['ocs_n2_2015'] == 'Foret secondaire') & (dfconcatCEOfull['ocs_n2_2020'] == 'Foret secondaire'), 'SDegF', dfconcatCEOfull['redd_n1'])\n",
      "/tmp/ipykernel_440/3600028324.py:22: SettingWithCopyWarning: \n",
      "A value is trying to be set on a copy of a slice from a DataFrame.\n",
      "Try using .loc[row_indexer,col_indexer] = value instead\n",
      "\n",
      "See the caveats in the documentation: https://pandas.pydata.org/pandas-docs/stable/user_guide/indexing.html#returning-a-view-versus-a-copy\n",
      "  dfconcatCEOfull['redd_n1'] = np.where((dfconcatCEOfull['ocs_n2_2015'] == 'Foret secondaire ou degradee') & (dfconcatCEOfull['ocs_n2_2020'] == 'Foret secondaire ou degradee'), 'SDegF', dfconcatCEOfull['redd_n1'])\n"
     ]
    }
   ],
   "source": [
    "##create our classes/redd activities/target column that contains the classes for which you want to get the area estimations ('column of interest')\n",
    "##Create category column == target column == column of interest\n",
    "\n",
    "dfconcatCEOfull['redd_n1'] = 'problem'\n",
    "\n",
    "#IPCC categories level\n",
    "dfconcatCEOfull['redd_n1'] = np.where((dfconcatCEOfull['ocs_n1_2015'] == 'Terres forestieres') & (dfconcatCEOfull['ocs_n1_2020'] != 'Terres forestieres'), 'Def', dfconcatCEOfull['redd_n1'])\n",
    "dfconcatCEOfull['redd_n1'] = np.where((dfconcatCEOfull['ocs_n1_2015'] != 'Terres forestieres') & (dfconcatCEOfull['ocs_n1_2020'] == 'Terres forestieres'), 'Gain', dfconcatCEOfull['redd_n1'])\n",
    "dfconcatCEOfull['redd_n1'] = np.where((dfconcatCEOfull['ocs_n1_2015'] == 'Terres forestieres') & (dfconcatCEOfull['ocs_n1_2020'] == 'Terres forestieres'), 'SF', dfconcatCEOfull['redd_n1'])\n",
    "dfconcatCEOfull['redd_n1'] = np.where((dfconcatCEOfull['ocs_n1_2015'] != 'Terres forestieres') & (dfconcatCEOfull['ocs_n1_2020'] != 'Terres forestieres'), 'SNF', dfconcatCEOfull['redd_n1'])\n",
    "\n",
    "#new degradation from level 2 (national classes - NERP)\n",
    "dfconcatCEOfull['redd_n1'] = np.where((dfconcatCEOfull['ocs_n1_2015'] == 'Terres forestieres') & (dfconcatCEOfull['ocs_n2_2020'] == 'Foret secondaire ou degradee'), 'Deg', dfconcatCEOfull['redd_n1'])\n",
    "#new degradation from level 2 (national classes - ERP)\n",
    "dfconcatCEOfull['redd_n1'] = np.where((dfconcatCEOfull['ocs_n1_2015'] == 'Terres forestieres') & (dfconcatCEOfull['ocs_n2_2020'] == 'Foret secondaire'), 'Deg', dfconcatCEOfull['redd_n1'])\n",
    "#deg forêt naturelles --> agroforêt (01/12/23)\n",
    "dfconcatCEOfull['redd_n1'] = np.where((dfconcatCEOfull['ocs_n2_2015'] == 'Foret secondaire') & (dfconcatCEOfull['ocs_n2_2020'] == 'Plantation agroforestiere'), 'Deg', dfconcatCEOfull['redd_n1'])\n",
    "dfconcatCEOfull['redd_n1'] = np.where((dfconcatCEOfull['ocs_n2_2015'] == 'Foret dense') & (dfconcatCEOfull['ocs_n2_2020'] == 'Plantation agroforestiere'), 'Deg', dfconcatCEOfull['redd_n1'])\n",
    "\n",
    "#superficie stable de forêt dégradée (hypothèse dans les calculs sera que pertes et gains sont en équilibre, donc émissions nettes = 0)\n",
    "dfconcatCEOfull['redd_n1'] = np.where((dfconcatCEOfull['ocs_n2_2015'] == 'Foret secondaire') & (dfconcatCEOfull['ocs_n2_2020'] == 'Foret secondaire'), 'SDegF', dfconcatCEOfull['redd_n1'])\n",
    "dfconcatCEOfull['redd_n1'] = np.where((dfconcatCEOfull['ocs_n2_2015'] == 'Foret secondaire ou degradee') & (dfconcatCEOfull['ocs_n2_2020'] == 'Foret secondaire ou degradee'), 'SDegF', dfconcatCEOfull['redd_n1'])\n",
    "\n",
    "count_values_dfconcatCEOfull = dfconcatCEOfull['redd_n1'].value_counts()\n",
    "print(count_values_dfconcatCEOfull)"
   ]
  },
  {
   "cell_type": "code",
   "execution_count": null,
   "id": "df882444-ea46-489b-bb7c-f5a330eec445",
   "metadata": {
    "tags": []
   },
   "outputs": [],
   "source": [
    "#df_problem = dfconcatCEOfull[dfconcatCEOfull['redd_n1'] == 'Deg']\n",
    "#df_problem"
   ]
  },
  {
   "cell_type": "code",
   "execution_count": 19,
   "id": "a3ab5d68-75c9-4636-b07e-be7341dd6fad",
   "metadata": {
    "tags": []
   },
   "outputs": [],
   "source": [
    "# folder path to export data + file name\n",
    "#file_export = '/home/sepal-user/eSBAE_CIV/data/merged_NERP.xlsx'\n",
    "#merged_NERP.to_excel(file_export, index=False)\n",
    "\n",
    "#dfconcatCEOfull.to_csv('/home/sepal-user/eSBAE_CIV/results/dfconcatCEOfull.csv',index=False)"
   ]
  },
  {
   "cell_type": "code",
   "execution_count": 20,
   "id": "012ab3e4-e8a8-4102-853a-9408e0f1be28",
   "metadata": {
    "tags": []
   },
   "outputs": [
    {
     "data": {
      "text/html": [
       "<div>\n",
       "<style scoped>\n",
       "    .dataframe tbody tr th:only-of-type {\n",
       "        vertical-align: middle;\n",
       "    }\n",
       "\n",
       "    .dataframe tbody tr th {\n",
       "        vertical-align: top;\n",
       "    }\n",
       "\n",
       "    .dataframe thead th {\n",
       "        text-align: right;\n",
       "    }\n",
       "</style>\n",
       "<table border=\"1\" class=\"dataframe\">\n",
       "  <thead>\n",
       "    <tr style=\"text-align: right;\">\n",
       "      <th>ocs_n1_2020</th>\n",
       "      <th>Autres terres</th>\n",
       "      <th>Etablissement humain</th>\n",
       "      <th>Terres cultivees</th>\n",
       "      <th>Terres forestieres</th>\n",
       "      <th>Terres gramineennes</th>\n",
       "      <th>Terres humides</th>\n",
       "    </tr>\n",
       "    <tr>\n",
       "      <th>redd_n1</th>\n",
       "      <th></th>\n",
       "      <th></th>\n",
       "      <th></th>\n",
       "      <th></th>\n",
       "      <th></th>\n",
       "      <th></th>\n",
       "    </tr>\n",
       "  </thead>\n",
       "  <tbody>\n",
       "    <tr>\n",
       "      <th>Def</th>\n",
       "      <td>NaN</td>\n",
       "      <td>4.0</td>\n",
       "      <td>177.0</td>\n",
       "      <td>NaN</td>\n",
       "      <td>21.0</td>\n",
       "      <td>1.0</td>\n",
       "    </tr>\n",
       "    <tr>\n",
       "      <th>Deg</th>\n",
       "      <td>NaN</td>\n",
       "      <td>NaN</td>\n",
       "      <td>NaN</td>\n",
       "      <td>21.0</td>\n",
       "      <td>NaN</td>\n",
       "      <td>NaN</td>\n",
       "    </tr>\n",
       "    <tr>\n",
       "      <th>Gain</th>\n",
       "      <td>NaN</td>\n",
       "      <td>NaN</td>\n",
       "      <td>NaN</td>\n",
       "      <td>19.0</td>\n",
       "      <td>NaN</td>\n",
       "      <td>NaN</td>\n",
       "    </tr>\n",
       "    <tr>\n",
       "      <th>SDegF</th>\n",
       "      <td>NaN</td>\n",
       "      <td>NaN</td>\n",
       "      <td>NaN</td>\n",
       "      <td>301.0</td>\n",
       "      <td>NaN</td>\n",
       "      <td>NaN</td>\n",
       "    </tr>\n",
       "    <tr>\n",
       "      <th>SF</th>\n",
       "      <td>NaN</td>\n",
       "      <td>NaN</td>\n",
       "      <td>NaN</td>\n",
       "      <td>1532.0</td>\n",
       "      <td>NaN</td>\n",
       "      <td>NaN</td>\n",
       "    </tr>\n",
       "    <tr>\n",
       "      <th>SNF</th>\n",
       "      <td>20.0</td>\n",
       "      <td>98.0</td>\n",
       "      <td>4844.0</td>\n",
       "      <td>NaN</td>\n",
       "      <td>1106.0</td>\n",
       "      <td>151.0</td>\n",
       "    </tr>\n",
       "  </tbody>\n",
       "</table>\n",
       "</div>"
      ],
      "text/plain": [
       "ocs_n1_2020  Autres terres  Etablissement humain  Terres cultivees  \\\n",
       "redd_n1                                                              \n",
       "Def                    NaN                   4.0             177.0   \n",
       "Deg                    NaN                   NaN               NaN   \n",
       "Gain                   NaN                   NaN               NaN   \n",
       "SDegF                  NaN                   NaN               NaN   \n",
       "SF                     NaN                   NaN               NaN   \n",
       "SNF                   20.0                  98.0            4844.0   \n",
       "\n",
       "ocs_n1_2020  Terres forestieres  Terres gramineennes  Terres humides  \n",
       "redd_n1                                                               \n",
       "Def                         NaN                 21.0             1.0  \n",
       "Deg                        21.0                  NaN             NaN  \n",
       "Gain                       19.0                  NaN             NaN  \n",
       "SDegF                     301.0                  NaN             NaN  \n",
       "SF                       1532.0                  NaN             NaN  \n",
       "SNF                         NaN               1106.0           151.0  "
      ]
     },
     "execution_count": 20,
     "metadata": {},
     "output_type": "execute_result"
    }
   ],
   "source": [
    "#### transition matrix level 1\n",
    "tmatrix = pd.pivot_table(dfconcatCEOfull,values='source',index=['redd_n1'],columns=['ocs_n1_2020'],aggfunc=\"count\")\n",
    "tmatrix"
   ]
  },
  {
   "cell_type": "code",
   "execution_count": null,
   "id": "02576d6e-a83c-4cb9-bfb0-ba3d921cd8a1",
   "metadata": {
    "tags": []
   },
   "outputs": [],
   "source": [
    "#### transition matrix level 2\n",
    "\n",
    "#tmatrix = pd.pivot_table(dfconcatCEOfull,values='source',index=['ocs_n2_2015'],columns=['ocs_n2_2020'],aggfunc=\"count\")\n",
    "#tmatrix"
   ]
  },
  {
   "cell_type": "code",
   "execution_count": 16,
   "id": "a223bf3f-9f9f-477d-8aec-8e4330649312",
   "metadata": {
    "tags": []
   },
   "outputs": [],
   "source": [
    "column_of_interest = 'redd_n1' # your classes/redd activities/target column that contains the classes for which you want to get the area estimations"
   ]
  },
  {
   "cell_type": "markdown",
   "id": "5adfa18e-a86a-4e1c-ac8d-ae20b4321d09",
   "metadata": {},
   "source": [
    "# 4. Load national grid\n",
    "##### the country 1km grid csv or gpkg file with all the points and columns including strata or kmeans, chg_prob etc.. \n",
    "##### For Ivory Coast we have 325631 points "
   ]
  },
  {
   "cell_type": "code",
   "execution_count": null,
   "id": "579e3bac-9830-436a-9dd7-dfd5c1ed72c8",
   "metadata": {
    "tags": []
   },
   "outputs": [],
   "source": [
    "#df320k = gpd.read_file('/home/sepal-user/eSBAE_CIV/data/grid/cote_ivoire_all_classified_20231114.gpkg')\n",
    "#df320k.to_parquet('/home/sepal-user/module_results/esbae/Cote_Ivoire_MRV/cote_ivoire_all_classified_20231114.parquet')\n",
    "#df320k = gpd.read_file('/home/sepal-user/eSBAE_CIV/data/grid/320K.csv') ### USE THIS ONE IF NEED TO REPRODUCE\n",
    "\n",
    "#db_light = df320k[['point_id','images','lon','lat',\n",
    "#                   'cnc_1520','cnc_2022', 'CNC_ceo', 'FNF_2015', 'FNF_2022', 'database', \n",
    "#                   'fnf_prob_2015', 'fnf_prob_2022', 'fnf_max_prob', 'chg_prob',\n",
    "#                   'simple_combined', 'multiplied', 'kmeans_chgprob', 'kmeans_simcom','kmeans_multi']]\n",
    "#db_light.to_csv('/home/sepal-user/eSBAE_CIV/data/grid/bdd_320K_noTS.csv',index=False)"
   ]
  },
  {
   "cell_type": "code",
   "execution_count": 17,
   "id": "b269fca1-a75f-4ad7-bfd3-fb3b668aa9c4",
   "metadata": {
    "tags": []
   },
   "outputs": [
    {
     "name": "stdout",
     "output_type": "stream",
     "text": [
      "325631\n",
      "Index(['point_id', 'images', 'lon', 'lat', 'cnc_1520', 'cnc_2022', 'CNC_ceo',\n",
      "       'FNF_2015', 'FNF_2022', 'database', 'fnf_prob_2015', 'fnf_prob_2022',\n",
      "       'fnf_max_prob', 'chg_prob', 'simple_combined', 'multiplied',\n",
      "       'kmeans_chgprob', 'kmeans_simcom', 'kmeans_multi', 'geometry'],\n",
      "      dtype='object')\n"
     ]
    }
   ],
   "source": [
    "df320k = gpd.read_file('/home/sepal-user/eSBAE_CIV/data/grid/bdd_320K_noTS.csv')\n",
    "\n",
    "print(len(df320k))\n",
    "print(df320k.columns)"
   ]
  },
  {
   "cell_type": "code",
   "execution_count": 18,
   "id": "57f22431-2633-469e-8f8d-fca337badff4",
   "metadata": {
    "tags": []
   },
   "outputs": [],
   "source": [
    "## verify column type before merge\n",
    "#df320k.dtypes\n",
    "df320k['point_id'] = df320k['point_id'].astype('int64')"
   ]
  },
  {
   "cell_type": "code",
   "execution_count": null,
   "id": "d0ac3bce-f431-410d-9975-1a5c34e4c179",
   "metadata": {
    "tags": []
   },
   "outputs": [],
   "source": [
    "#df320k.head()"
   ]
  },
  {
   "cell_type": "code",
   "execution_count": null,
   "id": "115a85ba-3c36-4a25-83be-37efd1c3bc66",
   "metadata": {
    "tags": []
   },
   "outputs": [],
   "source": [
    "# List all columns \n",
    "#df320k.columns.tolist()"
   ]
  },
  {
   "cell_type": "markdown",
   "id": "8fa0a4bd-bc3b-4d43-b9ae-8d212c8d5bbd",
   "metadata": {},
   "source": [
    "##### Import grid with ERP/NERP info and phytogeographic zones = 325,631 pts\n",
    "###### ERP grid = 46,421 pts\n",
    "###### NERP grid = 279,210 pts"
   ]
  },
  {
   "cell_type": "code",
   "execution_count": 21,
   "id": "c7876ba1-56bd-4dcb-b320-5865db71a0c0",
   "metadata": {
    "tags": []
   },
   "outputs": [
    {
     "data": {
      "text/plain": [
       "325631"
      ]
     },
     "execution_count": 21,
     "metadata": {},
     "output_type": "execute_result"
    }
   ],
   "source": [
    "# import grid with PRE zone (y/n) and phyto zone information (ombrophile, mesophile, sub-soudanais et soudanais)\n",
    "df320k_erp_phytos = gpd.read_file('/home/sepal-user/eSBAE_CIV/data/grid/GRID_CIV1km_ERP_phytoiffn_phytoCSV.csv') ##csv grid with ERP/NERP + 2 phyto zones\n",
    "len(df320k_erp_phytos)"
   ]
  },
  {
   "cell_type": "code",
   "execution_count": 22,
   "id": "2e05527a-ee29-43d0-8f09-44d087df178d",
   "metadata": {
    "tags": []
   },
   "outputs": [],
   "source": [
    "#df320k_erp_phytos.dtypes\n",
    "df320k_erp_phytos['point_id'] = df320k_erp_phytos['point_id'].astype('int64')\n",
    "#df320k_erp_phytos.dtypes"
   ]
  },
  {
   "cell_type": "code",
   "execution_count": 23,
   "id": "98d6faef-d895-476f-a30f-c8b0eb9e6ad8",
   "metadata": {
    "tags": []
   },
   "outputs": [
    {
     "name": "stdout",
     "output_type": "stream",
     "text": [
      "Index(['fid', 'point_id', 'LON', 'PLOTID', 'LAT', 'ERPOBJECTI', 'phytoiffnz',\n",
      "       'phytoZone', 'geometry'],\n",
      "      dtype='object')\n"
     ]
    }
   ],
   "source": [
    "print(df320k_erp_phytos.columns)"
   ]
  },
  {
   "cell_type": "code",
   "execution_count": 26,
   "id": "d27ac8b2-fc40-406f-a7e9-90f3ac459f40",
   "metadata": {
    "tags": []
   },
   "outputs": [
    {
     "data": {
      "text/plain": [
       "325631"
      ]
     },
     "execution_count": 26,
     "metadata": {},
     "output_type": "execute_result"
    }
   ],
   "source": [
    "df320k_zones = df320k[['point_id', 'kmeans_multi', 'lon', 'lat']].merge(df320k_erp_phytos[['point_id', 'ERPOBJECTI', 'phytoiffnz', 'phytoZone']], how='left', on='point_id')\n",
    "len(df320k_zones)"
   ]
  },
  {
   "cell_type": "code",
   "execution_count": 27,
   "id": "6e77b246-932b-4874-9762-f3cc45cb1f28",
   "metadata": {
    "tags": []
   },
   "outputs": [
    {
     "name": "stdout",
     "output_type": "stream",
     "text": [
      "Index(['point_id', 'kmeans_multi', 'lon', 'lat', 'ERPOBJECTI', 'phytoiffnz',\n",
      "       'phytoZone'],\n",
      "      dtype='object')\n"
     ]
    }
   ],
   "source": [
    "print(df320k_zones.columns)"
   ]
  },
  {
   "cell_type": "code",
   "execution_count": null,
   "id": "50c26a1e-4c4b-4007-b987-434559e5a38f",
   "metadata": {
    "tags": []
   },
   "outputs": [],
   "source": [
    "#verif = pd.pivot_table(df320k_zones,values='point_id',index=['ERPOBJECTI'],columns=['phytoZone'],aggfunc=\"count\")\n",
    "#verif"
   ]
  },
  {
   "cell_type": "markdown",
   "id": "35dac464-c029-493b-a19a-03b2183c5121",
   "metadata": {},
   "source": [
    "## 5. FULL dataframe with national GRID (light version) + 8k interpreted points"
   ]
  },
  {
   "cell_type": "code",
   "execution_count": 28,
   "id": "1f08ad0f-d13c-4262-a5e1-4d564c7b4209",
   "metadata": {
    "tags": []
   },
   "outputs": [
    {
     "name": "stdout",
     "output_type": "stream",
     "text": [
      "redd_n1\n",
      "SNF      6219\n",
      "SF       1532\n",
      "SDegF     301\n",
      "Def       203\n",
      "Deg        21\n",
      "Gain       19\n",
      "Name: count, dtype: int64\n"
     ]
    }
   ],
   "source": [
    "#count_values = dfconcatCEOfull['redd_n1'].value_counts()\n",
    "#print(count_values)"
   ]
  },
  {
   "cell_type": "code",
   "execution_count": 29,
   "id": "ad1ea793-d2df-4c60-9d30-8cf10ce0ed4a",
   "metadata": {
    "tags": []
   },
   "outputs": [
    {
     "name": "stdout",
     "output_type": "stream",
     "text": [
      "all good\n"
     ]
    }
   ],
   "source": [
    "duplicados = df320k_zones['point_id'].duplicated().any() \n",
    "if duplicados:\n",
    "    print (\"problem\")\n",
    "else:\n",
    "    print (\"all good\")"
   ]
  },
  {
   "cell_type": "code",
   "execution_count": 46,
   "id": "a1d877f0-c238-464d-9d0f-34a915f2ed54",
   "metadata": {
    "tags": []
   },
   "outputs": [
    {
     "data": {
      "text/plain": [
       "325633"
      ]
     },
     "execution_count": 46,
     "metadata": {},
     "output_type": "execute_result"
    }
   ],
   "source": [
    "df320k_full = df320k_zones[['point_id', 'kmeans_multi', 'lon', 'lat', 'ERPOBJECTI', 'phytoiffnz', 'phytoZone']].merge(dfconcatCEOfull[['point_id', 'redd_n1']], how='left', on='point_id')\n",
    "len(df320k_full)"
   ]
  },
  {
   "cell_type": "code",
   "execution_count": null,
   "id": "26113927-3164-49aa-b961-1f0947366cb8",
   "metadata": {
    "tags": []
   },
   "outputs": [],
   "source": [
    "count_values = df320k_full['redd_n1'].value_counts()\n",
    "print(count_values)"
   ]
  },
  {
   "cell_type": "code",
   "execution_count": null,
   "id": "b058f35b-6296-4fc6-9198-09402542563b",
   "metadata": {},
   "outputs": [],
   "source": [
    "###### préparer catégories par zone phyto (zone iffn et autre):"
   ]
  },
  {
   "cell_type": "code",
   "execution_count": 32,
   "id": "06a8c071-3a3f-4ede-a1df-06e67d5d4feb",
   "metadata": {
    "tags": []
   },
   "outputs": [
    {
     "name": "stdout",
     "output_type": "stream",
     "text": [
      "phytoiffnz\n",
      "Secteur Mesophile       131577\n",
      "Secteur SubSoudanais     96018\n",
      "Secteur Ombrophile       56511\n",
      "Secteur Soudanais        32396\n",
      "                          6529\n",
      "Secteur Montagne          2602\n",
      "Name: count, dtype: int64\n"
     ]
    }
   ],
   "source": [
    "count_values_phyto_iffn = df320k_full['phytoiffnz'].value_counts()\n",
    "print(count_values_phyto_iffn)"
   ]
  },
  {
   "cell_type": "code",
   "execution_count": 48,
   "id": "71dde8af-6c4f-4eab-b568-879f359de5f4",
   "metadata": {
    "tags": []
   },
   "outputs": [],
   "source": [
    "df320k_full['phyto_code_if'] = 'nodata'\n",
    "df320k_full['phyto_code_if'] = np.where(df320k_full['phytoiffnz'] == 'Secteur Mesophile', 'meso', df320k_full['phyto_code_if'])\n",
    "df320k_full['phyto_code_if'] = np.where(df320k_full['phytoiffnz'] == 'Secteur SubSoudanais', 'subs', df320k_full['phyto_code_if'])\n",
    "df320k_full['phyto_code_if'] = np.where(df320k_full['phytoiffnz'] == 'Secteur Ombrophile', 'omb', df320k_full['phyto_code_if'])\n",
    "df320k_full['phyto_code_if'] = np.where(df320k_full['phytoiffnz'] == 'Secteur Soudanais', 'soud', df320k_full['phyto_code_if'])\n",
    "df320k_full['phyto_code_if'] = np.where(df320k_full['phytoiffnz'] == 'Secteur Montagne', 'mont', df320k_full['phyto_code_if'])"
   ]
  },
  {
   "cell_type": "code",
   "execution_count": 49,
   "id": "f5afc35d-bbbc-42b6-9e0b-8d0cd1fdb15e",
   "metadata": {
    "tags": []
   },
   "outputs": [
    {
     "name": "stdout",
     "output_type": "stream",
     "text": [
      "phyto_code_if\n",
      "meso      131577\n",
      "subs       96018\n",
      "omb        56511\n",
      "soud       32396\n",
      "nodata      6529\n",
      "mont        2602\n",
      "Name: count, dtype: int64\n"
     ]
    }
   ],
   "source": [
    "count_values = df320k_full['phyto_code_if'].value_counts()\n",
    "print(count_values)"
   ]
  },
  {
   "cell_type": "code",
   "execution_count": 50,
   "id": "17c400c6-8f93-4aba-bf79-61f929fef761",
   "metadata": {
    "tags": []
   },
   "outputs": [],
   "source": [
    "## categories par phytozone IFN\n",
    "df320k_full['redd_phytoif'] = df320k_full['redd_n1'] + '_' + df320k_full['phyto_code_if']                                                                                                                                                                                                                    "
   ]
  },
  {
   "cell_type": "code",
   "execution_count": 51,
   "id": "fbe8d5f5-74da-417c-9a0c-241570fd1489",
   "metadata": {
    "tags": []
   },
   "outputs": [
    {
     "name": "stdout",
     "output_type": "stream",
     "text": [
      "redd_phytoif\n",
      "SNF_omb         2569\n",
      "SNF_meso        2280\n",
      "SNF_subs         961\n",
      "SF_omb           563\n",
      "SF_subs          530\n",
      "SF_meso          321\n",
      "SNF_soud         303\n",
      "SDegF_omb        135\n",
      "SDegF_meso       124\n",
      "SF_soud           79\n",
      "Def_meso          71\n",
      "SNF_nodata        70\n",
      "Def_omb           67\n",
      "Def_subs          51\n",
      "SNF_mont          36\n",
      "SF_nodata         31\n",
      "SDegF_subs        19\n",
      "Deg_omb           15\n",
      "SDegF_mont        11\n",
      "Gain_omb          11\n",
      "Def_soud          10\n",
      "SDegF_nodata       9\n",
      "Gain_meso          8\n",
      "SF_mont            8\n",
      "Deg_meso           5\n",
      "SDegF_soud         3\n",
      "Def_mont           3\n",
      "Deg_subs           1\n",
      "Def_nodata         1\n",
      "Name: count, dtype: int64\n"
     ]
    }
   ],
   "source": [
    "count_values = df320k_full['redd_phytoif'].value_counts()\n",
    "print(count_values)"
   ]
  },
  {
   "cell_type": "code",
   "execution_count": 52,
   "id": "de020f5d-ee7c-421c-ac70-263627200e9d",
   "metadata": {
    "tags": []
   },
   "outputs": [
    {
     "name": "stdout",
     "output_type": "stream",
     "text": [
      "phytoZone\n",
      "Secteur Soudanais        128809\n",
      "Secteur mésophile         96599\n",
      "Secteur Ombrophile        57055\n",
      "Secteur Sub Soudanais     37819\n",
      "                           5351\n",
      "Name: count, dtype: int64\n"
     ]
    }
   ],
   "source": [
    "count_values_phyto2 = df320k_full['phytoZone'].value_counts()\n",
    "print(count_values_phyto2)"
   ]
  },
  {
   "cell_type": "code",
   "execution_count": 53,
   "id": "90b0af31-551f-4b74-b1b7-52395de87bc5",
   "metadata": {
    "tags": []
   },
   "outputs": [],
   "source": [
    "df320k_full['phyto_code'] = 'nodata'\n",
    "df320k_full['phyto_code'] = np.where(df320k_full['phytoZone'] == 'Secteur Soudanais', 'soud', df320k_full['phyto_code'])\n",
    "df320k_full['phyto_code'] = np.where(df320k_full['phytoZone'] == 'Secteur mésophile', 'meso', df320k_full['phyto_code'])\n",
    "df320k_full['phyto_code'] = np.where(df320k_full['phytoZone'] == 'Secteur Ombrophile', 'omb', df320k_full['phyto_code'])\n",
    "df320k_full['phyto_code'] = np.where(df320k_full['phytoZone'] == 'Secteur Sub Soudanais', 'subs', df320k_full['phyto_code'])\n"
   ]
  },
  {
   "cell_type": "code",
   "execution_count": 54,
   "id": "a28881d4-4686-4f26-bac4-078372cc8c1d",
   "metadata": {
    "tags": []
   },
   "outputs": [
    {
     "name": "stdout",
     "output_type": "stream",
     "text": [
      "phyto_code\n",
      "soud      128809\n",
      "meso       96599\n",
      "omb        57055\n",
      "subs       37819\n",
      "nodata      5351\n",
      "Name: count, dtype: int64\n"
     ]
    }
   ],
   "source": [
    "count_values = df320k_full['phyto_code'].value_counts()\n",
    "print(count_values)"
   ]
  },
  {
   "cell_type": "code",
   "execution_count": 56,
   "id": "5abe0201-cbfb-4422-a6c5-bfb657ff5c44",
   "metadata": {
    "tags": []
   },
   "outputs": [],
   "source": [
    "## categories par phytozone\n",
    "df320k_full['redd_phyto'] = df320k_full['redd_n1'] + '_' + df320k_full['phyto_code'] "
   ]
  },
  {
   "cell_type": "code",
   "execution_count": 57,
   "id": "f864b506-f104-40b6-b008-4c97af674bed",
   "metadata": {
    "tags": []
   },
   "outputs": [
    {
     "name": "stdout",
     "output_type": "stream",
     "text": [
      "redd_phyto\n",
      "SNF_omb         2571\n",
      "SNF_meso        1947\n",
      "SNF_soud        1268\n",
      "SF_soud          612\n",
      "SF_omb           566\n",
      "SNF_subs         374\n",
      "SF_meso          239\n",
      "SDegF_omb        135\n",
      "SDegF_meso       117\n",
      "SF_subs           91\n",
      "Def_meso          68\n",
      "Def_omb           67\n",
      "Def_soud          61\n",
      "SNF_nodata        59\n",
      "SF_nodata         24\n",
      "SDegF_soud        22\n",
      "SDegF_subs        18\n",
      "Deg_omb           15\n",
      "Gain_omb          11\n",
      "SDegF_nodata       9\n",
      "Gain_meso          6\n",
      "Def_subs           6\n",
      "Deg_meso           4\n",
      "Gain_subs          2\n",
      "Deg_subs           1\n",
      "Deg_soud           1\n",
      "Def_nodata         1\n",
      "Name: count, dtype: int64\n"
     ]
    }
   ],
   "source": [
    "count_values2 = df320k_full['redd_phyto'].value_counts()\n",
    "print(count_values2)"
   ]
  },
  {
   "cell_type": "code",
   "execution_count": 58,
   "id": "5d4f2d2c-dfbf-4bb1-b25a-75ba86444f82",
   "metadata": {
    "tags": []
   },
   "outputs": [
    {
     "data": {
      "text/plain": [
       "279210"
      ]
     },
     "execution_count": 58,
     "metadata": {},
     "output_type": "execute_result"
    }
   ],
   "source": [
    "# Scenario DA 1 :\n",
    "df_scDA1 = df320k_full[df320k_full['ERPOBJECTI'] != '1']\n",
    "len(df_scDA1)"
   ]
  },
  {
   "cell_type": "code",
   "execution_count": 59,
   "id": "0f686175-bdb4-4484-a2e0-7501a855c379",
   "metadata": {
    "tags": []
   },
   "outputs": [
    {
     "name": "stdout",
     "output_type": "stream",
     "text": [
      "redd_n1\n",
      "SNF      3096\n",
      "SF        898\n",
      "SDegF     176\n",
      "Def       100\n",
      "Gain        4\n",
      "Deg         2\n",
      "Name: count, dtype: int64\n"
     ]
    }
   ],
   "source": [
    "count_values = df_scDA1['redd_n1'].value_counts()\n",
    "print(count_values)"
   ]
  },
  {
   "cell_type": "code",
   "execution_count": 60,
   "id": "f8293c97-4a44-4e1e-91b0-b075d401ae82",
   "metadata": {
    "tags": []
   },
   "outputs": [],
   "source": [
    "df320k_full.to_csv('/home/sepal-user/eSBAE_CIV/results/df320k_full.csv',index=False)"
   ]
  },
  {
   "cell_type": "code",
   "execution_count": null,
   "id": "a2a6a6fe-6dfe-4247-a6d9-1080f3d17ec6",
   "metadata": {},
   "outputs": [],
   "source": [
    "# Scenario DA 3 : UTILISER df320k_full\n",
    "#df_sc_DA3 = df320k_full\n",
    "#len(df_scDA3)"
   ]
  },
  {
   "cell_type": "markdown",
   "id": "2797a562-974e-4b3f-9245-01096a0d0fbf",
   "metadata": {
    "tags": []
   },
   "source": [
    "##### Perform area calculation using the stratum column. In this case the column is called kmeans. Use the merge dataframe (national grid points + CEO validated points)"
   ]
  },
  {
   "cell_type": "markdown",
   "id": "dc1c3e9d-8b7b-44ba-8caf-3ceac816a2dd",
   "metadata": {},
   "source": [
    "## 6. Run the eSBAE function for the different scenarios"
   ]
  },
  {
   "cell_type": "code",
   "execution_count": 61,
   "id": "9a2dcd7f-2c56-4d69-aeb7-38a8a411f8c6",
   "metadata": {
    "tags": []
   },
   "outputs": [
    {
     "name": "stdout",
     "output_type": "stream",
     "text": [
      "['SNF' 'SF' 'SDegF' 'Def' 'Deg' 'Gain']\n",
      " Calculating stats for SNF\n",
      "There are 3096 entries of SNF in redd_n1.\n",
      " Calculating stats for SF\n",
      "There are 898 entries of SF in redd_n1.\n"
     ]
    },
    {
     "name": "stderr",
     "output_type": "stream",
     "text": [
      "/tmp/ipykernel_440/804014814.py:20: SettingWithCopyWarning: \n",
      "A value is trying to be set on a copy of a slice from a DataFrame.\n",
      "Try using .loc[row_indexer,col_indexer] = value instead\n",
      "\n",
      "See the caveats in the documentation: https://pandas.pydata.org/pandas-docs/stable/user_guide/indexing.html#returning-a-view-versus-a-copy\n",
      "  df_interpreted[category] =  df_interpreted[categories_column].apply(lambda x: 1 if x == category else 0)\n",
      "/tmp/ipykernel_440/804014814.py:20: SettingWithCopyWarning: \n",
      "A value is trying to be set on a copy of a slice from a DataFrame.\n",
      "Try using .loc[row_indexer,col_indexer] = value instead\n",
      "\n",
      "See the caveats in the documentation: https://pandas.pydata.org/pandas-docs/stable/user_guide/indexing.html#returning-a-view-versus-a-copy\n",
      "  df_interpreted[category] =  df_interpreted[categories_column].apply(lambda x: 1 if x == category else 0)\n"
     ]
    },
    {
     "name": "stdout",
     "output_type": "stream",
     "text": [
      " Calculating stats for SDegF\n",
      "There are 176 entries of SDegF in redd_n1.\n",
      " Calculating stats for Def\n",
      "There are 100 entries of Def in redd_n1.\n"
     ]
    },
    {
     "name": "stderr",
     "output_type": "stream",
     "text": [
      "/tmp/ipykernel_440/804014814.py:20: SettingWithCopyWarning: \n",
      "A value is trying to be set on a copy of a slice from a DataFrame.\n",
      "Try using .loc[row_indexer,col_indexer] = value instead\n",
      "\n",
      "See the caveats in the documentation: https://pandas.pydata.org/pandas-docs/stable/user_guide/indexing.html#returning-a-view-versus-a-copy\n",
      "  df_interpreted[category] =  df_interpreted[categories_column].apply(lambda x: 1 if x == category else 0)\n",
      "/tmp/ipykernel_440/804014814.py:20: SettingWithCopyWarning: \n",
      "A value is trying to be set on a copy of a slice from a DataFrame.\n",
      "Try using .loc[row_indexer,col_indexer] = value instead\n",
      "\n",
      "See the caveats in the documentation: https://pandas.pydata.org/pandas-docs/stable/user_guide/indexing.html#returning-a-view-versus-a-copy\n",
      "  df_interpreted[category] =  df_interpreted[categories_column].apply(lambda x: 1 if x == category else 0)\n"
     ]
    },
    {
     "name": "stdout",
     "output_type": "stream",
     "text": [
      " Calculating stats for Deg\n",
      "There are 2 entries of Deg in redd_n1.\n",
      " Calculating stats for Gain\n",
      "There are 4 entries of Gain in redd_n1.\n"
     ]
    },
    {
     "name": "stderr",
     "output_type": "stream",
     "text": [
      "/tmp/ipykernel_440/804014814.py:20: SettingWithCopyWarning: \n",
      "A value is trying to be set on a copy of a slice from a DataFrame.\n",
      "Try using .loc[row_indexer,col_indexer] = value instead\n",
      "\n",
      "See the caveats in the documentation: https://pandas.pydata.org/pandas-docs/stable/user_guide/indexing.html#returning-a-view-versus-a-copy\n",
      "  df_interpreted[category] =  df_interpreted[categories_column].apply(lambda x: 1 if x == category else 0)\n",
      "/tmp/ipykernel_440/804014814.py:20: SettingWithCopyWarning: \n",
      "A value is trying to be set on a copy of a slice from a DataFrame.\n",
      "Try using .loc[row_indexer,col_indexer] = value instead\n",
      "\n",
      "See the caveats in the documentation: https://pandas.pydata.org/pandas-docs/stable/user_guide/indexing.html#returning-a-view-versus-a-copy\n",
      "  df_interpreted[category] =  df_interpreted[categories_column].apply(lambda x: 1 if x == category else 0)\n"
     ]
    },
    {
     "data": {
      "text/html": [
       "<div>\n",
       "<style scoped>\n",
       "    .dataframe tbody tr th:only-of-type {\n",
       "        vertical-align: middle;\n",
       "    }\n",
       "\n",
       "    .dataframe tbody tr th {\n",
       "        vertical-align: top;\n",
       "    }\n",
       "\n",
       "    .dataframe thead th {\n",
       "        text-align: right;\n",
       "    }\n",
       "</style>\n",
       "<table border=\"1\" class=\"dataframe\">\n",
       "  <thead>\n",
       "    <tr style=\"text-align: right;\">\n",
       "      <th></th>\n",
       "      <th>area_stratum_0</th>\n",
       "      <th>ci_stratum_0</th>\n",
       "      <th>area_stratum_2</th>\n",
       "      <th>ci_stratum_2</th>\n",
       "      <th>area_stratum_1</th>\n",
       "      <th>ci_stratum_1</th>\n",
       "      <th>area_total</th>\n",
       "      <th>MOE</th>\n",
       "      <th>MOE_perc</th>\n",
       "    </tr>\n",
       "  </thead>\n",
       "  <tbody>\n",
       "    <tr>\n",
       "      <th>SNF</th>\n",
       "      <td>57362.060818</td>\n",
       "      <td>1407.447738</td>\n",
       "      <td>148446.064286</td>\n",
       "      <td>2426.288709</td>\n",
       "      <td>15022.431034</td>\n",
       "      <td>756.949867</td>\n",
       "      <td>220830.556138</td>\n",
       "      <td>2905.298459</td>\n",
       "      <td>1.315623</td>\n",
       "    </tr>\n",
       "    <tr>\n",
       "      <th>SF</th>\n",
       "      <td>20926.606181</td>\n",
       "      <td>1323.334425</td>\n",
       "      <td>17379.051429</td>\n",
       "      <td>2256.532155</td>\n",
       "      <td>7777.793103</td>\n",
       "      <td>686.960893</td>\n",
       "      <td>46083.450713</td>\n",
       "      <td>2704.637986</td>\n",
       "      <td>5.869001</td>\n",
       "    </tr>\n",
       "    <tr>\n",
       "      <th>SDegF</th>\n",
       "      <td>2357.344965</td>\n",
       "      <td>506.281514</td>\n",
       "      <td>1206.878571</td>\n",
       "      <td>625.565603</td>\n",
       "      <td>3418.465517</td>\n",
       "      <td>503.751740</td>\n",
       "      <td>6982.689054</td>\n",
       "      <td>949.430940</td>\n",
       "      <td>13.596924</td>\n",
       "    </tr>\n",
       "    <tr>\n",
       "      <th>Def</th>\n",
       "      <td>2274.631107</td>\n",
       "      <td>497.575172</td>\n",
       "      <td>1568.942143</td>\n",
       "      <td>712.484413</td>\n",
       "      <td>1003.586207</td>\n",
       "      <td>286.423060</td>\n",
       "      <td>4847.159456</td>\n",
       "      <td>915.015442</td>\n",
       "      <td>18.877354</td>\n",
       "    </tr>\n",
       "    <tr>\n",
       "      <th>Deg</th>\n",
       "      <td>0.000000</td>\n",
       "      <td>0.000000</td>\n",
       "      <td>120.687857</td>\n",
       "      <td>198.460608</td>\n",
       "      <td>31.362069</td>\n",
       "      <td>51.560945</td>\n",
       "      <td>152.049926</td>\n",
       "      <td>205.049126</td>\n",
       "      <td>134.856446</td>\n",
       "    </tr>\n",
       "    <tr>\n",
       "      <th>Gain</th>\n",
       "      <td>41.356929</td>\n",
       "      <td>68.015189</td>\n",
       "      <td>241.375714</td>\n",
       "      <td>280.565356</td>\n",
       "      <td>31.362069</td>\n",
       "      <td>51.560945</td>\n",
       "      <td>314.094712</td>\n",
       "      <td>293.260151</td>\n",
       "      <td>93.366790</td>\n",
       "    </tr>\n",
       "  </tbody>\n",
       "</table>\n",
       "</div>"
      ],
      "text/plain": [
       "       area_stratum_0  ci_stratum_0  area_stratum_2  ci_stratum_2  \\\n",
       "SNF      57362.060818   1407.447738   148446.064286   2426.288709   \n",
       "SF       20926.606181   1323.334425    17379.051429   2256.532155   \n",
       "SDegF     2357.344965    506.281514     1206.878571    625.565603   \n",
       "Def       2274.631107    497.575172     1568.942143    712.484413   \n",
       "Deg          0.000000      0.000000      120.687857    198.460608   \n",
       "Gain        41.356929     68.015189      241.375714    280.565356   \n",
       "\n",
       "       area_stratum_1  ci_stratum_1     area_total          MOE    MOE_perc  \n",
       "SNF      15022.431034    756.949867  220830.556138  2905.298459    1.315623  \n",
       "SF        7777.793103    686.960893   46083.450713  2704.637986    5.869001  \n",
       "SDegF     3418.465517    503.751740    6982.689054   949.430940   13.596924  \n",
       "Def       1003.586207    286.423060    4847.159456   915.015442   18.877354  \n",
       "Deg         31.362069     51.560945     152.049926   205.049126  134.856446  \n",
       "Gain        31.362069     51.560945     314.094712   293.260151   93.366790  "
      ]
     },
     "execution_count": 61,
     "metadata": {},
     "output_type": "execute_result"
    }
   ],
   "source": [
    "#scenario DA1: NERF = ERP + NERP\n",
    "calculate_areas(db_total=df_scDA1, strata_column='kmeans_multi', categories_column='redd_n1', total_area=len(df_scDA1), z_score=1.645)"
   ]
  },
  {
   "cell_type": "code",
   "execution_count": 63,
   "id": "29b30008-5bfa-4748-8db6-aa83e8c5c474",
   "metadata": {
    "tags": []
   },
   "outputs": [
    {
     "name": "stdout",
     "output_type": "stream",
     "text": [
      "['SNF_subs' 'SF_subs' 'SF_nodata' 'SDegF_meso' 'SNF_meso' 'SNF_omb'\n",
      " 'Def_omb' 'SF_meso' 'SDegF_omb' 'SDegF_subs' 'Def_meso' 'SNF_soud'\n",
      " 'SF_omb' 'SNF_nodata' 'SF_soud' 'SDegF_nodata' 'Def_subs' 'Def_soud'\n",
      " 'SDegF_soud' 'Deg_meso' 'Deg_subs' 'SNF_mont' 'SDegF_mont' 'SF_mont'\n",
      " 'Def_nodata' 'Def_mont' 'Gain_meso']\n",
      " Calculating stats for SNF_subs\n",
      "There are 961 entries of SNF_subs in redd_phytoif.\n",
      " Calculating stats for SF_subs\n",
      "There are 530 entries of SF_subs in redd_phytoif.\n"
     ]
    },
    {
     "name": "stderr",
     "output_type": "stream",
     "text": [
      "/tmp/ipykernel_440/804014814.py:20: SettingWithCopyWarning: \n",
      "A value is trying to be set on a copy of a slice from a DataFrame.\n",
      "Try using .loc[row_indexer,col_indexer] = value instead\n",
      "\n",
      "See the caveats in the documentation: https://pandas.pydata.org/pandas-docs/stable/user_guide/indexing.html#returning-a-view-versus-a-copy\n",
      "  df_interpreted[category] =  df_interpreted[categories_column].apply(lambda x: 1 if x == category else 0)\n",
      "/tmp/ipykernel_440/804014814.py:20: SettingWithCopyWarning: \n",
      "A value is trying to be set on a copy of a slice from a DataFrame.\n",
      "Try using .loc[row_indexer,col_indexer] = value instead\n",
      "\n",
      "See the caveats in the documentation: https://pandas.pydata.org/pandas-docs/stable/user_guide/indexing.html#returning-a-view-versus-a-copy\n",
      "  df_interpreted[category] =  df_interpreted[categories_column].apply(lambda x: 1 if x == category else 0)\n"
     ]
    },
    {
     "name": "stdout",
     "output_type": "stream",
     "text": [
      " Calculating stats for SF_nodata\n",
      "There are 29 entries of SF_nodata in redd_phytoif.\n",
      " Calculating stats for SDegF_meso\n",
      "There are 95 entries of SDegF_meso in redd_phytoif.\n"
     ]
    },
    {
     "name": "stderr",
     "output_type": "stream",
     "text": [
      "/tmp/ipykernel_440/804014814.py:20: SettingWithCopyWarning: \n",
      "A value is trying to be set on a copy of a slice from a DataFrame.\n",
      "Try using .loc[row_indexer,col_indexer] = value instead\n",
      "\n",
      "See the caveats in the documentation: https://pandas.pydata.org/pandas-docs/stable/user_guide/indexing.html#returning-a-view-versus-a-copy\n",
      "  df_interpreted[category] =  df_interpreted[categories_column].apply(lambda x: 1 if x == category else 0)\n",
      "/tmp/ipykernel_440/804014814.py:20: SettingWithCopyWarning: \n",
      "A value is trying to be set on a copy of a slice from a DataFrame.\n",
      "Try using .loc[row_indexer,col_indexer] = value instead\n",
      "\n",
      "See the caveats in the documentation: https://pandas.pydata.org/pandas-docs/stable/user_guide/indexing.html#returning-a-view-versus-a-copy\n",
      "  df_interpreted[category] =  df_interpreted[categories_column].apply(lambda x: 1 if x == category else 0)\n"
     ]
    },
    {
     "name": "stdout",
     "output_type": "stream",
     "text": [
      " Calculating stats for SNF_meso\n",
      "There are 1436 entries of SNF_meso in redd_phytoif.\n",
      " Calculating stats for SNF_omb\n",
      "There are 305 entries of SNF_omb in redd_phytoif.\n"
     ]
    },
    {
     "name": "stderr",
     "output_type": "stream",
     "text": [
      "/tmp/ipykernel_440/804014814.py:20: SettingWithCopyWarning: \n",
      "A value is trying to be set on a copy of a slice from a DataFrame.\n",
      "Try using .loc[row_indexer,col_indexer] = value instead\n",
      "\n",
      "See the caveats in the documentation: https://pandas.pydata.org/pandas-docs/stable/user_guide/indexing.html#returning-a-view-versus-a-copy\n",
      "  df_interpreted[category] =  df_interpreted[categories_column].apply(lambda x: 1 if x == category else 0)\n",
      "/tmp/ipykernel_440/804014814.py:20: SettingWithCopyWarning: \n",
      "A value is trying to be set on a copy of a slice from a DataFrame.\n",
      "Try using .loc[row_indexer,col_indexer] = value instead\n",
      "\n",
      "See the caveats in the documentation: https://pandas.pydata.org/pandas-docs/stable/user_guide/indexing.html#returning-a-view-versus-a-copy\n",
      "  df_interpreted[category] =  df_interpreted[categories_column].apply(lambda x: 1 if x == category else 0)\n"
     ]
    },
    {
     "name": "stdout",
     "output_type": "stream",
     "text": [
      " Calculating stats for Def_omb\n",
      "There are 2 entries of Def_omb in redd_phytoif.\n",
      " Calculating stats for SF_meso\n",
      "There are 216 entries of SF_meso in redd_phytoif.\n"
     ]
    },
    {
     "name": "stderr",
     "output_type": "stream",
     "text": [
      "/tmp/ipykernel_440/804014814.py:20: SettingWithCopyWarning: \n",
      "A value is trying to be set on a copy of a slice from a DataFrame.\n",
      "Try using .loc[row_indexer,col_indexer] = value instead\n",
      "\n",
      "See the caveats in the documentation: https://pandas.pydata.org/pandas-docs/stable/user_guide/indexing.html#returning-a-view-versus-a-copy\n",
      "  df_interpreted[category] =  df_interpreted[categories_column].apply(lambda x: 1 if x == category else 0)\n",
      "/tmp/ipykernel_440/804014814.py:20: SettingWithCopyWarning: \n",
      "A value is trying to be set on a copy of a slice from a DataFrame.\n",
      "Try using .loc[row_indexer,col_indexer] = value instead\n",
      "\n",
      "See the caveats in the documentation: https://pandas.pydata.org/pandas-docs/stable/user_guide/indexing.html#returning-a-view-versus-a-copy\n",
      "  df_interpreted[category] =  df_interpreted[categories_column].apply(lambda x: 1 if x == category else 0)\n"
     ]
    },
    {
     "name": "stdout",
     "output_type": "stream",
     "text": [
      " Calculating stats for SDegF_omb\n",
      "There are 39 entries of SDegF_omb in redd_phytoif.\n",
      " Calculating stats for SDegF_subs\n",
      "There are 19 entries of SDegF_subs in redd_phytoif.\n"
     ]
    },
    {
     "name": "stderr",
     "output_type": "stream",
     "text": [
      "/tmp/ipykernel_440/804014814.py:20: SettingWithCopyWarning: \n",
      "A value is trying to be set on a copy of a slice from a DataFrame.\n",
      "Try using .loc[row_indexer,col_indexer] = value instead\n",
      "\n",
      "See the caveats in the documentation: https://pandas.pydata.org/pandas-docs/stable/user_guide/indexing.html#returning-a-view-versus-a-copy\n",
      "  df_interpreted[category] =  df_interpreted[categories_column].apply(lambda x: 1 if x == category else 0)\n",
      "/tmp/ipykernel_440/804014814.py:20: SettingWithCopyWarning: \n",
      "A value is trying to be set on a copy of a slice from a DataFrame.\n",
      "Try using .loc[row_indexer,col_indexer] = value instead\n",
      "\n",
      "See the caveats in the documentation: https://pandas.pydata.org/pandas-docs/stable/user_guide/indexing.html#returning-a-view-versus-a-copy\n",
      "  df_interpreted[category] =  df_interpreted[categories_column].apply(lambda x: 1 if x == category else 0)\n"
     ]
    },
    {
     "name": "stdout",
     "output_type": "stream",
     "text": [
      " Calculating stats for Def_meso\n",
      "There are 33 entries of Def_meso in redd_phytoif.\n",
      " Calculating stats for SNF_soud\n",
      "There are 303 entries of SNF_soud in redd_phytoif.\n"
     ]
    },
    {
     "name": "stderr",
     "output_type": "stream",
     "text": [
      "/tmp/ipykernel_440/804014814.py:20: SettingWithCopyWarning: \n",
      "A value is trying to be set on a copy of a slice from a DataFrame.\n",
      "Try using .loc[row_indexer,col_indexer] = value instead\n",
      "\n",
      "See the caveats in the documentation: https://pandas.pydata.org/pandas-docs/stable/user_guide/indexing.html#returning-a-view-versus-a-copy\n",
      "  df_interpreted[category] =  df_interpreted[categories_column].apply(lambda x: 1 if x == category else 0)\n",
      "/tmp/ipykernel_440/804014814.py:20: SettingWithCopyWarning: \n",
      "A value is trying to be set on a copy of a slice from a DataFrame.\n",
      "Try using .loc[row_indexer,col_indexer] = value instead\n",
      "\n",
      "See the caveats in the documentation: https://pandas.pydata.org/pandas-docs/stable/user_guide/indexing.html#returning-a-view-versus-a-copy\n",
      "  df_interpreted[category] =  df_interpreted[categories_column].apply(lambda x: 1 if x == category else 0)\n"
     ]
    },
    {
     "name": "stdout",
     "output_type": "stream",
     "text": [
      " Calculating stats for SF_omb\n",
      "There are 36 entries of SF_omb in redd_phytoif.\n",
      " Calculating stats for SNF_nodata\n",
      "There are 55 entries of SNF_nodata in redd_phytoif.\n"
     ]
    },
    {
     "name": "stderr",
     "output_type": "stream",
     "text": [
      "/tmp/ipykernel_440/804014814.py:20: SettingWithCopyWarning: \n",
      "A value is trying to be set on a copy of a slice from a DataFrame.\n",
      "Try using .loc[row_indexer,col_indexer] = value instead\n",
      "\n",
      "See the caveats in the documentation: https://pandas.pydata.org/pandas-docs/stable/user_guide/indexing.html#returning-a-view-versus-a-copy\n",
      "  df_interpreted[category] =  df_interpreted[categories_column].apply(lambda x: 1 if x == category else 0)\n",
      "/tmp/ipykernel_440/804014814.py:20: SettingWithCopyWarning: \n",
      "A value is trying to be set on a copy of a slice from a DataFrame.\n",
      "Try using .loc[row_indexer,col_indexer] = value instead\n",
      "\n",
      "See the caveats in the documentation: https://pandas.pydata.org/pandas-docs/stable/user_guide/indexing.html#returning-a-view-versus-a-copy\n",
      "  df_interpreted[category] =  df_interpreted[categories_column].apply(lambda x: 1 if x == category else 0)\n"
     ]
    },
    {
     "name": "stdout",
     "output_type": "stream",
     "text": [
      " Calculating stats for SF_soud\n",
      "There are 79 entries of SF_soud in redd_phytoif.\n",
      " Calculating stats for SDegF_nodata\n",
      "There are 9 entries of SDegF_nodata in redd_phytoif.\n"
     ]
    },
    {
     "name": "stderr",
     "output_type": "stream",
     "text": [
      "/tmp/ipykernel_440/804014814.py:20: SettingWithCopyWarning: \n",
      "A value is trying to be set on a copy of a slice from a DataFrame.\n",
      "Try using .loc[row_indexer,col_indexer] = value instead\n",
      "\n",
      "See the caveats in the documentation: https://pandas.pydata.org/pandas-docs/stable/user_guide/indexing.html#returning-a-view-versus-a-copy\n",
      "  df_interpreted[category] =  df_interpreted[categories_column].apply(lambda x: 1 if x == category else 0)\n",
      "/tmp/ipykernel_440/804014814.py:20: SettingWithCopyWarning: \n",
      "A value is trying to be set on a copy of a slice from a DataFrame.\n",
      "Try using .loc[row_indexer,col_indexer] = value instead\n",
      "\n",
      "See the caveats in the documentation: https://pandas.pydata.org/pandas-docs/stable/user_guide/indexing.html#returning-a-view-versus-a-copy\n",
      "  df_interpreted[category] =  df_interpreted[categories_column].apply(lambda x: 1 if x == category else 0)\n"
     ]
    },
    {
     "name": "stdout",
     "output_type": "stream",
     "text": [
      " Calculating stats for Def_subs\n",
      "There are 51 entries of Def_subs in redd_phytoif.\n",
      " Calculating stats for Def_soud\n",
      "There are 10 entries of Def_soud in redd_phytoif.\n"
     ]
    },
    {
     "name": "stderr",
     "output_type": "stream",
     "text": [
      "/tmp/ipykernel_440/804014814.py:20: SettingWithCopyWarning: \n",
      "A value is trying to be set on a copy of a slice from a DataFrame.\n",
      "Try using .loc[row_indexer,col_indexer] = value instead\n",
      "\n",
      "See the caveats in the documentation: https://pandas.pydata.org/pandas-docs/stable/user_guide/indexing.html#returning-a-view-versus-a-copy\n",
      "  df_interpreted[category] =  df_interpreted[categories_column].apply(lambda x: 1 if x == category else 0)\n",
      "/tmp/ipykernel_440/804014814.py:20: SettingWithCopyWarning: \n",
      "A value is trying to be set on a copy of a slice from a DataFrame.\n",
      "Try using .loc[row_indexer,col_indexer] = value instead\n",
      "\n",
      "See the caveats in the documentation: https://pandas.pydata.org/pandas-docs/stable/user_guide/indexing.html#returning-a-view-versus-a-copy\n",
      "  df_interpreted[category] =  df_interpreted[categories_column].apply(lambda x: 1 if x == category else 0)\n"
     ]
    },
    {
     "name": "stdout",
     "output_type": "stream",
     "text": [
      " Calculating stats for SDegF_soud\n",
      "There are 3 entries of SDegF_soud in redd_phytoif.\n",
      " Calculating stats for Deg_meso\n",
      "There are 1 entries of Deg_meso in redd_phytoif.\n"
     ]
    },
    {
     "name": "stderr",
     "output_type": "stream",
     "text": [
      "/tmp/ipykernel_440/804014814.py:20: SettingWithCopyWarning: \n",
      "A value is trying to be set on a copy of a slice from a DataFrame.\n",
      "Try using .loc[row_indexer,col_indexer] = value instead\n",
      "\n",
      "See the caveats in the documentation: https://pandas.pydata.org/pandas-docs/stable/user_guide/indexing.html#returning-a-view-versus-a-copy\n",
      "  df_interpreted[category] =  df_interpreted[categories_column].apply(lambda x: 1 if x == category else 0)\n",
      "/tmp/ipykernel_440/804014814.py:20: SettingWithCopyWarning: \n",
      "A value is trying to be set on a copy of a slice from a DataFrame.\n",
      "Try using .loc[row_indexer,col_indexer] = value instead\n",
      "\n",
      "See the caveats in the documentation: https://pandas.pydata.org/pandas-docs/stable/user_guide/indexing.html#returning-a-view-versus-a-copy\n",
      "  df_interpreted[category] =  df_interpreted[categories_column].apply(lambda x: 1 if x == category else 0)\n"
     ]
    },
    {
     "name": "stdout",
     "output_type": "stream",
     "text": [
      " Calculating stats for Deg_subs\n",
      "There are 1 entries of Deg_subs in redd_phytoif.\n",
      " Calculating stats for SNF_mont\n",
      "There are 36 entries of SNF_mont in redd_phytoif.\n"
     ]
    },
    {
     "name": "stderr",
     "output_type": "stream",
     "text": [
      "/tmp/ipykernel_440/804014814.py:20: SettingWithCopyWarning: \n",
      "A value is trying to be set on a copy of a slice from a DataFrame.\n",
      "Try using .loc[row_indexer,col_indexer] = value instead\n",
      "\n",
      "See the caveats in the documentation: https://pandas.pydata.org/pandas-docs/stable/user_guide/indexing.html#returning-a-view-versus-a-copy\n",
      "  df_interpreted[category] =  df_interpreted[categories_column].apply(lambda x: 1 if x == category else 0)\n",
      "/tmp/ipykernel_440/804014814.py:20: SettingWithCopyWarning: \n",
      "A value is trying to be set on a copy of a slice from a DataFrame.\n",
      "Try using .loc[row_indexer,col_indexer] = value instead\n",
      "\n",
      "See the caveats in the documentation: https://pandas.pydata.org/pandas-docs/stable/user_guide/indexing.html#returning-a-view-versus-a-copy\n",
      "  df_interpreted[category] =  df_interpreted[categories_column].apply(lambda x: 1 if x == category else 0)\n"
     ]
    },
    {
     "name": "stdout",
     "output_type": "stream",
     "text": [
      " Calculating stats for SDegF_mont\n",
      "There are 11 entries of SDegF_mont in redd_phytoif.\n",
      " Calculating stats for SF_mont\n",
      "There are 8 entries of SF_mont in redd_phytoif.\n"
     ]
    },
    {
     "name": "stderr",
     "output_type": "stream",
     "text": [
      "/tmp/ipykernel_440/804014814.py:20: SettingWithCopyWarning: \n",
      "A value is trying to be set on a copy of a slice from a DataFrame.\n",
      "Try using .loc[row_indexer,col_indexer] = value instead\n",
      "\n",
      "See the caveats in the documentation: https://pandas.pydata.org/pandas-docs/stable/user_guide/indexing.html#returning-a-view-versus-a-copy\n",
      "  df_interpreted[category] =  df_interpreted[categories_column].apply(lambda x: 1 if x == category else 0)\n",
      "/tmp/ipykernel_440/804014814.py:20: SettingWithCopyWarning: \n",
      "A value is trying to be set on a copy of a slice from a DataFrame.\n",
      "Try using .loc[row_indexer,col_indexer] = value instead\n",
      "\n",
      "See the caveats in the documentation: https://pandas.pydata.org/pandas-docs/stable/user_guide/indexing.html#returning-a-view-versus-a-copy\n",
      "  df_interpreted[category] =  df_interpreted[categories_column].apply(lambda x: 1 if x == category else 0)\n"
     ]
    },
    {
     "name": "stdout",
     "output_type": "stream",
     "text": [
      " Calculating stats for Def_nodata\n",
      "There are 1 entries of Def_nodata in redd_phytoif.\n",
      " Calculating stats for Def_mont\n",
      "There are 3 entries of Def_mont in redd_phytoif.\n"
     ]
    },
    {
     "name": "stderr",
     "output_type": "stream",
     "text": [
      "/tmp/ipykernel_440/804014814.py:20: SettingWithCopyWarning: \n",
      "A value is trying to be set on a copy of a slice from a DataFrame.\n",
      "Try using .loc[row_indexer,col_indexer] = value instead\n",
      "\n",
      "See the caveats in the documentation: https://pandas.pydata.org/pandas-docs/stable/user_guide/indexing.html#returning-a-view-versus-a-copy\n",
      "  df_interpreted[category] =  df_interpreted[categories_column].apply(lambda x: 1 if x == category else 0)\n",
      "/tmp/ipykernel_440/804014814.py:20: SettingWithCopyWarning: \n",
      "A value is trying to be set on a copy of a slice from a DataFrame.\n",
      "Try using .loc[row_indexer,col_indexer] = value instead\n",
      "\n",
      "See the caveats in the documentation: https://pandas.pydata.org/pandas-docs/stable/user_guide/indexing.html#returning-a-view-versus-a-copy\n",
      "  df_interpreted[category] =  df_interpreted[categories_column].apply(lambda x: 1 if x == category else 0)\n"
     ]
    },
    {
     "name": "stdout",
     "output_type": "stream",
     "text": [
      " Calculating stats for Gain_meso\n",
      "There are 4 entries of Gain_meso in redd_phytoif.\n"
     ]
    },
    {
     "name": "stderr",
     "output_type": "stream",
     "text": [
      "/tmp/ipykernel_440/804014814.py:20: SettingWithCopyWarning: \n",
      "A value is trying to be set on a copy of a slice from a DataFrame.\n",
      "Try using .loc[row_indexer,col_indexer] = value instead\n",
      "\n",
      "See the caveats in the documentation: https://pandas.pydata.org/pandas-docs/stable/user_guide/indexing.html#returning-a-view-versus-a-copy\n",
      "  df_interpreted[category] =  df_interpreted[categories_column].apply(lambda x: 1 if x == category else 0)\n"
     ]
    },
    {
     "data": {
      "text/html": [
       "<div>\n",
       "<style scoped>\n",
       "    .dataframe tbody tr th:only-of-type {\n",
       "        vertical-align: middle;\n",
       "    }\n",
       "\n",
       "    .dataframe tbody tr th {\n",
       "        vertical-align: top;\n",
       "    }\n",
       "\n",
       "    .dataframe thead th {\n",
       "        text-align: right;\n",
       "    }\n",
       "</style>\n",
       "<table border=\"1\" class=\"dataframe\">\n",
       "  <thead>\n",
       "    <tr style=\"text-align: right;\">\n",
       "      <th></th>\n",
       "      <th>area_stratum_0</th>\n",
       "      <th>ci_stratum_0</th>\n",
       "      <th>area_stratum_2</th>\n",
       "      <th>ci_stratum_2</th>\n",
       "      <th>area_stratum_1</th>\n",
       "      <th>ci_stratum_1</th>\n",
       "      <th>area_total</th>\n",
       "      <th>MOE</th>\n",
       "      <th>MOE_perc</th>\n",
       "    </tr>\n",
       "  </thead>\n",
       "  <tbody>\n",
       "    <tr>\n",
       "      <th>SNF_subs</th>\n",
       "      <td>19520.470588</td>\n",
       "      <td>1292.505505</td>\n",
       "      <td>50326.836429</td>\n",
       "      <td>3397.114986</td>\n",
       "      <td>2258.068966</td>\n",
       "      <td>419.255410</td>\n",
       "      <td>72105.375982</td>\n",
       "      <td>3658.788844</td>\n",
       "      <td>5.074225</td>\n",
       "    </tr>\n",
       "    <tr>\n",
       "      <th>SF_subs</th>\n",
       "      <td>13813.214357</td>\n",
       "      <td>1135.115600</td>\n",
       "      <td>10258.467857</td>\n",
       "      <td>1773.935398</td>\n",
       "      <td>3481.189655</td>\n",
       "      <td>507.683862</td>\n",
       "      <td>27552.871869</td>\n",
       "      <td>2166.351109</td>\n",
       "      <td>7.862524</td>\n",
       "    </tr>\n",
       "    <tr>\n",
       "      <th>SF_nodata</th>\n",
       "      <td>827.138584</td>\n",
       "      <td>302.728523</td>\n",
       "      <td>482.751429</td>\n",
       "      <td>396.495411</td>\n",
       "      <td>156.810345</td>\n",
       "      <td>115.028124</td>\n",
       "      <td>1466.700358</td>\n",
       "      <td>511.942027</td>\n",
       "      <td>34.904336</td>\n",
       "    </tr>\n",
       "    <tr>\n",
       "      <th>SDegF_meso</th>\n",
       "      <td>1075.280160</td>\n",
       "      <td>344.641833</td>\n",
       "      <td>844.815000</td>\n",
       "      <td>523.950234</td>\n",
       "      <td>1944.448276</td>\n",
       "      <td>391.482638</td>\n",
       "      <td>3864.543435</td>\n",
       "      <td>739.297300</td>\n",
       "      <td>19.130262</td>\n",
       "    </tr>\n",
       "    <tr>\n",
       "      <th>SNF_meso</th>\n",
       "      <td>24690.086740</td>\n",
       "      <td>1393.129166</td>\n",
       "      <td>63361.125000</td>\n",
       "      <td>3596.243906</td>\n",
       "      <td>9847.689655</td>\n",
       "      <td>730.824674</td>\n",
       "      <td>97898.901395</td>\n",
       "      <td>3925.287736</td>\n",
       "      <td>4.009532</td>\n",
       "    </tr>\n",
       "    <tr>\n",
       "      <th>SNF_omb</th>\n",
       "      <td>6658.465603</td>\n",
       "      <td>827.865617</td>\n",
       "      <td>10741.219286</td>\n",
       "      <td>1812.432369</td>\n",
       "      <td>1724.913793</td>\n",
       "      <td>370.314852</td>\n",
       "      <td>19124.598682</td>\n",
       "      <td>2026.673546</td>\n",
       "      <td>10.597208</td>\n",
       "    </tr>\n",
       "    <tr>\n",
       "      <th>Def_omb</th>\n",
       "      <td>82.713858</td>\n",
       "      <td>96.164013</td>\n",
       "      <td>0.000000</td>\n",
       "      <td>0.000000</td>\n",
       "      <td>0.000000</td>\n",
       "      <td>0.000000</td>\n",
       "      <td>82.713858</td>\n",
       "      <td>96.164013</td>\n",
       "      <td>116.261065</td>\n",
       "    </tr>\n",
       "    <tr>\n",
       "      <th>SF_meso</th>\n",
       "      <td>3391.268195</td>\n",
       "      <td>603.334531</td>\n",
       "      <td>3258.572143</td>\n",
       "      <td>1021.604063</td>\n",
       "      <td>3355.741379</td>\n",
       "      <td>499.764196</td>\n",
       "      <td>10005.581718</td>\n",
       "      <td>1287.420549</td>\n",
       "      <td>12.867023</td>\n",
       "    </tr>\n",
       "    <tr>\n",
       "      <th>SDegF_omb</th>\n",
       "      <td>661.710867</td>\n",
       "      <td>271.041163</td>\n",
       "      <td>120.687857</td>\n",
       "      <td>198.460608</td>\n",
       "      <td>689.965517</td>\n",
       "      <td>238.902254</td>\n",
       "      <td>1472.364242</td>\n",
       "      <td>412.218646</td>\n",
       "      <td>27.997056</td>\n",
       "    </tr>\n",
       "    <tr>\n",
       "      <th>SDegF_subs</th>\n",
       "      <td>289.498504</td>\n",
       "      <td>179.681821</td>\n",
       "      <td>241.375714</td>\n",
       "      <td>280.565356</td>\n",
       "      <td>313.620690</td>\n",
       "      <td>162.203495</td>\n",
       "      <td>844.494908</td>\n",
       "      <td>370.556945</td>\n",
       "      <td>43.879121</td>\n",
       "    </tr>\n",
       "    <tr>\n",
       "      <th>Def_meso</th>\n",
       "      <td>578.997009</td>\n",
       "      <td>253.663165</td>\n",
       "      <td>241.375714</td>\n",
       "      <td>280.565356</td>\n",
       "      <td>533.155172</td>\n",
       "      <td>210.625019</td>\n",
       "      <td>1353.527896</td>\n",
       "      <td>432.925882</td>\n",
       "      <td>31.984999</td>\n",
       "    </tr>\n",
       "    <tr>\n",
       "      <th>SNF_soud</th>\n",
       "      <td>5252.330010</td>\n",
       "      <td>742.017201</td>\n",
       "      <td>20034.184286</td>\n",
       "      <td>2401.469552</td>\n",
       "      <td>313.620690</td>\n",
       "      <td>162.203495</td>\n",
       "      <td>25600.134985</td>\n",
       "      <td>2518.721007</td>\n",
       "      <td>9.838702</td>\n",
       "    </tr>\n",
       "    <tr>\n",
       "      <th>SF_omb</th>\n",
       "      <td>537.640080</td>\n",
       "      <td>244.497289</td>\n",
       "      <td>724.127143</td>\n",
       "      <td>485.257742</td>\n",
       "      <td>533.155172</td>\n",
       "      <td>210.625019</td>\n",
       "      <td>1794.922395</td>\n",
       "      <td>582.766590</td>\n",
       "      <td>32.467509</td>\n",
       "    </tr>\n",
       "    <tr>\n",
       "      <th>SNF_nodata</th>\n",
       "      <td>703.067797</td>\n",
       "      <td>279.312630</td>\n",
       "      <td>3258.572143</td>\n",
       "      <td>1021.604063</td>\n",
       "      <td>344.982759</td>\n",
       "      <td>170.021525</td>\n",
       "      <td>4306.622698</td>\n",
       "      <td>1072.659184</td>\n",
       "      <td>24.907201</td>\n",
       "    </tr>\n",
       "    <tr>\n",
       "      <th>SF_soud</th>\n",
       "      <td>2150.560319</td>\n",
       "      <td>484.186497</td>\n",
       "      <td>2655.132857</td>\n",
       "      <td>923.849887</td>\n",
       "      <td>156.810345</td>\n",
       "      <td>115.028124</td>\n",
       "      <td>4962.503521</td>\n",
       "      <td>1049.364878</td>\n",
       "      <td>21.145877</td>\n",
       "    </tr>\n",
       "    <tr>\n",
       "      <th>SDegF_nodata</th>\n",
       "      <td>124.070788</td>\n",
       "      <td>117.746993</td>\n",
       "      <td>0.000000</td>\n",
       "      <td>0.000000</td>\n",
       "      <td>188.172414</td>\n",
       "      <td>125.934139</td>\n",
       "      <td>312.243201</td>\n",
       "      <td>172.405805</td>\n",
       "      <td>55.215231</td>\n",
       "    </tr>\n",
       "    <tr>\n",
       "      <th>Def_subs</th>\n",
       "      <td>1323.421735</td>\n",
       "      <td>381.766034</td>\n",
       "      <td>724.127143</td>\n",
       "      <td>485.257742</td>\n",
       "      <td>407.706897</td>\n",
       "      <td>184.617586</td>\n",
       "      <td>2455.255774</td>\n",
       "      <td>644.440869</td>\n",
       "      <td>26.247403</td>\n",
       "    </tr>\n",
       "    <tr>\n",
       "      <th>Def_soud</th>\n",
       "      <td>206.784646</td>\n",
       "      <td>151.934804</td>\n",
       "      <td>603.439286</td>\n",
       "      <td>443.136544</td>\n",
       "      <td>0.000000</td>\n",
       "      <td>0.000000</td>\n",
       "      <td>810.223932</td>\n",
       "      <td>468.459370</td>\n",
       "      <td>57.818506</td>\n",
       "    </tr>\n",
       "    <tr>\n",
       "      <th>SDegF_soud</th>\n",
       "      <td>124.070788</td>\n",
       "      <td>117.746993</td>\n",
       "      <td>0.000000</td>\n",
       "      <td>0.000000</td>\n",
       "      <td>0.000000</td>\n",
       "      <td>0.000000</td>\n",
       "      <td>124.070788</td>\n",
       "      <td>117.746993</td>\n",
       "      <td>94.903075</td>\n",
       "    </tr>\n",
       "    <tr>\n",
       "      <th>Deg_meso</th>\n",
       "      <td>0.000000</td>\n",
       "      <td>0.000000</td>\n",
       "      <td>120.687857</td>\n",
       "      <td>198.460608</td>\n",
       "      <td>0.000000</td>\n",
       "      <td>0.000000</td>\n",
       "      <td>120.687857</td>\n",
       "      <td>198.460608</td>\n",
       "      <td>164.441240</td>\n",
       "    </tr>\n",
       "    <tr>\n",
       "      <th>Deg_subs</th>\n",
       "      <td>0.000000</td>\n",
       "      <td>0.000000</td>\n",
       "      <td>0.000000</td>\n",
       "      <td>0.000000</td>\n",
       "      <td>31.362069</td>\n",
       "      <td>51.560945</td>\n",
       "      <td>31.362069</td>\n",
       "      <td>51.560945</td>\n",
       "      <td>164.405433</td>\n",
       "    </tr>\n",
       "    <tr>\n",
       "      <th>SNF_mont</th>\n",
       "      <td>537.640080</td>\n",
       "      <td>244.497289</td>\n",
       "      <td>724.127143</td>\n",
       "      <td>485.257742</td>\n",
       "      <td>533.155172</td>\n",
       "      <td>210.625019</td>\n",
       "      <td>1794.922395</td>\n",
       "      <td>582.766590</td>\n",
       "      <td>32.467509</td>\n",
       "    </tr>\n",
       "    <tr>\n",
       "      <th>SDegF_mont</th>\n",
       "      <td>82.713858</td>\n",
       "      <td>96.164013</td>\n",
       "      <td>0.000000</td>\n",
       "      <td>0.000000</td>\n",
       "      <td>282.258621</td>\n",
       "      <td>153.969185</td>\n",
       "      <td>364.972479</td>\n",
       "      <td>181.532442</td>\n",
       "      <td>49.738666</td>\n",
       "    </tr>\n",
       "    <tr>\n",
       "      <th>SF_mont</th>\n",
       "      <td>206.784646</td>\n",
       "      <td>151.934804</td>\n",
       "      <td>0.000000</td>\n",
       "      <td>0.000000</td>\n",
       "      <td>94.086207</td>\n",
       "      <td>89.203349</td>\n",
       "      <td>300.870853</td>\n",
       "      <td>176.185760</td>\n",
       "      <td>58.558600</td>\n",
       "    </tr>\n",
       "    <tr>\n",
       "      <th>Def_nodata</th>\n",
       "      <td>41.356929</td>\n",
       "      <td>68.015189</td>\n",
       "      <td>0.000000</td>\n",
       "      <td>0.000000</td>\n",
       "      <td>0.000000</td>\n",
       "      <td>0.000000</td>\n",
       "      <td>41.356929</td>\n",
       "      <td>68.015189</td>\n",
       "      <td>164.458993</td>\n",
       "    </tr>\n",
       "    <tr>\n",
       "      <th>Def_mont</th>\n",
       "      <td>41.356929</td>\n",
       "      <td>68.015189</td>\n",
       "      <td>0.000000</td>\n",
       "      <td>0.000000</td>\n",
       "      <td>62.724138</td>\n",
       "      <td>72.876221</td>\n",
       "      <td>104.081067</td>\n",
       "      <td>99.684550</td>\n",
       "      <td>95.775872</td>\n",
       "    </tr>\n",
       "    <tr>\n",
       "      <th>Gain_meso</th>\n",
       "      <td>41.356929</td>\n",
       "      <td>68.015189</td>\n",
       "      <td>241.375714</td>\n",
       "      <td>280.565356</td>\n",
       "      <td>31.362069</td>\n",
       "      <td>51.560945</td>\n",
       "      <td>314.094712</td>\n",
       "      <td>293.260151</td>\n",
       "      <td>93.366790</td>\n",
       "    </tr>\n",
       "  </tbody>\n",
       "</table>\n",
       "</div>"
      ],
      "text/plain": [
       "              area_stratum_0  ci_stratum_0  area_stratum_2  ci_stratum_2  \\\n",
       "SNF_subs        19520.470588   1292.505505    50326.836429   3397.114986   \n",
       "SF_subs         13813.214357   1135.115600    10258.467857   1773.935398   \n",
       "SF_nodata         827.138584    302.728523      482.751429    396.495411   \n",
       "SDegF_meso       1075.280160    344.641833      844.815000    523.950234   \n",
       "SNF_meso        24690.086740   1393.129166    63361.125000   3596.243906   \n",
       "SNF_omb          6658.465603    827.865617    10741.219286   1812.432369   \n",
       "Def_omb            82.713858     96.164013        0.000000      0.000000   \n",
       "SF_meso          3391.268195    603.334531     3258.572143   1021.604063   \n",
       "SDegF_omb         661.710867    271.041163      120.687857    198.460608   \n",
       "SDegF_subs        289.498504    179.681821      241.375714    280.565356   \n",
       "Def_meso          578.997009    253.663165      241.375714    280.565356   \n",
       "SNF_soud         5252.330010    742.017201    20034.184286   2401.469552   \n",
       "SF_omb            537.640080    244.497289      724.127143    485.257742   \n",
       "SNF_nodata        703.067797    279.312630     3258.572143   1021.604063   \n",
       "SF_soud          2150.560319    484.186497     2655.132857    923.849887   \n",
       "SDegF_nodata      124.070788    117.746993        0.000000      0.000000   \n",
       "Def_subs         1323.421735    381.766034      724.127143    485.257742   \n",
       "Def_soud          206.784646    151.934804      603.439286    443.136544   \n",
       "SDegF_soud        124.070788    117.746993        0.000000      0.000000   \n",
       "Deg_meso            0.000000      0.000000      120.687857    198.460608   \n",
       "Deg_subs            0.000000      0.000000        0.000000      0.000000   \n",
       "SNF_mont          537.640080    244.497289      724.127143    485.257742   \n",
       "SDegF_mont         82.713858     96.164013        0.000000      0.000000   \n",
       "SF_mont           206.784646    151.934804        0.000000      0.000000   \n",
       "Def_nodata         41.356929     68.015189        0.000000      0.000000   \n",
       "Def_mont           41.356929     68.015189        0.000000      0.000000   \n",
       "Gain_meso          41.356929     68.015189      241.375714    280.565356   \n",
       "\n",
       "              area_stratum_1  ci_stratum_1    area_total          MOE  \\\n",
       "SNF_subs         2258.068966    419.255410  72105.375982  3658.788844   \n",
       "SF_subs          3481.189655    507.683862  27552.871869  2166.351109   \n",
       "SF_nodata         156.810345    115.028124   1466.700358   511.942027   \n",
       "SDegF_meso       1944.448276    391.482638   3864.543435   739.297300   \n",
       "SNF_meso         9847.689655    730.824674  97898.901395  3925.287736   \n",
       "SNF_omb          1724.913793    370.314852  19124.598682  2026.673546   \n",
       "Def_omb             0.000000      0.000000     82.713858    96.164013   \n",
       "SF_meso          3355.741379    499.764196  10005.581718  1287.420549   \n",
       "SDegF_omb         689.965517    238.902254   1472.364242   412.218646   \n",
       "SDegF_subs        313.620690    162.203495    844.494908   370.556945   \n",
       "Def_meso          533.155172    210.625019   1353.527896   432.925882   \n",
       "SNF_soud          313.620690    162.203495  25600.134985  2518.721007   \n",
       "SF_omb            533.155172    210.625019   1794.922395   582.766590   \n",
       "SNF_nodata        344.982759    170.021525   4306.622698  1072.659184   \n",
       "SF_soud           156.810345    115.028124   4962.503521  1049.364878   \n",
       "SDegF_nodata      188.172414    125.934139    312.243201   172.405805   \n",
       "Def_subs          407.706897    184.617586   2455.255774   644.440869   \n",
       "Def_soud            0.000000      0.000000    810.223932   468.459370   \n",
       "SDegF_soud          0.000000      0.000000    124.070788   117.746993   \n",
       "Deg_meso            0.000000      0.000000    120.687857   198.460608   \n",
       "Deg_subs           31.362069     51.560945     31.362069    51.560945   \n",
       "SNF_mont          533.155172    210.625019   1794.922395   582.766590   \n",
       "SDegF_mont        282.258621    153.969185    364.972479   181.532442   \n",
       "SF_mont            94.086207     89.203349    300.870853   176.185760   \n",
       "Def_nodata          0.000000      0.000000     41.356929    68.015189   \n",
       "Def_mont           62.724138     72.876221    104.081067    99.684550   \n",
       "Gain_meso          31.362069     51.560945    314.094712   293.260151   \n",
       "\n",
       "                MOE_perc  \n",
       "SNF_subs        5.074225  \n",
       "SF_subs         7.862524  \n",
       "SF_nodata      34.904336  \n",
       "SDegF_meso     19.130262  \n",
       "SNF_meso        4.009532  \n",
       "SNF_omb        10.597208  \n",
       "Def_omb       116.261065  \n",
       "SF_meso        12.867023  \n",
       "SDegF_omb      27.997056  \n",
       "SDegF_subs     43.879121  \n",
       "Def_meso       31.984999  \n",
       "SNF_soud        9.838702  \n",
       "SF_omb         32.467509  \n",
       "SNF_nodata     24.907201  \n",
       "SF_soud        21.145877  \n",
       "SDegF_nodata   55.215231  \n",
       "Def_subs       26.247403  \n",
       "Def_soud       57.818506  \n",
       "SDegF_soud     94.903075  \n",
       "Deg_meso      164.441240  \n",
       "Deg_subs      164.405433  \n",
       "SNF_mont       32.467509  \n",
       "SDegF_mont     49.738666  \n",
       "SF_mont        58.558600  \n",
       "Def_nodata    164.458993  \n",
       "Def_mont       95.775872  \n",
       "Gain_meso      93.366790  "
      ]
     },
     "execution_count": 63,
     "metadata": {},
     "output_type": "execute_result"
    }
   ],
   "source": [
    "#scenario DA1 par phyto IFFN: \n",
    "calculate_areas(db_total=df_scDA1, strata_column='kmeans_multi', categories_column='redd_phytoif', total_area=len(df_scDA1), z_score=1.645)"
   ]
  },
  {
   "cell_type": "code",
   "execution_count": 64,
   "id": "e205778f-a496-4df1-ba64-0021dc02f4cb",
   "metadata": {
    "tags": []
   },
   "outputs": [
    {
     "name": "stdout",
     "output_type": "stream",
     "text": [
      "['SNF_soud' 'SF_soud' 'SDegF_meso' 'SNF_meso' 'SNF_omb' 'Def_omb'\n",
      " 'SF_subs' 'SDegF_omb' 'SF_meso' 'SNF_subs' 'SDegF_soud' 'Def_meso'\n",
      " 'SF_omb' 'SNF_nodata' 'SDegF_subs' 'SDegF_nodata' 'SF_nodata' 'Def_soud'\n",
      " 'Def_subs' 'Deg_subs' 'Deg_soud' 'Def_nodata' 'Gain_meso' 'Gain_subs']\n",
      " Calculating stats for SNF_soud\n",
      "There are 1268 entries of SNF_soud in redd_phyto.\n",
      " Calculating stats for SF_soud\n",
      "There are 612 entries of SF_soud in redd_phyto.\n"
     ]
    },
    {
     "name": "stderr",
     "output_type": "stream",
     "text": [
      "/tmp/ipykernel_440/804014814.py:20: SettingWithCopyWarning: \n",
      "A value is trying to be set on a copy of a slice from a DataFrame.\n",
      "Try using .loc[row_indexer,col_indexer] = value instead\n",
      "\n",
      "See the caveats in the documentation: https://pandas.pydata.org/pandas-docs/stable/user_guide/indexing.html#returning-a-view-versus-a-copy\n",
      "  df_interpreted[category] =  df_interpreted[categories_column].apply(lambda x: 1 if x == category else 0)\n",
      "/tmp/ipykernel_440/804014814.py:20: SettingWithCopyWarning: \n",
      "A value is trying to be set on a copy of a slice from a DataFrame.\n",
      "Try using .loc[row_indexer,col_indexer] = value instead\n",
      "\n",
      "See the caveats in the documentation: https://pandas.pydata.org/pandas-docs/stable/user_guide/indexing.html#returning-a-view-versus-a-copy\n",
      "  df_interpreted[category] =  df_interpreted[categories_column].apply(lambda x: 1 if x == category else 0)\n"
     ]
    },
    {
     "name": "stdout",
     "output_type": "stream",
     "text": [
      " Calculating stats for SDegF_meso\n",
      "There are 88 entries of SDegF_meso in redd_phyto.\n",
      " Calculating stats for SNF_meso\n",
      "There are 1107 entries of SNF_meso in redd_phyto.\n"
     ]
    },
    {
     "name": "stderr",
     "output_type": "stream",
     "text": [
      "/tmp/ipykernel_440/804014814.py:20: SettingWithCopyWarning: \n",
      "A value is trying to be set on a copy of a slice from a DataFrame.\n",
      "Try using .loc[row_indexer,col_indexer] = value instead\n",
      "\n",
      "See the caveats in the documentation: https://pandas.pydata.org/pandas-docs/stable/user_guide/indexing.html#returning-a-view-versus-a-copy\n",
      "  df_interpreted[category] =  df_interpreted[categories_column].apply(lambda x: 1 if x == category else 0)\n",
      "/tmp/ipykernel_440/804014814.py:20: SettingWithCopyWarning: \n",
      "A value is trying to be set on a copy of a slice from a DataFrame.\n",
      "Try using .loc[row_indexer,col_indexer] = value instead\n",
      "\n",
      "See the caveats in the documentation: https://pandas.pydata.org/pandas-docs/stable/user_guide/indexing.html#returning-a-view-versus-a-copy\n",
      "  df_interpreted[category] =  df_interpreted[categories_column].apply(lambda x: 1 if x == category else 0)\n"
     ]
    },
    {
     "name": "stdout",
     "output_type": "stream",
     "text": [
      " Calculating stats for SNF_omb\n",
      "There are 306 entries of SNF_omb in redd_phyto.\n",
      " Calculating stats for Def_omb\n",
      "There are 2 entries of Def_omb in redd_phyto.\n"
     ]
    },
    {
     "name": "stderr",
     "output_type": "stream",
     "text": [
      "/tmp/ipykernel_440/804014814.py:20: SettingWithCopyWarning: \n",
      "A value is trying to be set on a copy of a slice from a DataFrame.\n",
      "Try using .loc[row_indexer,col_indexer] = value instead\n",
      "\n",
      "See the caveats in the documentation: https://pandas.pydata.org/pandas-docs/stable/user_guide/indexing.html#returning-a-view-versus-a-copy\n",
      "  df_interpreted[category] =  df_interpreted[categories_column].apply(lambda x: 1 if x == category else 0)\n",
      "/tmp/ipykernel_440/804014814.py:20: SettingWithCopyWarning: \n",
      "A value is trying to be set on a copy of a slice from a DataFrame.\n",
      "Try using .loc[row_indexer,col_indexer] = value instead\n",
      "\n",
      "See the caveats in the documentation: https://pandas.pydata.org/pandas-docs/stable/user_guide/indexing.html#returning-a-view-versus-a-copy\n",
      "  df_interpreted[category] =  df_interpreted[categories_column].apply(lambda x: 1 if x == category else 0)\n"
     ]
    },
    {
     "name": "stdout",
     "output_type": "stream",
     "text": [
      " Calculating stats for SF_subs\n",
      "There are 91 entries of SF_subs in redd_phyto.\n",
      " Calculating stats for SDegF_omb\n",
      "There are 39 entries of SDegF_omb in redd_phyto.\n"
     ]
    },
    {
     "name": "stderr",
     "output_type": "stream",
     "text": [
      "/tmp/ipykernel_440/804014814.py:20: SettingWithCopyWarning: \n",
      "A value is trying to be set on a copy of a slice from a DataFrame.\n",
      "Try using .loc[row_indexer,col_indexer] = value instead\n",
      "\n",
      "See the caveats in the documentation: https://pandas.pydata.org/pandas-docs/stable/user_guide/indexing.html#returning-a-view-versus-a-copy\n",
      "  df_interpreted[category] =  df_interpreted[categories_column].apply(lambda x: 1 if x == category else 0)\n",
      "/tmp/ipykernel_440/804014814.py:20: SettingWithCopyWarning: \n",
      "A value is trying to be set on a copy of a slice from a DataFrame.\n",
      "Try using .loc[row_indexer,col_indexer] = value instead\n",
      "\n",
      "See the caveats in the documentation: https://pandas.pydata.org/pandas-docs/stable/user_guide/indexing.html#returning-a-view-versus-a-copy\n",
      "  df_interpreted[category] =  df_interpreted[categories_column].apply(lambda x: 1 if x == category else 0)\n"
     ]
    },
    {
     "name": "stdout",
     "output_type": "stream",
     "text": [
      " Calculating stats for SF_meso\n",
      "There are 134 entries of SF_meso in redd_phyto.\n",
      " Calculating stats for SNF_subs\n",
      "There are 370 entries of SNF_subs in redd_phyto.\n"
     ]
    },
    {
     "name": "stderr",
     "output_type": "stream",
     "text": [
      "/tmp/ipykernel_440/804014814.py:20: SettingWithCopyWarning: \n",
      "A value is trying to be set on a copy of a slice from a DataFrame.\n",
      "Try using .loc[row_indexer,col_indexer] = value instead\n",
      "\n",
      "See the caveats in the documentation: https://pandas.pydata.org/pandas-docs/stable/user_guide/indexing.html#returning-a-view-versus-a-copy\n",
      "  df_interpreted[category] =  df_interpreted[categories_column].apply(lambda x: 1 if x == category else 0)\n",
      "/tmp/ipykernel_440/804014814.py:20: SettingWithCopyWarning: \n",
      "A value is trying to be set on a copy of a slice from a DataFrame.\n",
      "Try using .loc[row_indexer,col_indexer] = value instead\n",
      "\n",
      "See the caveats in the documentation: https://pandas.pydata.org/pandas-docs/stable/user_guide/indexing.html#returning-a-view-versus-a-copy\n",
      "  df_interpreted[category] =  df_interpreted[categories_column].apply(lambda x: 1 if x == category else 0)\n"
     ]
    },
    {
     "name": "stdout",
     "output_type": "stream",
     "text": [
      " Calculating stats for SDegF_soud\n",
      "There are 22 entries of SDegF_soud in redd_phyto.\n",
      " Calculating stats for Def_meso\n",
      "There are 30 entries of Def_meso in redd_phyto.\n"
     ]
    },
    {
     "name": "stderr",
     "output_type": "stream",
     "text": [
      "/tmp/ipykernel_440/804014814.py:20: SettingWithCopyWarning: \n",
      "A value is trying to be set on a copy of a slice from a DataFrame.\n",
      "Try using .loc[row_indexer,col_indexer] = value instead\n",
      "\n",
      "See the caveats in the documentation: https://pandas.pydata.org/pandas-docs/stable/user_guide/indexing.html#returning-a-view-versus-a-copy\n",
      "  df_interpreted[category] =  df_interpreted[categories_column].apply(lambda x: 1 if x == category else 0)\n",
      "/tmp/ipykernel_440/804014814.py:20: SettingWithCopyWarning: \n",
      "A value is trying to be set on a copy of a slice from a DataFrame.\n",
      "Try using .loc[row_indexer,col_indexer] = value instead\n",
      "\n",
      "See the caveats in the documentation: https://pandas.pydata.org/pandas-docs/stable/user_guide/indexing.html#returning-a-view-versus-a-copy\n",
      "  df_interpreted[category] =  df_interpreted[categories_column].apply(lambda x: 1 if x == category else 0)\n"
     ]
    },
    {
     "name": "stdout",
     "output_type": "stream",
     "text": [
      " Calculating stats for SF_omb\n",
      "There are 39 entries of SF_omb in redd_phyto.\n",
      " Calculating stats for SNF_nodata\n",
      "There are 45 entries of SNF_nodata in redd_phyto.\n"
     ]
    },
    {
     "name": "stderr",
     "output_type": "stream",
     "text": [
      "/tmp/ipykernel_440/804014814.py:20: SettingWithCopyWarning: \n",
      "A value is trying to be set on a copy of a slice from a DataFrame.\n",
      "Try using .loc[row_indexer,col_indexer] = value instead\n",
      "\n",
      "See the caveats in the documentation: https://pandas.pydata.org/pandas-docs/stable/user_guide/indexing.html#returning-a-view-versus-a-copy\n",
      "  df_interpreted[category] =  df_interpreted[categories_column].apply(lambda x: 1 if x == category else 0)\n",
      "/tmp/ipykernel_440/804014814.py:20: SettingWithCopyWarning: \n",
      "A value is trying to be set on a copy of a slice from a DataFrame.\n",
      "Try using .loc[row_indexer,col_indexer] = value instead\n",
      "\n",
      "See the caveats in the documentation: https://pandas.pydata.org/pandas-docs/stable/user_guide/indexing.html#returning-a-view-versus-a-copy\n",
      "  df_interpreted[category] =  df_interpreted[categories_column].apply(lambda x: 1 if x == category else 0)\n"
     ]
    },
    {
     "name": "stdout",
     "output_type": "stream",
     "text": [
      " Calculating stats for SDegF_subs\n",
      "There are 18 entries of SDegF_subs in redd_phyto.\n",
      " Calculating stats for SDegF_nodata\n",
      "There are 9 entries of SDegF_nodata in redd_phyto.\n"
     ]
    },
    {
     "name": "stderr",
     "output_type": "stream",
     "text": [
      "/tmp/ipykernel_440/804014814.py:20: SettingWithCopyWarning: \n",
      "A value is trying to be set on a copy of a slice from a DataFrame.\n",
      "Try using .loc[row_indexer,col_indexer] = value instead\n",
      "\n",
      "See the caveats in the documentation: https://pandas.pydata.org/pandas-docs/stable/user_guide/indexing.html#returning-a-view-versus-a-copy\n",
      "  df_interpreted[category] =  df_interpreted[categories_column].apply(lambda x: 1 if x == category else 0)\n",
      "/tmp/ipykernel_440/804014814.py:20: SettingWithCopyWarning: \n",
      "A value is trying to be set on a copy of a slice from a DataFrame.\n",
      "Try using .loc[row_indexer,col_indexer] = value instead\n",
      "\n",
      "See the caveats in the documentation: https://pandas.pydata.org/pandas-docs/stable/user_guide/indexing.html#returning-a-view-versus-a-copy\n",
      "  df_interpreted[category] =  df_interpreted[categories_column].apply(lambda x: 1 if x == category else 0)\n"
     ]
    },
    {
     "name": "stdout",
     "output_type": "stream",
     "text": [
      " Calculating stats for SF_nodata\n",
      "There are 22 entries of SF_nodata in redd_phyto.\n",
      " Calculating stats for Def_soud\n",
      "There are 61 entries of Def_soud in redd_phyto.\n"
     ]
    },
    {
     "name": "stderr",
     "output_type": "stream",
     "text": [
      "/tmp/ipykernel_440/804014814.py:20: SettingWithCopyWarning: \n",
      "A value is trying to be set on a copy of a slice from a DataFrame.\n",
      "Try using .loc[row_indexer,col_indexer] = value instead\n",
      "\n",
      "See the caveats in the documentation: https://pandas.pydata.org/pandas-docs/stable/user_guide/indexing.html#returning-a-view-versus-a-copy\n",
      "  df_interpreted[category] =  df_interpreted[categories_column].apply(lambda x: 1 if x == category else 0)\n",
      "/tmp/ipykernel_440/804014814.py:20: SettingWithCopyWarning: \n",
      "A value is trying to be set on a copy of a slice from a DataFrame.\n",
      "Try using .loc[row_indexer,col_indexer] = value instead\n",
      "\n",
      "See the caveats in the documentation: https://pandas.pydata.org/pandas-docs/stable/user_guide/indexing.html#returning-a-view-versus-a-copy\n",
      "  df_interpreted[category] =  df_interpreted[categories_column].apply(lambda x: 1 if x == category else 0)\n"
     ]
    },
    {
     "name": "stdout",
     "output_type": "stream",
     "text": [
      " Calculating stats for Def_subs\n",
      "There are 6 entries of Def_subs in redd_phyto.\n",
      " Calculating stats for Deg_subs\n",
      "There are 1 entries of Deg_subs in redd_phyto.\n"
     ]
    },
    {
     "name": "stderr",
     "output_type": "stream",
     "text": [
      "/tmp/ipykernel_440/804014814.py:20: SettingWithCopyWarning: \n",
      "A value is trying to be set on a copy of a slice from a DataFrame.\n",
      "Try using .loc[row_indexer,col_indexer] = value instead\n",
      "\n",
      "See the caveats in the documentation: https://pandas.pydata.org/pandas-docs/stable/user_guide/indexing.html#returning-a-view-versus-a-copy\n",
      "  df_interpreted[category] =  df_interpreted[categories_column].apply(lambda x: 1 if x == category else 0)\n",
      "/tmp/ipykernel_440/804014814.py:20: SettingWithCopyWarning: \n",
      "A value is trying to be set on a copy of a slice from a DataFrame.\n",
      "Try using .loc[row_indexer,col_indexer] = value instead\n",
      "\n",
      "See the caveats in the documentation: https://pandas.pydata.org/pandas-docs/stable/user_guide/indexing.html#returning-a-view-versus-a-copy\n",
      "  df_interpreted[category] =  df_interpreted[categories_column].apply(lambda x: 1 if x == category else 0)\n"
     ]
    },
    {
     "name": "stdout",
     "output_type": "stream",
     "text": [
      " Calculating stats for Deg_soud\n",
      "There are 1 entries of Deg_soud in redd_phyto.\n",
      " Calculating stats for Def_nodata\n",
      "There are 1 entries of Def_nodata in redd_phyto.\n"
     ]
    },
    {
     "name": "stderr",
     "output_type": "stream",
     "text": [
      "/tmp/ipykernel_440/804014814.py:20: SettingWithCopyWarning: \n",
      "A value is trying to be set on a copy of a slice from a DataFrame.\n",
      "Try using .loc[row_indexer,col_indexer] = value instead\n",
      "\n",
      "See the caveats in the documentation: https://pandas.pydata.org/pandas-docs/stable/user_guide/indexing.html#returning-a-view-versus-a-copy\n",
      "  df_interpreted[category] =  df_interpreted[categories_column].apply(lambda x: 1 if x == category else 0)\n",
      "/tmp/ipykernel_440/804014814.py:20: SettingWithCopyWarning: \n",
      "A value is trying to be set on a copy of a slice from a DataFrame.\n",
      "Try using .loc[row_indexer,col_indexer] = value instead\n",
      "\n",
      "See the caveats in the documentation: https://pandas.pydata.org/pandas-docs/stable/user_guide/indexing.html#returning-a-view-versus-a-copy\n",
      "  df_interpreted[category] =  df_interpreted[categories_column].apply(lambda x: 1 if x == category else 0)\n"
     ]
    },
    {
     "name": "stdout",
     "output_type": "stream",
     "text": [
      " Calculating stats for Gain_meso\n",
      "There are 2 entries of Gain_meso in redd_phyto.\n",
      " Calculating stats for Gain_subs\n",
      "There are 2 entries of Gain_subs in redd_phyto.\n"
     ]
    },
    {
     "name": "stderr",
     "output_type": "stream",
     "text": [
      "/tmp/ipykernel_440/804014814.py:20: SettingWithCopyWarning: \n",
      "A value is trying to be set on a copy of a slice from a DataFrame.\n",
      "Try using .loc[row_indexer,col_indexer] = value instead\n",
      "\n",
      "See the caveats in the documentation: https://pandas.pydata.org/pandas-docs/stable/user_guide/indexing.html#returning-a-view-versus-a-copy\n",
      "  df_interpreted[category] =  df_interpreted[categories_column].apply(lambda x: 1 if x == category else 0)\n",
      "/tmp/ipykernel_440/804014814.py:20: SettingWithCopyWarning: \n",
      "A value is trying to be set on a copy of a slice from a DataFrame.\n",
      "Try using .loc[row_indexer,col_indexer] = value instead\n",
      "\n",
      "See the caveats in the documentation: https://pandas.pydata.org/pandas-docs/stable/user_guide/indexing.html#returning-a-view-versus-a-copy\n",
      "  df_interpreted[category] =  df_interpreted[categories_column].apply(lambda x: 1 if x == category else 0)\n"
     ]
    },
    {
     "data": {
      "text/html": [
       "<div>\n",
       "<style scoped>\n",
       "    .dataframe tbody tr th:only-of-type {\n",
       "        vertical-align: middle;\n",
       "    }\n",
       "\n",
       "    .dataframe tbody tr th {\n",
       "        vertical-align: top;\n",
       "    }\n",
       "\n",
       "    .dataframe thead th {\n",
       "        text-align: right;\n",
       "    }\n",
       "</style>\n",
       "<table border=\"1\" class=\"dataframe\">\n",
       "  <thead>\n",
       "    <tr style=\"text-align: right;\">\n",
       "      <th></th>\n",
       "      <th>area_stratum_0</th>\n",
       "      <th>ci_stratum_0</th>\n",
       "      <th>area_stratum_2</th>\n",
       "      <th>ci_stratum_2</th>\n",
       "      <th>area_stratum_1</th>\n",
       "      <th>ci_stratum_1</th>\n",
       "      <th>area_total</th>\n",
       "      <th>MOE</th>\n",
       "      <th>MOE_perc</th>\n",
       "    </tr>\n",
       "  </thead>\n",
       "  <tbody>\n",
       "    <tr>\n",
       "      <th>SNF_soud</th>\n",
       "      <td>24855.514457</td>\n",
       "      <td>1395.802978</td>\n",
       "      <td>70602.396429</td>\n",
       "      <td>3663.719349</td>\n",
       "      <td>2571.689655</td>\n",
       "      <td>444.611832</td>\n",
       "      <td>98029.600540</td>\n",
       "      <td>3945.729984</td>\n",
       "      <td>4.025039</td>\n",
       "    </tr>\n",
       "    <tr>\n",
       "      <th>SF_soud</th>\n",
       "      <td>16087.845464</td>\n",
       "      <td>1204.698954</td>\n",
       "      <td>12913.600714</td>\n",
       "      <td>1973.588528</td>\n",
       "      <td>3638.000000</td>\n",
       "      <td>517.279954</td>\n",
       "      <td>32639.446178</td>\n",
       "      <td>2369.373292</td>\n",
       "      <td>7.259233</td>\n",
       "    </tr>\n",
       "    <tr>\n",
       "      <th>SDegF_meso</th>\n",
       "      <td>868.495513</td>\n",
       "      <td>310.126320</td>\n",
       "      <td>603.439286</td>\n",
       "      <td>443.136544</td>\n",
       "      <td>1944.448276</td>\n",
       "      <td>391.482638</td>\n",
       "      <td>3416.383075</td>\n",
       "      <td>667.687792</td>\n",
       "      <td>19.543704</td>\n",
       "    </tr>\n",
       "    <tr>\n",
       "      <th>SNF_meso</th>\n",
       "      <td>19561.827517</td>\n",
       "      <td>1293.452160</td>\n",
       "      <td>40792.495714</td>\n",
       "      <td>3178.967363</td>\n",
       "      <td>9283.172414</td>\n",
       "      <td>720.962678</td>\n",
       "      <td>69637.495646</td>\n",
       "      <td>3506.941569</td>\n",
       "      <td>5.035996</td>\n",
       "    </tr>\n",
       "    <tr>\n",
       "      <th>SNF_omb</th>\n",
       "      <td>6658.465603</td>\n",
       "      <td>827.865617</td>\n",
       "      <td>10861.907143</td>\n",
       "      <td>1821.890886</td>\n",
       "      <td>1724.913793</td>\n",
       "      <td>370.314852</td>\n",
       "      <td>19245.286539</td>\n",
       "      <td>2035.136597</td>\n",
       "      <td>10.574727</td>\n",
       "    </tr>\n",
       "    <tr>\n",
       "      <th>Def_omb</th>\n",
       "      <td>82.713858</td>\n",
       "      <td>96.164013</td>\n",
       "      <td>0.000000</td>\n",
       "      <td>0.000000</td>\n",
       "      <td>0.000000</td>\n",
       "      <td>0.000000</td>\n",
       "      <td>82.713858</td>\n",
       "      <td>96.164013</td>\n",
       "      <td>116.261065</td>\n",
       "    </tr>\n",
       "    <tr>\n",
       "      <th>SF_subs</th>\n",
       "      <td>1736.991027</td>\n",
       "      <td>436.258709</td>\n",
       "      <td>1931.005714</td>\n",
       "      <td>789.575197</td>\n",
       "      <td>1034.948276</td>\n",
       "      <td>290.690394</td>\n",
       "      <td>4702.945017</td>\n",
       "      <td>947.761340</td>\n",
       "      <td>20.152507</td>\n",
       "    </tr>\n",
       "    <tr>\n",
       "      <th>SDegF_omb</th>\n",
       "      <td>661.710867</td>\n",
       "      <td>271.041163</td>\n",
       "      <td>120.687857</td>\n",
       "      <td>198.460608</td>\n",
       "      <td>689.965517</td>\n",
       "      <td>238.902254</td>\n",
       "      <td>1472.364242</td>\n",
       "      <td>412.218646</td>\n",
       "      <td>27.997056</td>\n",
       "    </tr>\n",
       "    <tr>\n",
       "      <th>SF_meso</th>\n",
       "      <td>1861.061815</td>\n",
       "      <td>451.225647</td>\n",
       "      <td>1327.566429</td>\n",
       "      <td>655.862690</td>\n",
       "      <td>2446.241379</td>\n",
       "      <td>434.731264</td>\n",
       "      <td>5634.869622</td>\n",
       "      <td>907.056627</td>\n",
       "      <td>16.097207</td>\n",
       "    </tr>\n",
       "    <tr>\n",
       "      <th>SNF_subs</th>\n",
       "      <td>5665.899302</td>\n",
       "      <td>768.623497</td>\n",
       "      <td>23292.756429</td>\n",
       "      <td>2560.930251</td>\n",
       "      <td>1254.482759</td>\n",
       "      <td>318.698503</td>\n",
       "      <td>30213.138489</td>\n",
       "      <td>2692.715092</td>\n",
       "      <td>8.912398</td>\n",
       "    </tr>\n",
       "    <tr>\n",
       "      <th>SDegF_soud</th>\n",
       "      <td>413.569292</td>\n",
       "      <td>214.599641</td>\n",
       "      <td>241.375714</td>\n",
       "      <td>280.565356</td>\n",
       "      <td>313.620690</td>\n",
       "      <td>162.203495</td>\n",
       "      <td>968.565696</td>\n",
       "      <td>388.689978</td>\n",
       "      <td>40.130471</td>\n",
       "    </tr>\n",
       "    <tr>\n",
       "      <th>Def_meso</th>\n",
       "      <td>372.212363</td>\n",
       "      <td>203.638088</td>\n",
       "      <td>241.375714</td>\n",
       "      <td>280.565356</td>\n",
       "      <td>595.879310</td>\n",
       "      <td>222.409105</td>\n",
       "      <td>1209.467388</td>\n",
       "      <td>411.887363</td>\n",
       "      <td>34.055268</td>\n",
       "    </tr>\n",
       "    <tr>\n",
       "      <th>SF_omb</th>\n",
       "      <td>620.353938</td>\n",
       "      <td>262.500408</td>\n",
       "      <td>844.815000</td>\n",
       "      <td>523.950234</td>\n",
       "      <td>533.155172</td>\n",
       "      <td>210.625019</td>\n",
       "      <td>1998.324111</td>\n",
       "      <td>622.730448</td>\n",
       "      <td>31.162635</td>\n",
       "    </tr>\n",
       "    <tr>\n",
       "      <th>SNF_nodata</th>\n",
       "      <td>620.353938</td>\n",
       "      <td>262.500408</td>\n",
       "      <td>2896.508571</td>\n",
       "      <td>964.229243</td>\n",
       "      <td>188.172414</td>\n",
       "      <td>125.934139</td>\n",
       "      <td>3705.034923</td>\n",
       "      <td>1007.225846</td>\n",
       "      <td>27.185327</td>\n",
       "    </tr>\n",
       "    <tr>\n",
       "      <th>SDegF_subs</th>\n",
       "      <td>289.498504</td>\n",
       "      <td>179.681821</td>\n",
       "      <td>241.375714</td>\n",
       "      <td>280.565356</td>\n",
       "      <td>282.258621</td>\n",
       "      <td>153.969185</td>\n",
       "      <td>813.132839</td>\n",
       "      <td>367.027228</td>\n",
       "      <td>45.137425</td>\n",
       "    </tr>\n",
       "    <tr>\n",
       "      <th>SDegF_nodata</th>\n",
       "      <td>124.070788</td>\n",
       "      <td>117.746993</td>\n",
       "      <td>0.000000</td>\n",
       "      <td>0.000000</td>\n",
       "      <td>188.172414</td>\n",
       "      <td>125.934139</td>\n",
       "      <td>312.243201</td>\n",
       "      <td>172.405805</td>\n",
       "      <td>55.215231</td>\n",
       "    </tr>\n",
       "    <tr>\n",
       "      <th>SF_nodata</th>\n",
       "      <td>620.353938</td>\n",
       "      <td>262.500408</td>\n",
       "      <td>362.063571</td>\n",
       "      <td>343.498062</td>\n",
       "      <td>125.448276</td>\n",
       "      <td>102.943735</td>\n",
       "      <td>1107.865785</td>\n",
       "      <td>444.403865</td>\n",
       "      <td>40.113511</td>\n",
       "    </tr>\n",
       "    <tr>\n",
       "      <th>Def_soud</th>\n",
       "      <td>1530.206381</td>\n",
       "      <td>409.989225</td>\n",
       "      <td>1327.566429</td>\n",
       "      <td>655.862690</td>\n",
       "      <td>407.706897</td>\n",
       "      <td>184.617586</td>\n",
       "      <td>3265.479706</td>\n",
       "      <td>795.192232</td>\n",
       "      <td>24.351468</td>\n",
       "    </tr>\n",
       "    <tr>\n",
       "      <th>Def_subs</th>\n",
       "      <td>248.141575</td>\n",
       "      <td>166.394645</td>\n",
       "      <td>0.000000</td>\n",
       "      <td>0.000000</td>\n",
       "      <td>0.000000</td>\n",
       "      <td>0.000000</td>\n",
       "      <td>248.141575</td>\n",
       "      <td>166.394645</td>\n",
       "      <td>67.056335</td>\n",
       "    </tr>\n",
       "    <tr>\n",
       "      <th>Deg_subs</th>\n",
       "      <td>0.000000</td>\n",
       "      <td>0.000000</td>\n",
       "      <td>120.687857</td>\n",
       "      <td>198.460608</td>\n",
       "      <td>0.000000</td>\n",
       "      <td>0.000000</td>\n",
       "      <td>120.687857</td>\n",
       "      <td>198.460608</td>\n",
       "      <td>164.441240</td>\n",
       "    </tr>\n",
       "    <tr>\n",
       "      <th>Deg_soud</th>\n",
       "      <td>0.000000</td>\n",
       "      <td>0.000000</td>\n",
       "      <td>0.000000</td>\n",
       "      <td>0.000000</td>\n",
       "      <td>31.362069</td>\n",
       "      <td>51.560945</td>\n",
       "      <td>31.362069</td>\n",
       "      <td>51.560945</td>\n",
       "      <td>164.405433</td>\n",
       "    </tr>\n",
       "    <tr>\n",
       "      <th>Def_nodata</th>\n",
       "      <td>41.356929</td>\n",
       "      <td>68.015189</td>\n",
       "      <td>0.000000</td>\n",
       "      <td>0.000000</td>\n",
       "      <td>0.000000</td>\n",
       "      <td>0.000000</td>\n",
       "      <td>41.356929</td>\n",
       "      <td>68.015189</td>\n",
       "      <td>164.458993</td>\n",
       "    </tr>\n",
       "    <tr>\n",
       "      <th>Gain_meso</th>\n",
       "      <td>0.000000</td>\n",
       "      <td>0.000000</td>\n",
       "      <td>120.687857</td>\n",
       "      <td>198.460608</td>\n",
       "      <td>31.362069</td>\n",
       "      <td>51.560945</td>\n",
       "      <td>152.049926</td>\n",
       "      <td>205.049126</td>\n",
       "      <td>134.856446</td>\n",
       "    </tr>\n",
       "    <tr>\n",
       "      <th>Gain_subs</th>\n",
       "      <td>41.356929</td>\n",
       "      <td>68.015189</td>\n",
       "      <td>120.687857</td>\n",
       "      <td>198.460608</td>\n",
       "      <td>0.000000</td>\n",
       "      <td>0.000000</td>\n",
       "      <td>162.044786</td>\n",
       "      <td>209.791990</td>\n",
       "      <td>129.465436</td>\n",
       "    </tr>\n",
       "  </tbody>\n",
       "</table>\n",
       "</div>"
      ],
      "text/plain": [
       "              area_stratum_0  ci_stratum_0  area_stratum_2  ci_stratum_2  \\\n",
       "SNF_soud        24855.514457   1395.802978    70602.396429   3663.719349   \n",
       "SF_soud         16087.845464   1204.698954    12913.600714   1973.588528   \n",
       "SDegF_meso        868.495513    310.126320      603.439286    443.136544   \n",
       "SNF_meso        19561.827517   1293.452160    40792.495714   3178.967363   \n",
       "SNF_omb          6658.465603    827.865617    10861.907143   1821.890886   \n",
       "Def_omb            82.713858     96.164013        0.000000      0.000000   \n",
       "SF_subs          1736.991027    436.258709     1931.005714    789.575197   \n",
       "SDegF_omb         661.710867    271.041163      120.687857    198.460608   \n",
       "SF_meso          1861.061815    451.225647     1327.566429    655.862690   \n",
       "SNF_subs         5665.899302    768.623497    23292.756429   2560.930251   \n",
       "SDegF_soud        413.569292    214.599641      241.375714    280.565356   \n",
       "Def_meso          372.212363    203.638088      241.375714    280.565356   \n",
       "SF_omb            620.353938    262.500408      844.815000    523.950234   \n",
       "SNF_nodata        620.353938    262.500408     2896.508571    964.229243   \n",
       "SDegF_subs        289.498504    179.681821      241.375714    280.565356   \n",
       "SDegF_nodata      124.070788    117.746993        0.000000      0.000000   \n",
       "SF_nodata         620.353938    262.500408      362.063571    343.498062   \n",
       "Def_soud         1530.206381    409.989225     1327.566429    655.862690   \n",
       "Def_subs          248.141575    166.394645        0.000000      0.000000   \n",
       "Deg_subs            0.000000      0.000000      120.687857    198.460608   \n",
       "Deg_soud            0.000000      0.000000        0.000000      0.000000   \n",
       "Def_nodata         41.356929     68.015189        0.000000      0.000000   \n",
       "Gain_meso           0.000000      0.000000      120.687857    198.460608   \n",
       "Gain_subs          41.356929     68.015189      120.687857    198.460608   \n",
       "\n",
       "              area_stratum_1  ci_stratum_1    area_total          MOE  \\\n",
       "SNF_soud         2571.689655    444.611832  98029.600540  3945.729984   \n",
       "SF_soud          3638.000000    517.279954  32639.446178  2369.373292   \n",
       "SDegF_meso       1944.448276    391.482638   3416.383075   667.687792   \n",
       "SNF_meso         9283.172414    720.962678  69637.495646  3506.941569   \n",
       "SNF_omb          1724.913793    370.314852  19245.286539  2035.136597   \n",
       "Def_omb             0.000000      0.000000     82.713858    96.164013   \n",
       "SF_subs          1034.948276    290.690394   4702.945017   947.761340   \n",
       "SDegF_omb         689.965517    238.902254   1472.364242   412.218646   \n",
       "SF_meso          2446.241379    434.731264   5634.869622   907.056627   \n",
       "SNF_subs         1254.482759    318.698503  30213.138489  2692.715092   \n",
       "SDegF_soud        313.620690    162.203495    968.565696   388.689978   \n",
       "Def_meso          595.879310    222.409105   1209.467388   411.887363   \n",
       "SF_omb            533.155172    210.625019   1998.324111   622.730448   \n",
       "SNF_nodata        188.172414    125.934139   3705.034923  1007.225846   \n",
       "SDegF_subs        282.258621    153.969185    813.132839   367.027228   \n",
       "SDegF_nodata      188.172414    125.934139    312.243201   172.405805   \n",
       "SF_nodata         125.448276    102.943735   1107.865785   444.403865   \n",
       "Def_soud          407.706897    184.617586   3265.479706   795.192232   \n",
       "Def_subs            0.000000      0.000000    248.141575   166.394645   \n",
       "Deg_subs            0.000000      0.000000    120.687857   198.460608   \n",
       "Deg_soud           31.362069     51.560945     31.362069    51.560945   \n",
       "Def_nodata          0.000000      0.000000     41.356929    68.015189   \n",
       "Gain_meso          31.362069     51.560945    152.049926   205.049126   \n",
       "Gain_subs           0.000000      0.000000    162.044786   209.791990   \n",
       "\n",
       "                MOE_perc  \n",
       "SNF_soud        4.025039  \n",
       "SF_soud         7.259233  \n",
       "SDegF_meso     19.543704  \n",
       "SNF_meso        5.035996  \n",
       "SNF_omb        10.574727  \n",
       "Def_omb       116.261065  \n",
       "SF_subs        20.152507  \n",
       "SDegF_omb      27.997056  \n",
       "SF_meso        16.097207  \n",
       "SNF_subs        8.912398  \n",
       "SDegF_soud     40.130471  \n",
       "Def_meso       34.055268  \n",
       "SF_omb         31.162635  \n",
       "SNF_nodata     27.185327  \n",
       "SDegF_subs     45.137425  \n",
       "SDegF_nodata   55.215231  \n",
       "SF_nodata      40.113511  \n",
       "Def_soud       24.351468  \n",
       "Def_subs       67.056335  \n",
       "Deg_subs      164.441240  \n",
       "Deg_soud      164.405433  \n",
       "Def_nodata    164.458993  \n",
       "Gain_meso     134.856446  \n",
       "Gain_subs     129.465436  "
      ]
     },
     "execution_count": 64,
     "metadata": {},
     "output_type": "execute_result"
    }
   ],
   "source": [
    "#scenario DA1 par phyto : \n",
    "calculate_areas(db_total=df_scDA1, strata_column='kmeans_multi', categories_column='redd_phyto', total_area=len(df_scDA1), z_score=1.645)"
   ]
  },
  {
   "cell_type": "code",
   "execution_count": 65,
   "id": "61036ac6-1c36-4a75-bad4-21296a6a918a",
   "metadata": {
    "tags": []
   },
   "outputs": [
    {
     "name": "stdout",
     "output_type": "stream",
     "text": [
      "['SNF' 'SF' 'SDegF' 'Def' 'Gain' 'Deg']\n",
      " Calculating stats for SNF\n",
      "There are 6219 entries of SNF in redd_n1.\n"
     ]
    },
    {
     "name": "stderr",
     "output_type": "stream",
     "text": [
      "/tmp/ipykernel_440/804014814.py:20: SettingWithCopyWarning: \n",
      "A value is trying to be set on a copy of a slice from a DataFrame.\n",
      "Try using .loc[row_indexer,col_indexer] = value instead\n",
      "\n",
      "See the caveats in the documentation: https://pandas.pydata.org/pandas-docs/stable/user_guide/indexing.html#returning-a-view-versus-a-copy\n",
      "  df_interpreted[category] =  df_interpreted[categories_column].apply(lambda x: 1 if x == category else 0)\n"
     ]
    },
    {
     "name": "stdout",
     "output_type": "stream",
     "text": [
      " Calculating stats for SF\n",
      "There are 1532 entries of SF in redd_n1.\n",
      " Calculating stats for SDegF\n",
      "There are 301 entries of SDegF in redd_n1.\n"
     ]
    },
    {
     "name": "stderr",
     "output_type": "stream",
     "text": [
      "/tmp/ipykernel_440/804014814.py:20: SettingWithCopyWarning: \n",
      "A value is trying to be set on a copy of a slice from a DataFrame.\n",
      "Try using .loc[row_indexer,col_indexer] = value instead\n",
      "\n",
      "See the caveats in the documentation: https://pandas.pydata.org/pandas-docs/stable/user_guide/indexing.html#returning-a-view-versus-a-copy\n",
      "  df_interpreted[category] =  df_interpreted[categories_column].apply(lambda x: 1 if x == category else 0)\n",
      "/tmp/ipykernel_440/804014814.py:20: SettingWithCopyWarning: \n",
      "A value is trying to be set on a copy of a slice from a DataFrame.\n",
      "Try using .loc[row_indexer,col_indexer] = value instead\n",
      "\n",
      "See the caveats in the documentation: https://pandas.pydata.org/pandas-docs/stable/user_guide/indexing.html#returning-a-view-versus-a-copy\n",
      "  df_interpreted[category] =  df_interpreted[categories_column].apply(lambda x: 1 if x == category else 0)\n"
     ]
    },
    {
     "name": "stdout",
     "output_type": "stream",
     "text": [
      " Calculating stats for Def\n",
      "There are 203 entries of Def in redd_n1.\n",
      " Calculating stats for Gain\n",
      "There are 19 entries of Gain in redd_n1.\n"
     ]
    },
    {
     "name": "stderr",
     "output_type": "stream",
     "text": [
      "/tmp/ipykernel_440/804014814.py:20: SettingWithCopyWarning: \n",
      "A value is trying to be set on a copy of a slice from a DataFrame.\n",
      "Try using .loc[row_indexer,col_indexer] = value instead\n",
      "\n",
      "See the caveats in the documentation: https://pandas.pydata.org/pandas-docs/stable/user_guide/indexing.html#returning-a-view-versus-a-copy\n",
      "  df_interpreted[category] =  df_interpreted[categories_column].apply(lambda x: 1 if x == category else 0)\n",
      "/tmp/ipykernel_440/804014814.py:20: SettingWithCopyWarning: \n",
      "A value is trying to be set on a copy of a slice from a DataFrame.\n",
      "Try using .loc[row_indexer,col_indexer] = value instead\n",
      "\n",
      "See the caveats in the documentation: https://pandas.pydata.org/pandas-docs/stable/user_guide/indexing.html#returning-a-view-versus-a-copy\n",
      "  df_interpreted[category] =  df_interpreted[categories_column].apply(lambda x: 1 if x == category else 0)\n"
     ]
    },
    {
     "name": "stdout",
     "output_type": "stream",
     "text": [
      " Calculating stats for Deg\n",
      "There are 21 entries of Deg in redd_n1.\n"
     ]
    },
    {
     "name": "stderr",
     "output_type": "stream",
     "text": [
      "/tmp/ipykernel_440/804014814.py:20: SettingWithCopyWarning: \n",
      "A value is trying to be set on a copy of a slice from a DataFrame.\n",
      "Try using .loc[row_indexer,col_indexer] = value instead\n",
      "\n",
      "See the caveats in the documentation: https://pandas.pydata.org/pandas-docs/stable/user_guide/indexing.html#returning-a-view-versus-a-copy\n",
      "  df_interpreted[category] =  df_interpreted[categories_column].apply(lambda x: 1 if x == category else 0)\n"
     ]
    },
    {
     "data": {
      "text/html": [
       "<div>\n",
       "<style scoped>\n",
       "    .dataframe tbody tr th:only-of-type {\n",
       "        vertical-align: middle;\n",
       "    }\n",
       "\n",
       "    .dataframe tbody tr th {\n",
       "        vertical-align: top;\n",
       "    }\n",
       "\n",
       "    .dataframe thead th {\n",
       "        text-align: right;\n",
       "    }\n",
       "</style>\n",
       "<table border=\"1\" class=\"dataframe\">\n",
       "  <thead>\n",
       "    <tr style=\"text-align: right;\">\n",
       "      <th></th>\n",
       "      <th>area_stratum_0</th>\n",
       "      <th>ci_stratum_0</th>\n",
       "      <th>area_stratum_2</th>\n",
       "      <th>ci_stratum_2</th>\n",
       "      <th>area_stratum_1</th>\n",
       "      <th>ci_stratum_1</th>\n",
       "      <th>area_total</th>\n",
       "      <th>MOE</th>\n",
       "      <th>MOE_perc</th>\n",
       "    </tr>\n",
       "  </thead>\n",
       "  <tbody>\n",
       "    <tr>\n",
       "      <th>SNF</th>\n",
       "      <td>67551.291848</td>\n",
       "      <td>1306.574214</td>\n",
       "      <td>177170.739719</td>\n",
       "      <td>1549.800593</td>\n",
       "      <td>15534.419417</td>\n",
       "      <td>712.429539</td>\n",
       "      <td>260256.450985</td>\n",
       "      <td>2148.621396</td>\n",
       "      <td>0.825579</td>\n",
       "    </tr>\n",
       "    <tr>\n",
       "      <th>SF</th>\n",
       "      <td>22559.763502</td>\n",
       "      <td>1221.268139</td>\n",
       "      <td>17009.639427</td>\n",
       "      <td>1478.698042</td>\n",
       "      <td>11064.401294</td>\n",
       "      <td>669.426225</td>\n",
       "      <td>50633.804224</td>\n",
       "      <td>2031.298904</td>\n",
       "      <td>4.011745</td>\n",
       "    </tr>\n",
       "    <tr>\n",
       "      <th>SDegF</th>\n",
       "      <td>2943.969138</td>\n",
       "      <td>497.047650</td>\n",
       "      <td>884.293181</td>\n",
       "      <td>352.010861</td>\n",
       "      <td>4248.730097</td>\n",
       "      <td>472.018573</td>\n",
       "      <td>8076.992416</td>\n",
       "      <td>770.564433</td>\n",
       "      <td>9.540240</td>\n",
       "    </tr>\n",
       "    <tr>\n",
       "      <th>Def</th>\n",
       "      <td>1983.979202</td>\n",
       "      <td>410.150487</td>\n",
       "      <td>780.258689</td>\n",
       "      <td>330.744745</td>\n",
       "      <td>2788.229126</td>\n",
       "      <td>391.594015</td>\n",
       "      <td>5552.467017</td>\n",
       "      <td>656.476489</td>\n",
       "      <td>11.823150</td>\n",
       "    </tr>\n",
       "    <tr>\n",
       "      <th>Gain</th>\n",
       "      <td>319.996645</td>\n",
       "      <td>166.181114</td>\n",
       "      <td>156.051738</td>\n",
       "      <td>148.149767</td>\n",
       "      <td>132.772816</td>\n",
       "      <td>88.992726</td>\n",
       "      <td>608.821199</td>\n",
       "      <td>239.758673</td>\n",
       "      <td>39.380802</td>\n",
       "    </tr>\n",
       "    <tr>\n",
       "      <th>Deg</th>\n",
       "      <td>31.999665</td>\n",
       "      <td>52.630618</td>\n",
       "      <td>52.017246</td>\n",
       "      <td>85.557017</td>\n",
       "      <td>420.447249</td>\n",
       "      <td>157.693445</td>\n",
       "      <td>504.464160</td>\n",
       "      <td>186.968468</td>\n",
       "      <td>37.062785</td>\n",
       "    </tr>\n",
       "  </tbody>\n",
       "</table>\n",
       "</div>"
      ],
      "text/plain": [
       "       area_stratum_0  ci_stratum_0  area_stratum_2  ci_stratum_2  \\\n",
       "SNF      67551.291848   1306.574214   177170.739719   1549.800593   \n",
       "SF       22559.763502   1221.268139    17009.639427   1478.698042   \n",
       "SDegF     2943.969138    497.047650      884.293181    352.010861   \n",
       "Def       1983.979202    410.150487      780.258689    330.744745   \n",
       "Gain       319.996645    166.181114      156.051738    148.149767   \n",
       "Deg         31.999665     52.630618       52.017246     85.557017   \n",
       "\n",
       "       area_stratum_1  ci_stratum_1     area_total          MOE   MOE_perc  \n",
       "SNF      15534.419417    712.429539  260256.450985  2148.621396   0.825579  \n",
       "SF       11064.401294    669.426225   50633.804224  2031.298904   4.011745  \n",
       "SDegF     4248.730097    472.018573    8076.992416   770.564433   9.540240  \n",
       "Def       2788.229126    391.594015    5552.467017   656.476489  11.823150  \n",
       "Gain       132.772816     88.992726     608.821199   239.758673  39.380802  \n",
       "Deg        420.447249    157.693445     504.464160   186.968468  37.062785  "
      ]
     },
     "execution_count": 65,
     "metadata": {},
     "output_type": "execute_result"
    }
   ],
   "source": [
    "#scenario DA3: NERF = ERP + NERP\n",
    "calculate_areas(db_total=df320k_full, strata_column='kmeans_multi', categories_column='redd_n1', total_area=len(df320k_full), z_score=1.645)"
   ]
  },
  {
   "cell_type": "code",
   "execution_count": 66,
   "id": "ce75d7c9-5d69-4442-9bb1-7febfb453d3f",
   "metadata": {
    "tags": []
   },
   "outputs": [
    {
     "name": "stdout",
     "output_type": "stream",
     "text": [
      "['SNF_subs' 'SF_subs' 'SF_nodata' 'SDegF_meso' 'SNF_meso' 'SNF_omb'\n",
      " 'Def_omb' 'SF_meso' 'SDegF_omb' 'SDegF_subs' 'Def_meso' 'SNF_soud'\n",
      " 'SF_omb' 'SNF_nodata' 'SF_soud' 'SDegF_nodata' 'Gain_omb' 'Def_subs'\n",
      " 'Gain_meso' 'Def_soud' 'SDegF_soud' 'Deg_meso' 'Deg_subs' 'Deg_omb'\n",
      " 'SNF_mont' 'SDegF_mont' 'SF_mont' 'Def_nodata' 'Def_mont']\n",
      " Calculating stats for SNF_subs\n",
      "There are 961 entries of SNF_subs in redd_phytoif.\n",
      " Calculating stats for SF_subs\n",
      "There are 530 entries of SF_subs in redd_phytoif.\n"
     ]
    },
    {
     "name": "stderr",
     "output_type": "stream",
     "text": [
      "/tmp/ipykernel_440/804014814.py:20: SettingWithCopyWarning: \n",
      "A value is trying to be set on a copy of a slice from a DataFrame.\n",
      "Try using .loc[row_indexer,col_indexer] = value instead\n",
      "\n",
      "See the caveats in the documentation: https://pandas.pydata.org/pandas-docs/stable/user_guide/indexing.html#returning-a-view-versus-a-copy\n",
      "  df_interpreted[category] =  df_interpreted[categories_column].apply(lambda x: 1 if x == category else 0)\n",
      "/tmp/ipykernel_440/804014814.py:20: SettingWithCopyWarning: \n",
      "A value is trying to be set on a copy of a slice from a DataFrame.\n",
      "Try using .loc[row_indexer,col_indexer] = value instead\n",
      "\n",
      "See the caveats in the documentation: https://pandas.pydata.org/pandas-docs/stable/user_guide/indexing.html#returning-a-view-versus-a-copy\n",
      "  df_interpreted[category] =  df_interpreted[categories_column].apply(lambda x: 1 if x == category else 0)\n"
     ]
    },
    {
     "name": "stdout",
     "output_type": "stream",
     "text": [
      " Calculating stats for SF_nodata\n",
      "There are 31 entries of SF_nodata in redd_phytoif.\n",
      " Calculating stats for SDegF_meso\n",
      "There are 124 entries of SDegF_meso in redd_phytoif.\n"
     ]
    },
    {
     "name": "stderr",
     "output_type": "stream",
     "text": [
      "/tmp/ipykernel_440/804014814.py:20: SettingWithCopyWarning: \n",
      "A value is trying to be set on a copy of a slice from a DataFrame.\n",
      "Try using .loc[row_indexer,col_indexer] = value instead\n",
      "\n",
      "See the caveats in the documentation: https://pandas.pydata.org/pandas-docs/stable/user_guide/indexing.html#returning-a-view-versus-a-copy\n",
      "  df_interpreted[category] =  df_interpreted[categories_column].apply(lambda x: 1 if x == category else 0)\n",
      "/tmp/ipykernel_440/804014814.py:20: SettingWithCopyWarning: \n",
      "A value is trying to be set on a copy of a slice from a DataFrame.\n",
      "Try using .loc[row_indexer,col_indexer] = value instead\n",
      "\n",
      "See the caveats in the documentation: https://pandas.pydata.org/pandas-docs/stable/user_guide/indexing.html#returning-a-view-versus-a-copy\n",
      "  df_interpreted[category] =  df_interpreted[categories_column].apply(lambda x: 1 if x == category else 0)\n"
     ]
    },
    {
     "name": "stdout",
     "output_type": "stream",
     "text": [
      " Calculating stats for SNF_meso\n",
      "There are 2280 entries of SNF_meso in redd_phytoif.\n",
      " Calculating stats for SNF_omb\n",
      "There are 2569 entries of SNF_omb in redd_phytoif.\n"
     ]
    },
    {
     "name": "stderr",
     "output_type": "stream",
     "text": [
      "/tmp/ipykernel_440/804014814.py:20: SettingWithCopyWarning: \n",
      "A value is trying to be set on a copy of a slice from a DataFrame.\n",
      "Try using .loc[row_indexer,col_indexer] = value instead\n",
      "\n",
      "See the caveats in the documentation: https://pandas.pydata.org/pandas-docs/stable/user_guide/indexing.html#returning-a-view-versus-a-copy\n",
      "  df_interpreted[category] =  df_interpreted[categories_column].apply(lambda x: 1 if x == category else 0)\n",
      "/tmp/ipykernel_440/804014814.py:20: SettingWithCopyWarning: \n",
      "A value is trying to be set on a copy of a slice from a DataFrame.\n",
      "Try using .loc[row_indexer,col_indexer] = value instead\n",
      "\n",
      "See the caveats in the documentation: https://pandas.pydata.org/pandas-docs/stable/user_guide/indexing.html#returning-a-view-versus-a-copy\n",
      "  df_interpreted[category] =  df_interpreted[categories_column].apply(lambda x: 1 if x == category else 0)\n"
     ]
    },
    {
     "name": "stdout",
     "output_type": "stream",
     "text": [
      " Calculating stats for Def_omb\n",
      "There are 67 entries of Def_omb in redd_phytoif.\n",
      " Calculating stats for SF_meso\n",
      "There are 321 entries of SF_meso in redd_phytoif.\n"
     ]
    },
    {
     "name": "stderr",
     "output_type": "stream",
     "text": [
      "/tmp/ipykernel_440/804014814.py:20: SettingWithCopyWarning: \n",
      "A value is trying to be set on a copy of a slice from a DataFrame.\n",
      "Try using .loc[row_indexer,col_indexer] = value instead\n",
      "\n",
      "See the caveats in the documentation: https://pandas.pydata.org/pandas-docs/stable/user_guide/indexing.html#returning-a-view-versus-a-copy\n",
      "  df_interpreted[category] =  df_interpreted[categories_column].apply(lambda x: 1 if x == category else 0)\n",
      "/tmp/ipykernel_440/804014814.py:20: SettingWithCopyWarning: \n",
      "A value is trying to be set on a copy of a slice from a DataFrame.\n",
      "Try using .loc[row_indexer,col_indexer] = value instead\n",
      "\n",
      "See the caveats in the documentation: https://pandas.pydata.org/pandas-docs/stable/user_guide/indexing.html#returning-a-view-versus-a-copy\n",
      "  df_interpreted[category] =  df_interpreted[categories_column].apply(lambda x: 1 if x == category else 0)\n"
     ]
    },
    {
     "name": "stdout",
     "output_type": "stream",
     "text": [
      " Calculating stats for SDegF_omb\n",
      "There are 135 entries of SDegF_omb in redd_phytoif.\n",
      " Calculating stats for SDegF_subs\n",
      "There are 19 entries of SDegF_subs in redd_phytoif.\n"
     ]
    },
    {
     "name": "stderr",
     "output_type": "stream",
     "text": [
      "/tmp/ipykernel_440/804014814.py:20: SettingWithCopyWarning: \n",
      "A value is trying to be set on a copy of a slice from a DataFrame.\n",
      "Try using .loc[row_indexer,col_indexer] = value instead\n",
      "\n",
      "See the caveats in the documentation: https://pandas.pydata.org/pandas-docs/stable/user_guide/indexing.html#returning-a-view-versus-a-copy\n",
      "  df_interpreted[category] =  df_interpreted[categories_column].apply(lambda x: 1 if x == category else 0)\n",
      "/tmp/ipykernel_440/804014814.py:20: SettingWithCopyWarning: \n",
      "A value is trying to be set on a copy of a slice from a DataFrame.\n",
      "Try using .loc[row_indexer,col_indexer] = value instead\n",
      "\n",
      "See the caveats in the documentation: https://pandas.pydata.org/pandas-docs/stable/user_guide/indexing.html#returning-a-view-versus-a-copy\n",
      "  df_interpreted[category] =  df_interpreted[categories_column].apply(lambda x: 1 if x == category else 0)\n"
     ]
    },
    {
     "name": "stdout",
     "output_type": "stream",
     "text": [
      " Calculating stats for Def_meso\n",
      "There are 71 entries of Def_meso in redd_phytoif.\n",
      " Calculating stats for SNF_soud\n",
      "There are 303 entries of SNF_soud in redd_phytoif.\n"
     ]
    },
    {
     "name": "stderr",
     "output_type": "stream",
     "text": [
      "/tmp/ipykernel_440/804014814.py:20: SettingWithCopyWarning: \n",
      "A value is trying to be set on a copy of a slice from a DataFrame.\n",
      "Try using .loc[row_indexer,col_indexer] = value instead\n",
      "\n",
      "See the caveats in the documentation: https://pandas.pydata.org/pandas-docs/stable/user_guide/indexing.html#returning-a-view-versus-a-copy\n",
      "  df_interpreted[category] =  df_interpreted[categories_column].apply(lambda x: 1 if x == category else 0)\n",
      "/tmp/ipykernel_440/804014814.py:20: SettingWithCopyWarning: \n",
      "A value is trying to be set on a copy of a slice from a DataFrame.\n",
      "Try using .loc[row_indexer,col_indexer] = value instead\n",
      "\n",
      "See the caveats in the documentation: https://pandas.pydata.org/pandas-docs/stable/user_guide/indexing.html#returning-a-view-versus-a-copy\n",
      "  df_interpreted[category] =  df_interpreted[categories_column].apply(lambda x: 1 if x == category else 0)\n"
     ]
    },
    {
     "name": "stdout",
     "output_type": "stream",
     "text": [
      " Calculating stats for SF_omb\n",
      "There are 563 entries of SF_omb in redd_phytoif.\n",
      " Calculating stats for SNF_nodata\n",
      "There are 70 entries of SNF_nodata in redd_phytoif.\n"
     ]
    },
    {
     "name": "stderr",
     "output_type": "stream",
     "text": [
      "/tmp/ipykernel_440/804014814.py:20: SettingWithCopyWarning: \n",
      "A value is trying to be set on a copy of a slice from a DataFrame.\n",
      "Try using .loc[row_indexer,col_indexer] = value instead\n",
      "\n",
      "See the caveats in the documentation: https://pandas.pydata.org/pandas-docs/stable/user_guide/indexing.html#returning-a-view-versus-a-copy\n",
      "  df_interpreted[category] =  df_interpreted[categories_column].apply(lambda x: 1 if x == category else 0)\n",
      "/tmp/ipykernel_440/804014814.py:20: SettingWithCopyWarning: \n",
      "A value is trying to be set on a copy of a slice from a DataFrame.\n",
      "Try using .loc[row_indexer,col_indexer] = value instead\n",
      "\n",
      "See the caveats in the documentation: https://pandas.pydata.org/pandas-docs/stable/user_guide/indexing.html#returning-a-view-versus-a-copy\n",
      "  df_interpreted[category] =  df_interpreted[categories_column].apply(lambda x: 1 if x == category else 0)\n"
     ]
    },
    {
     "name": "stdout",
     "output_type": "stream",
     "text": [
      " Calculating stats for SF_soud\n",
      "There are 79 entries of SF_soud in redd_phytoif.\n",
      " Calculating stats for SDegF_nodata\n",
      "There are 9 entries of SDegF_nodata in redd_phytoif.\n"
     ]
    },
    {
     "name": "stderr",
     "output_type": "stream",
     "text": [
      "/tmp/ipykernel_440/804014814.py:20: SettingWithCopyWarning: \n",
      "A value is trying to be set on a copy of a slice from a DataFrame.\n",
      "Try using .loc[row_indexer,col_indexer] = value instead\n",
      "\n",
      "See the caveats in the documentation: https://pandas.pydata.org/pandas-docs/stable/user_guide/indexing.html#returning-a-view-versus-a-copy\n",
      "  df_interpreted[category] =  df_interpreted[categories_column].apply(lambda x: 1 if x == category else 0)\n",
      "/tmp/ipykernel_440/804014814.py:20: SettingWithCopyWarning: \n",
      "A value is trying to be set on a copy of a slice from a DataFrame.\n",
      "Try using .loc[row_indexer,col_indexer] = value instead\n",
      "\n",
      "See the caveats in the documentation: https://pandas.pydata.org/pandas-docs/stable/user_guide/indexing.html#returning-a-view-versus-a-copy\n",
      "  df_interpreted[category] =  df_interpreted[categories_column].apply(lambda x: 1 if x == category else 0)\n"
     ]
    },
    {
     "name": "stdout",
     "output_type": "stream",
     "text": [
      " Calculating stats for Gain_omb\n",
      "There are 11 entries of Gain_omb in redd_phytoif.\n",
      " Calculating stats for Def_subs\n",
      "There are 51 entries of Def_subs in redd_phytoif.\n"
     ]
    },
    {
     "name": "stderr",
     "output_type": "stream",
     "text": [
      "/tmp/ipykernel_440/804014814.py:20: SettingWithCopyWarning: \n",
      "A value is trying to be set on a copy of a slice from a DataFrame.\n",
      "Try using .loc[row_indexer,col_indexer] = value instead\n",
      "\n",
      "See the caveats in the documentation: https://pandas.pydata.org/pandas-docs/stable/user_guide/indexing.html#returning-a-view-versus-a-copy\n",
      "  df_interpreted[category] =  df_interpreted[categories_column].apply(lambda x: 1 if x == category else 0)\n",
      "/tmp/ipykernel_440/804014814.py:20: SettingWithCopyWarning: \n",
      "A value is trying to be set on a copy of a slice from a DataFrame.\n",
      "Try using .loc[row_indexer,col_indexer] = value instead\n",
      "\n",
      "See the caveats in the documentation: https://pandas.pydata.org/pandas-docs/stable/user_guide/indexing.html#returning-a-view-versus-a-copy\n",
      "  df_interpreted[category] =  df_interpreted[categories_column].apply(lambda x: 1 if x == category else 0)\n"
     ]
    },
    {
     "name": "stdout",
     "output_type": "stream",
     "text": [
      " Calculating stats for Gain_meso\n",
      "There are 8 entries of Gain_meso in redd_phytoif.\n",
      " Calculating stats for Def_soud\n",
      "There are 10 entries of Def_soud in redd_phytoif.\n"
     ]
    },
    {
     "name": "stderr",
     "output_type": "stream",
     "text": [
      "/tmp/ipykernel_440/804014814.py:20: SettingWithCopyWarning: \n",
      "A value is trying to be set on a copy of a slice from a DataFrame.\n",
      "Try using .loc[row_indexer,col_indexer] = value instead\n",
      "\n",
      "See the caveats in the documentation: https://pandas.pydata.org/pandas-docs/stable/user_guide/indexing.html#returning-a-view-versus-a-copy\n",
      "  df_interpreted[category] =  df_interpreted[categories_column].apply(lambda x: 1 if x == category else 0)\n",
      "/tmp/ipykernel_440/804014814.py:20: SettingWithCopyWarning: \n",
      "A value is trying to be set on a copy of a slice from a DataFrame.\n",
      "Try using .loc[row_indexer,col_indexer] = value instead\n",
      "\n",
      "See the caveats in the documentation: https://pandas.pydata.org/pandas-docs/stable/user_guide/indexing.html#returning-a-view-versus-a-copy\n",
      "  df_interpreted[category] =  df_interpreted[categories_column].apply(lambda x: 1 if x == category else 0)\n"
     ]
    },
    {
     "name": "stdout",
     "output_type": "stream",
     "text": [
      " Calculating stats for SDegF_soud\n",
      "There are 3 entries of SDegF_soud in redd_phytoif.\n",
      " Calculating stats for Deg_meso\n",
      "There are 5 entries of Deg_meso in redd_phytoif.\n"
     ]
    },
    {
     "name": "stderr",
     "output_type": "stream",
     "text": [
      "/tmp/ipykernel_440/804014814.py:20: SettingWithCopyWarning: \n",
      "A value is trying to be set on a copy of a slice from a DataFrame.\n",
      "Try using .loc[row_indexer,col_indexer] = value instead\n",
      "\n",
      "See the caveats in the documentation: https://pandas.pydata.org/pandas-docs/stable/user_guide/indexing.html#returning-a-view-versus-a-copy\n",
      "  df_interpreted[category] =  df_interpreted[categories_column].apply(lambda x: 1 if x == category else 0)\n",
      "/tmp/ipykernel_440/804014814.py:20: SettingWithCopyWarning: \n",
      "A value is trying to be set on a copy of a slice from a DataFrame.\n",
      "Try using .loc[row_indexer,col_indexer] = value instead\n",
      "\n",
      "See the caveats in the documentation: https://pandas.pydata.org/pandas-docs/stable/user_guide/indexing.html#returning-a-view-versus-a-copy\n",
      "  df_interpreted[category] =  df_interpreted[categories_column].apply(lambda x: 1 if x == category else 0)\n"
     ]
    },
    {
     "name": "stdout",
     "output_type": "stream",
     "text": [
      " Calculating stats for Deg_subs\n",
      "There are 1 entries of Deg_subs in redd_phytoif.\n",
      " Calculating stats for Deg_omb\n",
      "There are 15 entries of Deg_omb in redd_phytoif.\n"
     ]
    },
    {
     "name": "stderr",
     "output_type": "stream",
     "text": [
      "/tmp/ipykernel_440/804014814.py:20: SettingWithCopyWarning: \n",
      "A value is trying to be set on a copy of a slice from a DataFrame.\n",
      "Try using .loc[row_indexer,col_indexer] = value instead\n",
      "\n",
      "See the caveats in the documentation: https://pandas.pydata.org/pandas-docs/stable/user_guide/indexing.html#returning-a-view-versus-a-copy\n",
      "  df_interpreted[category] =  df_interpreted[categories_column].apply(lambda x: 1 if x == category else 0)\n",
      "/tmp/ipykernel_440/804014814.py:20: SettingWithCopyWarning: \n",
      "A value is trying to be set on a copy of a slice from a DataFrame.\n",
      "Try using .loc[row_indexer,col_indexer] = value instead\n",
      "\n",
      "See the caveats in the documentation: https://pandas.pydata.org/pandas-docs/stable/user_guide/indexing.html#returning-a-view-versus-a-copy\n",
      "  df_interpreted[category] =  df_interpreted[categories_column].apply(lambda x: 1 if x == category else 0)\n"
     ]
    },
    {
     "name": "stdout",
     "output_type": "stream",
     "text": [
      " Calculating stats for SNF_mont\n",
      "There are 36 entries of SNF_mont in redd_phytoif.\n",
      " Calculating stats for SDegF_mont\n",
      "There are 11 entries of SDegF_mont in redd_phytoif.\n"
     ]
    },
    {
     "name": "stderr",
     "output_type": "stream",
     "text": [
      "/tmp/ipykernel_440/804014814.py:20: SettingWithCopyWarning: \n",
      "A value is trying to be set on a copy of a slice from a DataFrame.\n",
      "Try using .loc[row_indexer,col_indexer] = value instead\n",
      "\n",
      "See the caveats in the documentation: https://pandas.pydata.org/pandas-docs/stable/user_guide/indexing.html#returning-a-view-versus-a-copy\n",
      "  df_interpreted[category] =  df_interpreted[categories_column].apply(lambda x: 1 if x == category else 0)\n",
      "/tmp/ipykernel_440/804014814.py:20: SettingWithCopyWarning: \n",
      "A value is trying to be set on a copy of a slice from a DataFrame.\n",
      "Try using .loc[row_indexer,col_indexer] = value instead\n",
      "\n",
      "See the caveats in the documentation: https://pandas.pydata.org/pandas-docs/stable/user_guide/indexing.html#returning-a-view-versus-a-copy\n",
      "  df_interpreted[category] =  df_interpreted[categories_column].apply(lambda x: 1 if x == category else 0)\n"
     ]
    },
    {
     "name": "stdout",
     "output_type": "stream",
     "text": [
      " Calculating stats for SF_mont\n",
      "There are 8 entries of SF_mont in redd_phytoif.\n",
      " Calculating stats for Def_nodata\n",
      "There are 1 entries of Def_nodata in redd_phytoif.\n"
     ]
    },
    {
     "name": "stderr",
     "output_type": "stream",
     "text": [
      "/tmp/ipykernel_440/804014814.py:20: SettingWithCopyWarning: \n",
      "A value is trying to be set on a copy of a slice from a DataFrame.\n",
      "Try using .loc[row_indexer,col_indexer] = value instead\n",
      "\n",
      "See the caveats in the documentation: https://pandas.pydata.org/pandas-docs/stable/user_guide/indexing.html#returning-a-view-versus-a-copy\n",
      "  df_interpreted[category] =  df_interpreted[categories_column].apply(lambda x: 1 if x == category else 0)\n",
      "/tmp/ipykernel_440/804014814.py:20: SettingWithCopyWarning: \n",
      "A value is trying to be set on a copy of a slice from a DataFrame.\n",
      "Try using .loc[row_indexer,col_indexer] = value instead\n",
      "\n",
      "See the caveats in the documentation: https://pandas.pydata.org/pandas-docs/stable/user_guide/indexing.html#returning-a-view-versus-a-copy\n",
      "  df_interpreted[category] =  df_interpreted[categories_column].apply(lambda x: 1 if x == category else 0)\n"
     ]
    },
    {
     "name": "stdout",
     "output_type": "stream",
     "text": [
      " Calculating stats for Def_mont\n",
      "There are 3 entries of Def_mont in redd_phytoif.\n"
     ]
    },
    {
     "name": "stderr",
     "output_type": "stream",
     "text": [
      "/tmp/ipykernel_440/804014814.py:20: SettingWithCopyWarning: \n",
      "A value is trying to be set on a copy of a slice from a DataFrame.\n",
      "Try using .loc[row_indexer,col_indexer] = value instead\n",
      "\n",
      "See the caveats in the documentation: https://pandas.pydata.org/pandas-docs/stable/user_guide/indexing.html#returning-a-view-versus-a-copy\n",
      "  df_interpreted[category] =  df_interpreted[categories_column].apply(lambda x: 1 if x == category else 0)\n"
     ]
    },
    {
     "data": {
      "text/html": [
       "<div>\n",
       "<style scoped>\n",
       "    .dataframe tbody tr th:only-of-type {\n",
       "        vertical-align: middle;\n",
       "    }\n",
       "\n",
       "    .dataframe tbody tr th {\n",
       "        vertical-align: top;\n",
       "    }\n",
       "\n",
       "    .dataframe thead th {\n",
       "        text-align: right;\n",
       "    }\n",
       "</style>\n",
       "<table border=\"1\" class=\"dataframe\">\n",
       "  <thead>\n",
       "    <tr style=\"text-align: right;\">\n",
       "      <th></th>\n",
       "      <th>area_stratum_0</th>\n",
       "      <th>ci_stratum_0</th>\n",
       "      <th>area_stratum_2</th>\n",
       "      <th>ci_stratum_2</th>\n",
       "      <th>area_stratum_1</th>\n",
       "      <th>ci_stratum_1</th>\n",
       "      <th>area_total</th>\n",
       "      <th>MOE</th>\n",
       "      <th>MOE_perc</th>\n",
       "    </tr>\n",
       "  </thead>\n",
       "  <tbody>\n",
       "    <tr>\n",
       "      <th>SNF_subs</th>\n",
       "      <td>15103.841664</td>\n",
       "      <td>1049.184026</td>\n",
       "      <td>21691.191563</td>\n",
       "      <td>1647.859655</td>\n",
       "      <td>1593.273786</td>\n",
       "      <td>301.597124</td>\n",
       "      <td>38388.307013</td>\n",
       "      <td>1976.661172</td>\n",
       "      <td>5.149123</td>\n",
       "    </tr>\n",
       "    <tr>\n",
       "      <th>SF_subs</th>\n",
       "      <td>10687.887957</td>\n",
       "      <td>906.526583</td>\n",
       "      <td>4421.465906</td>\n",
       "      <td>779.954848</td>\n",
       "      <td>2456.297087</td>\n",
       "      <td>369.484003</td>\n",
       "      <td>17565.650951</td>\n",
       "      <td>1251.654281</td>\n",
       "      <td>7.125579</td>\n",
       "    </tr>\n",
       "    <tr>\n",
       "      <th>SF_nodata</th>\n",
       "      <td>639.993291</td>\n",
       "      <td>234.619736</td>\n",
       "      <td>260.086230</td>\n",
       "      <td>191.209734</td>\n",
       "      <td>132.772816</td>\n",
       "      <td>88.992726</td>\n",
       "      <td>1032.852336</td>\n",
       "      <td>315.479458</td>\n",
       "      <td>30.544488</td>\n",
       "    </tr>\n",
       "    <tr>\n",
       "      <th>SDegF_meso</th>\n",
       "      <td>1023.989265</td>\n",
       "      <td>296.171125</td>\n",
       "      <td>416.137968</td>\n",
       "      <td>241.766904</td>\n",
       "      <td>1858.819417</td>\n",
       "      <td>324.432480</td>\n",
       "      <td>3298.946650</td>\n",
       "      <td>501.422980</td>\n",
       "      <td>15.199487</td>\n",
       "    </tr>\n",
       "    <tr>\n",
       "      <th>SNF_meso</th>\n",
       "      <td>26207.725260</td>\n",
       "      <td>1282.921654</td>\n",
       "      <td>55034.246219</td>\n",
       "      <td>2360.520525</td>\n",
       "      <td>8917.907443</td>\n",
       "      <td>628.268304</td>\n",
       "      <td>90159.878923</td>\n",
       "      <td>2759.106047</td>\n",
       "      <td>3.060237</td>\n",
       "    </tr>\n",
       "    <tr>\n",
       "      <th>SNF_omb</th>\n",
       "      <td>21087.778933</td>\n",
       "      <td>1192.625675</td>\n",
       "      <td>89521.680287</td>\n",
       "      <td>2616.710034</td>\n",
       "      <td>4182.343689</td>\n",
       "      <td>468.835320</td>\n",
       "      <td>114791.802909</td>\n",
       "      <td>2913.646162</td>\n",
       "      <td>2.538201</td>\n",
       "    </tr>\n",
       "    <tr>\n",
       "      <th>Def_omb</th>\n",
       "      <td>255.997316</td>\n",
       "      <td>148.686928</td>\n",
       "      <td>104.034492</td>\n",
       "      <td>120.979837</td>\n",
       "      <td>1261.341748</td>\n",
       "      <td>269.710881</td>\n",
       "      <td>1621.373556</td>\n",
       "      <td>330.889533</td>\n",
       "      <td>20.407976</td>\n",
       "    </tr>\n",
       "    <tr>\n",
       "      <th>SF_meso</th>\n",
       "      <td>3423.964106</td>\n",
       "      <td>534.645124</td>\n",
       "      <td>1404.465641</td>\n",
       "      <td>443.030843</td>\n",
       "      <td>4138.086084</td>\n",
       "      <td>466.691900</td>\n",
       "      <td>8966.515831</td>\n",
       "      <td>836.614048</td>\n",
       "      <td>9.330425</td>\n",
       "    </tr>\n",
       "    <tr>\n",
       "      <th>SDegF_omb</th>\n",
       "      <td>1439.984904</td>\n",
       "      <td>350.440767</td>\n",
       "      <td>364.120722</td>\n",
       "      <td>226.182294</td>\n",
       "      <td>1836.690615</td>\n",
       "      <td>322.605901</td>\n",
       "      <td>3640.796241</td>\n",
       "      <td>527.296623</td>\n",
       "      <td>14.483003</td>\n",
       "    </tr>\n",
       "    <tr>\n",
       "      <th>SDegF_subs</th>\n",
       "      <td>223.997652</td>\n",
       "      <td>139.107275</td>\n",
       "      <td>104.034492</td>\n",
       "      <td>120.979837</td>\n",
       "      <td>221.288026</td>\n",
       "      <td>114.739714</td>\n",
       "      <td>549.320170</td>\n",
       "      <td>217.145474</td>\n",
       "      <td>39.529856</td>\n",
       "    </tr>\n",
       "    <tr>\n",
       "      <th>Def_meso</th>\n",
       "      <td>479.994968</td>\n",
       "      <td>203.358131</td>\n",
       "      <td>104.034492</td>\n",
       "      <td>120.979837</td>\n",
       "      <td>1194.955340</td>\n",
       "      <td>262.781796</td>\n",
       "      <td>1778.984800</td>\n",
       "      <td>353.616916</td>\n",
       "      <td>19.877456</td>\n",
       "    </tr>\n",
       "    <tr>\n",
       "      <th>SNF_soud</th>\n",
       "      <td>4063.957397</td>\n",
       "      <td>580.442474</td>\n",
       "      <td>8634.862828</td>\n",
       "      <td>1077.919587</td>\n",
       "      <td>221.288026</td>\n",
       "      <td>114.739714</td>\n",
       "      <td>12920.108251</td>\n",
       "      <td>1229.629742</td>\n",
       "      <td>9.517178</td>\n",
       "    </tr>\n",
       "    <tr>\n",
       "      <th>SF_omb</th>\n",
       "      <td>5983.937269</td>\n",
       "      <td>696.890179</td>\n",
       "      <td>9779.242239</td>\n",
       "      <td>1143.618767</td>\n",
       "      <td>4160.214887</td>\n",
       "      <td>467.765754</td>\n",
       "      <td>19923.394395</td>\n",
       "      <td>1418.564276</td>\n",
       "      <td>7.120093</td>\n",
       "    </tr>\n",
       "    <tr>\n",
       "      <th>SNF_nodata</th>\n",
       "      <td>671.992955</td>\n",
       "      <td>240.373088</td>\n",
       "      <td>1976.655346</td>\n",
       "      <td>524.813033</td>\n",
       "      <td>243.416828</td>\n",
       "      <td>120.300823</td>\n",
       "      <td>2892.065130</td>\n",
       "      <td>589.644154</td>\n",
       "      <td>20.388343</td>\n",
       "    </tr>\n",
       "    <tr>\n",
       "      <th>SF_soud</th>\n",
       "      <td>1663.982556</td>\n",
       "      <td>376.263159</td>\n",
       "      <td>1144.379411</td>\n",
       "      <td>400.178153</td>\n",
       "      <td>110.644013</td>\n",
       "      <td>81.265262</td>\n",
       "      <td>2919.005980</td>\n",
       "      <td>555.266208</td>\n",
       "      <td>19.022442</td>\n",
       "    </tr>\n",
       "    <tr>\n",
       "      <th>SDegF_nodata</th>\n",
       "      <td>95.998994</td>\n",
       "      <td>91.128310</td>\n",
       "      <td>0.000000</td>\n",
       "      <td>0.000000</td>\n",
       "      <td>132.772816</td>\n",
       "      <td>88.992726</td>\n",
       "      <td>228.771809</td>\n",
       "      <td>127.373757</td>\n",
       "      <td>55.677209</td>\n",
       "    </tr>\n",
       "    <tr>\n",
       "      <th>Gain_omb</th>\n",
       "      <td>159.998323</td>\n",
       "      <td>117.606630</td>\n",
       "      <td>52.017246</td>\n",
       "      <td>85.557017</td>\n",
       "      <td>110.644013</td>\n",
       "      <td>81.265262</td>\n",
       "      <td>322.659582</td>\n",
       "      <td>166.599416</td>\n",
       "      <td>51.633184</td>\n",
       "    </tr>\n",
       "    <tr>\n",
       "      <th>Def_subs</th>\n",
       "      <td>1023.989265</td>\n",
       "      <td>296.171125</td>\n",
       "      <td>312.103476</td>\n",
       "      <td>209.431943</td>\n",
       "      <td>287.674434</td>\n",
       "      <td>130.695500</td>\n",
       "      <td>1623.767175</td>\n",
       "      <td>385.565024</td>\n",
       "      <td>23.745093</td>\n",
       "    </tr>\n",
       "    <tr>\n",
       "      <th>Gain_meso</th>\n",
       "      <td>159.998323</td>\n",
       "      <td>117.606630</td>\n",
       "      <td>104.034492</td>\n",
       "      <td>120.979837</td>\n",
       "      <td>22.128803</td>\n",
       "      <td>36.390098</td>\n",
       "      <td>286.161617</td>\n",
       "      <td>172.602664</td>\n",
       "      <td>60.316497</td>\n",
       "    </tr>\n",
       "    <tr>\n",
       "      <th>Def_soud</th>\n",
       "      <td>159.998323</td>\n",
       "      <td>117.606630</td>\n",
       "      <td>260.086230</td>\n",
       "      <td>191.209734</td>\n",
       "      <td>0.000000</td>\n",
       "      <td>0.000000</td>\n",
       "      <td>420.084552</td>\n",
       "      <td>224.482698</td>\n",
       "      <td>53.437504</td>\n",
       "    </tr>\n",
       "    <tr>\n",
       "      <th>SDegF_soud</th>\n",
       "      <td>95.998994</td>\n",
       "      <td>91.128310</td>\n",
       "      <td>0.000000</td>\n",
       "      <td>0.000000</td>\n",
       "      <td>0.000000</td>\n",
       "      <td>0.000000</td>\n",
       "      <td>95.998994</td>\n",
       "      <td>91.128310</td>\n",
       "      <td>94.926318</td>\n",
       "    </tr>\n",
       "    <tr>\n",
       "      <th>Deg_meso</th>\n",
       "      <td>0.000000</td>\n",
       "      <td>0.000000</td>\n",
       "      <td>52.017246</td>\n",
       "      <td>85.557017</td>\n",
       "      <td>88.515210</td>\n",
       "      <td>72.709455</td>\n",
       "      <td>140.532456</td>\n",
       "      <td>112.279420</td>\n",
       "      <td>79.895721</td>\n",
       "    </tr>\n",
       "    <tr>\n",
       "      <th>Deg_subs</th>\n",
       "      <td>0.000000</td>\n",
       "      <td>0.000000</td>\n",
       "      <td>0.000000</td>\n",
       "      <td>0.000000</td>\n",
       "      <td>22.128803</td>\n",
       "      <td>36.390098</td>\n",
       "      <td>22.128803</td>\n",
       "      <td>36.390098</td>\n",
       "      <td>164.446755</td>\n",
       "    </tr>\n",
       "    <tr>\n",
       "      <th>Deg_omb</th>\n",
       "      <td>31.999665</td>\n",
       "      <td>52.630618</td>\n",
       "      <td>0.000000</td>\n",
       "      <td>0.000000</td>\n",
       "      <td>309.803236</td>\n",
       "      <td>135.584857</td>\n",
       "      <td>341.802901</td>\n",
       "      <td>145.441519</td>\n",
       "      <td>42.551283</td>\n",
       "    </tr>\n",
       "    <tr>\n",
       "      <th>SNF_mont</th>\n",
       "      <td>415.995639</td>\n",
       "      <td>189.379935</td>\n",
       "      <td>312.103476</td>\n",
       "      <td>209.431943</td>\n",
       "      <td>376.189644</td>\n",
       "      <td>149.260782</td>\n",
       "      <td>1104.288759</td>\n",
       "      <td>319.382654</td>\n",
       "      <td>28.922024</td>\n",
       "    </tr>\n",
       "    <tr>\n",
       "      <th>SDegF_mont</th>\n",
       "      <td>63.999329</td>\n",
       "      <td>74.418445</td>\n",
       "      <td>0.000000</td>\n",
       "      <td>0.000000</td>\n",
       "      <td>199.159223</td>\n",
       "      <td>108.887102</td>\n",
       "      <td>263.158552</td>\n",
       "      <td>131.888232</td>\n",
       "      <td>50.117403</td>\n",
       "    </tr>\n",
       "    <tr>\n",
       "      <th>SF_mont</th>\n",
       "      <td>159.998323</td>\n",
       "      <td>117.606630</td>\n",
       "      <td>0.000000</td>\n",
       "      <td>0.000000</td>\n",
       "      <td>66.386408</td>\n",
       "      <td>62.988663</td>\n",
       "      <td>226.384730</td>\n",
       "      <td>133.412485</td>\n",
       "      <td>58.931751</td>\n",
       "    </tr>\n",
       "    <tr>\n",
       "      <th>Def_nodata</th>\n",
       "      <td>31.999665</td>\n",
       "      <td>52.630618</td>\n",
       "      <td>0.000000</td>\n",
       "      <td>0.000000</td>\n",
       "      <td>0.000000</td>\n",
       "      <td>0.000000</td>\n",
       "      <td>31.999665</td>\n",
       "      <td>52.630618</td>\n",
       "      <td>164.472406</td>\n",
       "    </tr>\n",
       "    <tr>\n",
       "      <th>Def_mont</th>\n",
       "      <td>31.999665</td>\n",
       "      <td>52.630618</td>\n",
       "      <td>0.000000</td>\n",
       "      <td>0.000000</td>\n",
       "      <td>44.257605</td>\n",
       "      <td>51.446702</td>\n",
       "      <td>76.257270</td>\n",
       "      <td>73.598540</td>\n",
       "      <td>96.513474</td>\n",
       "    </tr>\n",
       "  </tbody>\n",
       "</table>\n",
       "</div>"
      ],
      "text/plain": [
       "              area_stratum_0  ci_stratum_0  area_stratum_2  ci_stratum_2  \\\n",
       "SNF_subs        15103.841664   1049.184026    21691.191563   1647.859655   \n",
       "SF_subs         10687.887957    906.526583     4421.465906    779.954848   \n",
       "SF_nodata         639.993291    234.619736      260.086230    191.209734   \n",
       "SDegF_meso       1023.989265    296.171125      416.137968    241.766904   \n",
       "SNF_meso        26207.725260   1282.921654    55034.246219   2360.520525   \n",
       "SNF_omb         21087.778933   1192.625675    89521.680287   2616.710034   \n",
       "Def_omb           255.997316    148.686928      104.034492    120.979837   \n",
       "SF_meso          3423.964106    534.645124     1404.465641    443.030843   \n",
       "SDegF_omb        1439.984904    350.440767      364.120722    226.182294   \n",
       "SDegF_subs        223.997652    139.107275      104.034492    120.979837   \n",
       "Def_meso          479.994968    203.358131      104.034492    120.979837   \n",
       "SNF_soud         4063.957397    580.442474     8634.862828   1077.919587   \n",
       "SF_omb           5983.937269    696.890179     9779.242239   1143.618767   \n",
       "SNF_nodata        671.992955    240.373088     1976.655346    524.813033   \n",
       "SF_soud          1663.982556    376.263159     1144.379411    400.178153   \n",
       "SDegF_nodata       95.998994     91.128310        0.000000      0.000000   \n",
       "Gain_omb          159.998323    117.606630       52.017246     85.557017   \n",
       "Def_subs         1023.989265    296.171125      312.103476    209.431943   \n",
       "Gain_meso         159.998323    117.606630      104.034492    120.979837   \n",
       "Def_soud          159.998323    117.606630      260.086230    191.209734   \n",
       "SDegF_soud         95.998994     91.128310        0.000000      0.000000   \n",
       "Deg_meso            0.000000      0.000000       52.017246     85.557017   \n",
       "Deg_subs            0.000000      0.000000        0.000000      0.000000   \n",
       "Deg_omb            31.999665     52.630618        0.000000      0.000000   \n",
       "SNF_mont          415.995639    189.379935      312.103476    209.431943   \n",
       "SDegF_mont         63.999329     74.418445        0.000000      0.000000   \n",
       "SF_mont           159.998323    117.606630        0.000000      0.000000   \n",
       "Def_nodata         31.999665     52.630618        0.000000      0.000000   \n",
       "Def_mont           31.999665     52.630618        0.000000      0.000000   \n",
       "\n",
       "              area_stratum_1  ci_stratum_1     area_total          MOE  \\\n",
       "SNF_subs         1593.273786    301.597124   38388.307013  1976.661172   \n",
       "SF_subs          2456.297087    369.484003   17565.650951  1251.654281   \n",
       "SF_nodata         132.772816     88.992726    1032.852336   315.479458   \n",
       "SDegF_meso       1858.819417    324.432480    3298.946650   501.422980   \n",
       "SNF_meso         8917.907443    628.268304   90159.878923  2759.106047   \n",
       "SNF_omb          4182.343689    468.835320  114791.802909  2913.646162   \n",
       "Def_omb          1261.341748    269.710881    1621.373556   330.889533   \n",
       "SF_meso          4138.086084    466.691900    8966.515831   836.614048   \n",
       "SDegF_omb        1836.690615    322.605901    3640.796241   527.296623   \n",
       "SDegF_subs        221.288026    114.739714     549.320170   217.145474   \n",
       "Def_meso         1194.955340    262.781796    1778.984800   353.616916   \n",
       "SNF_soud          221.288026    114.739714   12920.108251  1229.629742   \n",
       "SF_omb           4160.214887    467.765754   19923.394395  1418.564276   \n",
       "SNF_nodata        243.416828    120.300823    2892.065130   589.644154   \n",
       "SF_soud           110.644013     81.265262    2919.005980   555.266208   \n",
       "SDegF_nodata      132.772816     88.992726     228.771809   127.373757   \n",
       "Gain_omb          110.644013     81.265262     322.659582   166.599416   \n",
       "Def_subs          287.674434    130.695500    1623.767175   385.565024   \n",
       "Gain_meso          22.128803     36.390098     286.161617   172.602664   \n",
       "Def_soud            0.000000      0.000000     420.084552   224.482698   \n",
       "SDegF_soud          0.000000      0.000000      95.998994    91.128310   \n",
       "Deg_meso           88.515210     72.709455     140.532456   112.279420   \n",
       "Deg_subs           22.128803     36.390098      22.128803    36.390098   \n",
       "Deg_omb           309.803236    135.584857     341.802901   145.441519   \n",
       "SNF_mont          376.189644    149.260782    1104.288759   319.382654   \n",
       "SDegF_mont        199.159223    108.887102     263.158552   131.888232   \n",
       "SF_mont            66.386408     62.988663     226.384730   133.412485   \n",
       "Def_nodata          0.000000      0.000000      31.999665    52.630618   \n",
       "Def_mont           44.257605     51.446702      76.257270    73.598540   \n",
       "\n",
       "                MOE_perc  \n",
       "SNF_subs        5.149123  \n",
       "SF_subs         7.125579  \n",
       "SF_nodata      30.544488  \n",
       "SDegF_meso     15.199487  \n",
       "SNF_meso        3.060237  \n",
       "SNF_omb         2.538201  \n",
       "Def_omb        20.407976  \n",
       "SF_meso         9.330425  \n",
       "SDegF_omb      14.483003  \n",
       "SDegF_subs     39.529856  \n",
       "Def_meso       19.877456  \n",
       "SNF_soud        9.517178  \n",
       "SF_omb          7.120093  \n",
       "SNF_nodata     20.388343  \n",
       "SF_soud        19.022442  \n",
       "SDegF_nodata   55.677209  \n",
       "Gain_omb       51.633184  \n",
       "Def_subs       23.745093  \n",
       "Gain_meso      60.316497  \n",
       "Def_soud       53.437504  \n",
       "SDegF_soud     94.926318  \n",
       "Deg_meso       79.895721  \n",
       "Deg_subs      164.446755  \n",
       "Deg_omb        42.551283  \n",
       "SNF_mont       28.922024  \n",
       "SDegF_mont     50.117403  \n",
       "SF_mont        58.931751  \n",
       "Def_nodata    164.472406  \n",
       "Def_mont       96.513474  "
      ]
     },
     "execution_count": 66,
     "metadata": {},
     "output_type": "execute_result"
    }
   ],
   "source": [
    "#scenario DA3: NERF = ERP + NERP par phyto IFFN\n",
    "calculate_areas(db_total=df320k_full, strata_column='kmeans_multi', categories_column='redd_phytoif', total_area=len(df320k_full), z_score=1.645)"
   ]
  },
  {
   "cell_type": "code",
   "execution_count": 62,
   "id": "d6f97a6b-1849-48c1-acfe-1ed415c205cd",
   "metadata": {
    "tags": []
   },
   "outputs": [
    {
     "name": "stdout",
     "output_type": "stream",
     "text": [
      "['SNF_soud' 'SF_soud' 'SDegF_meso' 'SNF_meso' 'SNF_omb' 'Def_omb'\n",
      " 'SF_subs' 'SDegF_omb' 'SF_meso' 'SNF_subs' 'SDegF_soud' 'Def_meso'\n",
      " 'SF_omb' 'SNF_nodata' 'SDegF_subs' 'SDegF_nodata' 'SF_nodata' 'Gain_omb'\n",
      " 'Def_soud' 'Gain_meso' 'Def_subs' 'Deg_subs' 'Deg_soud' 'Deg_omb'\n",
      " 'Deg_meso' 'Def_nodata' 'Gain_subs']\n",
      " Calculating stats for SNF_soud\n",
      "There are 1268 entries of SNF_soud in redd_phyto.\n",
      " Calculating stats for SF_soud\n",
      "There are 612 entries of SF_soud in redd_phyto.\n"
     ]
    },
    {
     "name": "stderr",
     "output_type": "stream",
     "text": [
      "/tmp/ipykernel_440/804014814.py:20: SettingWithCopyWarning: \n",
      "A value is trying to be set on a copy of a slice from a DataFrame.\n",
      "Try using .loc[row_indexer,col_indexer] = value instead\n",
      "\n",
      "See the caveats in the documentation: https://pandas.pydata.org/pandas-docs/stable/user_guide/indexing.html#returning-a-view-versus-a-copy\n",
      "  df_interpreted[category] =  df_interpreted[categories_column].apply(lambda x: 1 if x == category else 0)\n",
      "/tmp/ipykernel_440/804014814.py:20: SettingWithCopyWarning: \n",
      "A value is trying to be set on a copy of a slice from a DataFrame.\n",
      "Try using .loc[row_indexer,col_indexer] = value instead\n",
      "\n",
      "See the caveats in the documentation: https://pandas.pydata.org/pandas-docs/stable/user_guide/indexing.html#returning-a-view-versus-a-copy\n",
      "  df_interpreted[category] =  df_interpreted[categories_column].apply(lambda x: 1 if x == category else 0)\n"
     ]
    },
    {
     "name": "stdout",
     "output_type": "stream",
     "text": [
      " Calculating stats for SDegF_meso\n",
      "There are 117 entries of SDegF_meso in redd_phyto.\n",
      " Calculating stats for SNF_meso\n",
      "There are 1947 entries of SNF_meso in redd_phyto.\n"
     ]
    },
    {
     "name": "stderr",
     "output_type": "stream",
     "text": [
      "/tmp/ipykernel_440/804014814.py:20: SettingWithCopyWarning: \n",
      "A value is trying to be set on a copy of a slice from a DataFrame.\n",
      "Try using .loc[row_indexer,col_indexer] = value instead\n",
      "\n",
      "See the caveats in the documentation: https://pandas.pydata.org/pandas-docs/stable/user_guide/indexing.html#returning-a-view-versus-a-copy\n",
      "  df_interpreted[category] =  df_interpreted[categories_column].apply(lambda x: 1 if x == category else 0)\n",
      "/tmp/ipykernel_440/804014814.py:20: SettingWithCopyWarning: \n",
      "A value is trying to be set on a copy of a slice from a DataFrame.\n",
      "Try using .loc[row_indexer,col_indexer] = value instead\n",
      "\n",
      "See the caveats in the documentation: https://pandas.pydata.org/pandas-docs/stable/user_guide/indexing.html#returning-a-view-versus-a-copy\n",
      "  df_interpreted[category] =  df_interpreted[categories_column].apply(lambda x: 1 if x == category else 0)\n"
     ]
    },
    {
     "name": "stdout",
     "output_type": "stream",
     "text": [
      " Calculating stats for SNF_omb\n",
      "There are 2571 entries of SNF_omb in redd_phyto.\n",
      " Calculating stats for Def_omb\n",
      "There are 67 entries of Def_omb in redd_phyto.\n"
     ]
    },
    {
     "name": "stderr",
     "output_type": "stream",
     "text": [
      "/tmp/ipykernel_440/804014814.py:20: SettingWithCopyWarning: \n",
      "A value is trying to be set on a copy of a slice from a DataFrame.\n",
      "Try using .loc[row_indexer,col_indexer] = value instead\n",
      "\n",
      "See the caveats in the documentation: https://pandas.pydata.org/pandas-docs/stable/user_guide/indexing.html#returning-a-view-versus-a-copy\n",
      "  df_interpreted[category] =  df_interpreted[categories_column].apply(lambda x: 1 if x == category else 0)\n",
      "/tmp/ipykernel_440/804014814.py:20: SettingWithCopyWarning: \n",
      "A value is trying to be set on a copy of a slice from a DataFrame.\n",
      "Try using .loc[row_indexer,col_indexer] = value instead\n",
      "\n",
      "See the caveats in the documentation: https://pandas.pydata.org/pandas-docs/stable/user_guide/indexing.html#returning-a-view-versus-a-copy\n",
      "  df_interpreted[category] =  df_interpreted[categories_column].apply(lambda x: 1 if x == category else 0)\n"
     ]
    },
    {
     "name": "stdout",
     "output_type": "stream",
     "text": [
      " Calculating stats for SF_subs\n",
      "There are 91 entries of SF_subs in redd_phyto.\n",
      " Calculating stats for SDegF_omb\n",
      "There are 135 entries of SDegF_omb in redd_phyto.\n"
     ]
    },
    {
     "name": "stderr",
     "output_type": "stream",
     "text": [
      "/tmp/ipykernel_440/804014814.py:20: SettingWithCopyWarning: \n",
      "A value is trying to be set on a copy of a slice from a DataFrame.\n",
      "Try using .loc[row_indexer,col_indexer] = value instead\n",
      "\n",
      "See the caveats in the documentation: https://pandas.pydata.org/pandas-docs/stable/user_guide/indexing.html#returning-a-view-versus-a-copy\n",
      "  df_interpreted[category] =  df_interpreted[categories_column].apply(lambda x: 1 if x == category else 0)\n",
      "/tmp/ipykernel_440/804014814.py:20: SettingWithCopyWarning: \n",
      "A value is trying to be set on a copy of a slice from a DataFrame.\n",
      "Try using .loc[row_indexer,col_indexer] = value instead\n",
      "\n",
      "See the caveats in the documentation: https://pandas.pydata.org/pandas-docs/stable/user_guide/indexing.html#returning-a-view-versus-a-copy\n",
      "  df_interpreted[category] =  df_interpreted[categories_column].apply(lambda x: 1 if x == category else 0)\n"
     ]
    },
    {
     "name": "stdout",
     "output_type": "stream",
     "text": [
      " Calculating stats for SF_meso\n",
      "There are 239 entries of SF_meso in redd_phyto.\n",
      " Calculating stats for SNF_subs\n",
      "There are 374 entries of SNF_subs in redd_phyto.\n"
     ]
    },
    {
     "name": "stderr",
     "output_type": "stream",
     "text": [
      "/tmp/ipykernel_440/804014814.py:20: SettingWithCopyWarning: \n",
      "A value is trying to be set on a copy of a slice from a DataFrame.\n",
      "Try using .loc[row_indexer,col_indexer] = value instead\n",
      "\n",
      "See the caveats in the documentation: https://pandas.pydata.org/pandas-docs/stable/user_guide/indexing.html#returning-a-view-versus-a-copy\n",
      "  df_interpreted[category] =  df_interpreted[categories_column].apply(lambda x: 1 if x == category else 0)\n",
      "/tmp/ipykernel_440/804014814.py:20: SettingWithCopyWarning: \n",
      "A value is trying to be set on a copy of a slice from a DataFrame.\n",
      "Try using .loc[row_indexer,col_indexer] = value instead\n",
      "\n",
      "See the caveats in the documentation: https://pandas.pydata.org/pandas-docs/stable/user_guide/indexing.html#returning-a-view-versus-a-copy\n",
      "  df_interpreted[category] =  df_interpreted[categories_column].apply(lambda x: 1 if x == category else 0)\n"
     ]
    },
    {
     "name": "stdout",
     "output_type": "stream",
     "text": [
      " Calculating stats for SDegF_soud\n",
      "There are 22 entries of SDegF_soud in redd_phyto.\n",
      " Calculating stats for Def_meso\n",
      "There are 68 entries of Def_meso in redd_phyto.\n"
     ]
    },
    {
     "name": "stderr",
     "output_type": "stream",
     "text": [
      "/tmp/ipykernel_440/804014814.py:20: SettingWithCopyWarning: \n",
      "A value is trying to be set on a copy of a slice from a DataFrame.\n",
      "Try using .loc[row_indexer,col_indexer] = value instead\n",
      "\n",
      "See the caveats in the documentation: https://pandas.pydata.org/pandas-docs/stable/user_guide/indexing.html#returning-a-view-versus-a-copy\n",
      "  df_interpreted[category] =  df_interpreted[categories_column].apply(lambda x: 1 if x == category else 0)\n",
      "/tmp/ipykernel_440/804014814.py:20: SettingWithCopyWarning: \n",
      "A value is trying to be set on a copy of a slice from a DataFrame.\n",
      "Try using .loc[row_indexer,col_indexer] = value instead\n",
      "\n",
      "See the caveats in the documentation: https://pandas.pydata.org/pandas-docs/stable/user_guide/indexing.html#returning-a-view-versus-a-copy\n",
      "  df_interpreted[category] =  df_interpreted[categories_column].apply(lambda x: 1 if x == category else 0)\n"
     ]
    },
    {
     "name": "stdout",
     "output_type": "stream",
     "text": [
      " Calculating stats for SF_omb\n",
      "There are 566 entries of SF_omb in redd_phyto.\n",
      " Calculating stats for SNF_nodata\n",
      "There are 59 entries of SNF_nodata in redd_phyto.\n"
     ]
    },
    {
     "name": "stderr",
     "output_type": "stream",
     "text": [
      "/tmp/ipykernel_440/804014814.py:20: SettingWithCopyWarning: \n",
      "A value is trying to be set on a copy of a slice from a DataFrame.\n",
      "Try using .loc[row_indexer,col_indexer] = value instead\n",
      "\n",
      "See the caveats in the documentation: https://pandas.pydata.org/pandas-docs/stable/user_guide/indexing.html#returning-a-view-versus-a-copy\n",
      "  df_interpreted[category] =  df_interpreted[categories_column].apply(lambda x: 1 if x == category else 0)\n",
      "/tmp/ipykernel_440/804014814.py:20: SettingWithCopyWarning: \n",
      "A value is trying to be set on a copy of a slice from a DataFrame.\n",
      "Try using .loc[row_indexer,col_indexer] = value instead\n",
      "\n",
      "See the caveats in the documentation: https://pandas.pydata.org/pandas-docs/stable/user_guide/indexing.html#returning-a-view-versus-a-copy\n",
      "  df_interpreted[category] =  df_interpreted[categories_column].apply(lambda x: 1 if x == category else 0)\n"
     ]
    },
    {
     "name": "stdout",
     "output_type": "stream",
     "text": [
      " Calculating stats for SDegF_subs\n",
      "There are 18 entries of SDegF_subs in redd_phyto.\n",
      " Calculating stats for SDegF_nodata\n",
      "There are 9 entries of SDegF_nodata in redd_phyto.\n"
     ]
    },
    {
     "name": "stderr",
     "output_type": "stream",
     "text": [
      "/tmp/ipykernel_440/804014814.py:20: SettingWithCopyWarning: \n",
      "A value is trying to be set on a copy of a slice from a DataFrame.\n",
      "Try using .loc[row_indexer,col_indexer] = value instead\n",
      "\n",
      "See the caveats in the documentation: https://pandas.pydata.org/pandas-docs/stable/user_guide/indexing.html#returning-a-view-versus-a-copy\n",
      "  df_interpreted[category] =  df_interpreted[categories_column].apply(lambda x: 1 if x == category else 0)\n",
      "/tmp/ipykernel_440/804014814.py:20: SettingWithCopyWarning: \n",
      "A value is trying to be set on a copy of a slice from a DataFrame.\n",
      "Try using .loc[row_indexer,col_indexer] = value instead\n",
      "\n",
      "See the caveats in the documentation: https://pandas.pydata.org/pandas-docs/stable/user_guide/indexing.html#returning-a-view-versus-a-copy\n",
      "  df_interpreted[category] =  df_interpreted[categories_column].apply(lambda x: 1 if x == category else 0)\n"
     ]
    },
    {
     "name": "stdout",
     "output_type": "stream",
     "text": [
      " Calculating stats for SF_nodata\n",
      "There are 24 entries of SF_nodata in redd_phyto.\n",
      " Calculating stats for Gain_omb\n",
      "There are 11 entries of Gain_omb in redd_phyto.\n"
     ]
    },
    {
     "name": "stderr",
     "output_type": "stream",
     "text": [
      "/tmp/ipykernel_440/804014814.py:20: SettingWithCopyWarning: \n",
      "A value is trying to be set on a copy of a slice from a DataFrame.\n",
      "Try using .loc[row_indexer,col_indexer] = value instead\n",
      "\n",
      "See the caveats in the documentation: https://pandas.pydata.org/pandas-docs/stable/user_guide/indexing.html#returning-a-view-versus-a-copy\n",
      "  df_interpreted[category] =  df_interpreted[categories_column].apply(lambda x: 1 if x == category else 0)\n",
      "/tmp/ipykernel_440/804014814.py:20: SettingWithCopyWarning: \n",
      "A value is trying to be set on a copy of a slice from a DataFrame.\n",
      "Try using .loc[row_indexer,col_indexer] = value instead\n",
      "\n",
      "See the caveats in the documentation: https://pandas.pydata.org/pandas-docs/stable/user_guide/indexing.html#returning-a-view-versus-a-copy\n",
      "  df_interpreted[category] =  df_interpreted[categories_column].apply(lambda x: 1 if x == category else 0)\n"
     ]
    },
    {
     "name": "stdout",
     "output_type": "stream",
     "text": [
      " Calculating stats for Def_soud\n",
      "There are 61 entries of Def_soud in redd_phyto.\n",
      " Calculating stats for Gain_meso\n",
      "There are 6 entries of Gain_meso in redd_phyto.\n"
     ]
    },
    {
     "name": "stderr",
     "output_type": "stream",
     "text": [
      "/tmp/ipykernel_440/804014814.py:20: SettingWithCopyWarning: \n",
      "A value is trying to be set on a copy of a slice from a DataFrame.\n",
      "Try using .loc[row_indexer,col_indexer] = value instead\n",
      "\n",
      "See the caveats in the documentation: https://pandas.pydata.org/pandas-docs/stable/user_guide/indexing.html#returning-a-view-versus-a-copy\n",
      "  df_interpreted[category] =  df_interpreted[categories_column].apply(lambda x: 1 if x == category else 0)\n",
      "/tmp/ipykernel_440/804014814.py:20: SettingWithCopyWarning: \n",
      "A value is trying to be set on a copy of a slice from a DataFrame.\n",
      "Try using .loc[row_indexer,col_indexer] = value instead\n",
      "\n",
      "See the caveats in the documentation: https://pandas.pydata.org/pandas-docs/stable/user_guide/indexing.html#returning-a-view-versus-a-copy\n",
      "  df_interpreted[category] =  df_interpreted[categories_column].apply(lambda x: 1 if x == category else 0)\n"
     ]
    },
    {
     "name": "stdout",
     "output_type": "stream",
     "text": [
      " Calculating stats for Def_subs\n",
      "There are 6 entries of Def_subs in redd_phyto.\n",
      " Calculating stats for Deg_subs\n",
      "There are 1 entries of Deg_subs in redd_phyto.\n"
     ]
    },
    {
     "name": "stderr",
     "output_type": "stream",
     "text": [
      "/tmp/ipykernel_440/804014814.py:20: SettingWithCopyWarning: \n",
      "A value is trying to be set on a copy of a slice from a DataFrame.\n",
      "Try using .loc[row_indexer,col_indexer] = value instead\n",
      "\n",
      "See the caveats in the documentation: https://pandas.pydata.org/pandas-docs/stable/user_guide/indexing.html#returning-a-view-versus-a-copy\n",
      "  df_interpreted[category] =  df_interpreted[categories_column].apply(lambda x: 1 if x == category else 0)\n",
      "/tmp/ipykernel_440/804014814.py:20: SettingWithCopyWarning: \n",
      "A value is trying to be set on a copy of a slice from a DataFrame.\n",
      "Try using .loc[row_indexer,col_indexer] = value instead\n",
      "\n",
      "See the caveats in the documentation: https://pandas.pydata.org/pandas-docs/stable/user_guide/indexing.html#returning-a-view-versus-a-copy\n",
      "  df_interpreted[category] =  df_interpreted[categories_column].apply(lambda x: 1 if x == category else 0)\n"
     ]
    },
    {
     "name": "stdout",
     "output_type": "stream",
     "text": [
      " Calculating stats for Deg_soud\n",
      "There are 1 entries of Deg_soud in redd_phyto.\n",
      " Calculating stats for Deg_omb\n",
      "There are 15 entries of Deg_omb in redd_phyto.\n"
     ]
    },
    {
     "name": "stderr",
     "output_type": "stream",
     "text": [
      "/tmp/ipykernel_440/804014814.py:20: SettingWithCopyWarning: \n",
      "A value is trying to be set on a copy of a slice from a DataFrame.\n",
      "Try using .loc[row_indexer,col_indexer] = value instead\n",
      "\n",
      "See the caveats in the documentation: https://pandas.pydata.org/pandas-docs/stable/user_guide/indexing.html#returning-a-view-versus-a-copy\n",
      "  df_interpreted[category] =  df_interpreted[categories_column].apply(lambda x: 1 if x == category else 0)\n",
      "/tmp/ipykernel_440/804014814.py:20: SettingWithCopyWarning: \n",
      "A value is trying to be set on a copy of a slice from a DataFrame.\n",
      "Try using .loc[row_indexer,col_indexer] = value instead\n",
      "\n",
      "See the caveats in the documentation: https://pandas.pydata.org/pandas-docs/stable/user_guide/indexing.html#returning-a-view-versus-a-copy\n",
      "  df_interpreted[category] =  df_interpreted[categories_column].apply(lambda x: 1 if x == category else 0)\n"
     ]
    },
    {
     "name": "stdout",
     "output_type": "stream",
     "text": [
      " Calculating stats for Deg_meso\n",
      "There are 4 entries of Deg_meso in redd_phyto.\n",
      " Calculating stats for Def_nodata\n",
      "There are 1 entries of Def_nodata in redd_phyto.\n"
     ]
    },
    {
     "name": "stderr",
     "output_type": "stream",
     "text": [
      "/tmp/ipykernel_440/804014814.py:20: SettingWithCopyWarning: \n",
      "A value is trying to be set on a copy of a slice from a DataFrame.\n",
      "Try using .loc[row_indexer,col_indexer] = value instead\n",
      "\n",
      "See the caveats in the documentation: https://pandas.pydata.org/pandas-docs/stable/user_guide/indexing.html#returning-a-view-versus-a-copy\n",
      "  df_interpreted[category] =  df_interpreted[categories_column].apply(lambda x: 1 if x == category else 0)\n",
      "/tmp/ipykernel_440/804014814.py:20: SettingWithCopyWarning: \n",
      "A value is trying to be set on a copy of a slice from a DataFrame.\n",
      "Try using .loc[row_indexer,col_indexer] = value instead\n",
      "\n",
      "See the caveats in the documentation: https://pandas.pydata.org/pandas-docs/stable/user_guide/indexing.html#returning-a-view-versus-a-copy\n",
      "  df_interpreted[category] =  df_interpreted[categories_column].apply(lambda x: 1 if x == category else 0)\n"
     ]
    },
    {
     "name": "stdout",
     "output_type": "stream",
     "text": [
      " Calculating stats for Gain_subs\n",
      "There are 2 entries of Gain_subs in redd_phyto.\n"
     ]
    },
    {
     "name": "stderr",
     "output_type": "stream",
     "text": [
      "/tmp/ipykernel_440/804014814.py:20: SettingWithCopyWarning: \n",
      "A value is trying to be set on a copy of a slice from a DataFrame.\n",
      "Try using .loc[row_indexer,col_indexer] = value instead\n",
      "\n",
      "See the caveats in the documentation: https://pandas.pydata.org/pandas-docs/stable/user_guide/indexing.html#returning-a-view-versus-a-copy\n",
      "  df_interpreted[category] =  df_interpreted[categories_column].apply(lambda x: 1 if x == category else 0)\n"
     ]
    },
    {
     "data": {
      "text/html": [
       "<div>\n",
       "<style scoped>\n",
       "    .dataframe tbody tr th:only-of-type {\n",
       "        vertical-align: middle;\n",
       "    }\n",
       "\n",
       "    .dataframe tbody tr th {\n",
       "        vertical-align: top;\n",
       "    }\n",
       "\n",
       "    .dataframe thead th {\n",
       "        text-align: right;\n",
       "    }\n",
       "</style>\n",
       "<table border=\"1\" class=\"dataframe\">\n",
       "  <thead>\n",
       "    <tr style=\"text-align: right;\">\n",
       "      <th></th>\n",
       "      <th>area_stratum_0</th>\n",
       "      <th>ci_stratum_0</th>\n",
       "      <th>area_stratum_2</th>\n",
       "      <th>ci_stratum_2</th>\n",
       "      <th>area_stratum_1</th>\n",
       "      <th>ci_stratum_1</th>\n",
       "      <th>area_total</th>\n",
       "      <th>MOE</th>\n",
       "      <th>MOE_perc</th>\n",
       "    </tr>\n",
       "  </thead>\n",
       "  <tbody>\n",
       "    <tr>\n",
       "      <th>SNF_soud</th>\n",
       "      <td>19231.798390</td>\n",
       "      <td>1153.071012</td>\n",
       "      <td>30430.088883</td>\n",
       "      <td>1902.237115</td>\n",
       "      <td>1814.561812</td>\n",
       "      <td>320.766248</td>\n",
       "      <td>51476.449085</td>\n",
       "      <td>2247.436270</td>\n",
       "      <td>4.365950</td>\n",
       "    </tr>\n",
       "    <tr>\n",
       "      <th>SF_soud</th>\n",
       "      <td>12447.869507</td>\n",
       "      <td>968.105392</td>\n",
       "      <td>5565.845317</td>\n",
       "      <td>872.471496</td>\n",
       "      <td>2566.941100</td>\n",
       "      <td>377.054982</td>\n",
       "      <td>20580.655924</td>\n",
       "      <td>1356.688992</td>\n",
       "      <td>6.592059</td>\n",
       "    </tr>\n",
       "    <tr>\n",
       "      <th>SDegF_meso</th>\n",
       "      <td>863.990943</td>\n",
       "      <td>272.281082</td>\n",
       "      <td>312.103476</td>\n",
       "      <td>209.431943</td>\n",
       "      <td>1858.819417</td>\n",
       "      <td>324.432480</td>\n",
       "      <td>3034.913836</td>\n",
       "      <td>472.498847</td>\n",
       "      <td>15.568773</td>\n",
       "    </tr>\n",
       "    <tr>\n",
       "      <th>SNF_meso</th>\n",
       "      <td>22239.766857</td>\n",
       "      <td>1215.236640</td>\n",
       "      <td>45098.952242</td>\n",
       "      <td>2210.845740</td>\n",
       "      <td>8519.588997</td>\n",
       "      <td>618.897793</td>\n",
       "      <td>75858.308095</td>\n",
       "      <td>2597.628429</td>\n",
       "      <td>3.424316</td>\n",
       "    </tr>\n",
       "    <tr>\n",
       "      <th>SNF_omb</th>\n",
       "      <td>21119.778598</td>\n",
       "      <td>1193.273175</td>\n",
       "      <td>89573.697533</td>\n",
       "      <td>2616.831044</td>\n",
       "      <td>4182.343689</td>\n",
       "      <td>468.835320</td>\n",
       "      <td>114875.819820</td>\n",
       "      <td>2914.019928</td>\n",
       "      <td>2.536670</td>\n",
       "    </tr>\n",
       "    <tr>\n",
       "      <th>Def_omb</th>\n",
       "      <td>255.997316</td>\n",
       "      <td>148.686928</td>\n",
       "      <td>104.034492</td>\n",
       "      <td>120.979837</td>\n",
       "      <td>1261.341748</td>\n",
       "      <td>269.710881</td>\n",
       "      <td>1621.373556</td>\n",
       "      <td>330.889533</td>\n",
       "      <td>20.407976</td>\n",
       "    </tr>\n",
       "    <tr>\n",
       "      <th>SF_subs</th>\n",
       "      <td>1343.985911</td>\n",
       "      <td>338.730870</td>\n",
       "      <td>832.275935</td>\n",
       "      <td>341.546203</td>\n",
       "      <td>730.250485</td>\n",
       "      <td>206.867583</td>\n",
       "      <td>2906.512331</td>\n",
       "      <td>523.628311</td>\n",
       "      <td>18.015692</td>\n",
       "    </tr>\n",
       "    <tr>\n",
       "      <th>SDegF_omb</th>\n",
       "      <td>1439.984904</td>\n",
       "      <td>350.440767</td>\n",
       "      <td>364.120722</td>\n",
       "      <td>226.182294</td>\n",
       "      <td>1836.690615</td>\n",
       "      <td>322.605901</td>\n",
       "      <td>3640.796241</td>\n",
       "      <td>527.296623</td>\n",
       "      <td>14.483003</td>\n",
       "    </tr>\n",
       "    <tr>\n",
       "      <th>SF_meso</th>\n",
       "      <td>2239.976518</td>\n",
       "      <td>435.211600</td>\n",
       "      <td>572.189705</td>\n",
       "      <td>283.383734</td>\n",
       "      <td>3496.350809</td>\n",
       "      <td>433.537181</td>\n",
       "      <td>6308.517033</td>\n",
       "      <td>676.513093</td>\n",
       "      <td>10.723805</td>\n",
       "    </tr>\n",
       "    <tr>\n",
       "      <th>SNF_subs</th>\n",
       "      <td>4383.954042</td>\n",
       "      <td>601.804484</td>\n",
       "      <td>10247.397453</td>\n",
       "      <td>1169.200592</td>\n",
       "      <td>885.152104</td>\n",
       "      <td>227.225894</td>\n",
       "      <td>15516.503599</td>\n",
       "      <td>1334.477526</td>\n",
       "      <td>8.600375</td>\n",
       "    </tr>\n",
       "    <tr>\n",
       "      <th>SDegF_soud</th>\n",
       "      <td>319.996645</td>\n",
       "      <td>166.181114</td>\n",
       "      <td>104.034492</td>\n",
       "      <td>120.979837</td>\n",
       "      <td>221.288026</td>\n",
       "      <td>114.739714</td>\n",
       "      <td>645.319163</td>\n",
       "      <td>235.409188</td>\n",
       "      <td>36.479497</td>\n",
       "    </tr>\n",
       "    <tr>\n",
       "      <th>Def_meso</th>\n",
       "      <td>319.996645</td>\n",
       "      <td>166.181114</td>\n",
       "      <td>104.034492</td>\n",
       "      <td>120.979837</td>\n",
       "      <td>1239.212945</td>\n",
       "      <td>267.424343</td>\n",
       "      <td>1663.244082</td>\n",
       "      <td>337.295216</td>\n",
       "      <td>20.279358</td>\n",
       "    </tr>\n",
       "    <tr>\n",
       "      <th>SF_omb</th>\n",
       "      <td>6047.936598</td>\n",
       "      <td>700.356154</td>\n",
       "      <td>9831.259485</td>\n",
       "      <td>1146.496158</td>\n",
       "      <td>4160.214887</td>\n",
       "      <td>467.765754</td>\n",
       "      <td>20039.410970</td>\n",
       "      <td>1422.588129</td>\n",
       "      <td>7.098952</td>\n",
       "    </tr>\n",
       "    <tr>\n",
       "      <th>SNF_nodata</th>\n",
       "      <td>575.993962</td>\n",
       "      <td>222.654983</td>\n",
       "      <td>1820.603608</td>\n",
       "      <td>503.873325</td>\n",
       "      <td>132.772816</td>\n",
       "      <td>88.992726</td>\n",
       "      <td>2529.370386</td>\n",
       "      <td>558.017270</td>\n",
       "      <td>22.061509</td>\n",
       "    </tr>\n",
       "    <tr>\n",
       "      <th>SDegF_subs</th>\n",
       "      <td>223.997652</td>\n",
       "      <td>139.107275</td>\n",
       "      <td>104.034492</td>\n",
       "      <td>120.979837</td>\n",
       "      <td>199.159223</td>\n",
       "      <td>108.887102</td>\n",
       "      <td>527.191367</td>\n",
       "      <td>214.110616</td>\n",
       "      <td>40.613453</td>\n",
       "    </tr>\n",
       "    <tr>\n",
       "      <th>SDegF_nodata</th>\n",
       "      <td>95.998994</td>\n",
       "      <td>91.128310</td>\n",
       "      <td>0.000000</td>\n",
       "      <td>0.000000</td>\n",
       "      <td>132.772816</td>\n",
       "      <td>88.992726</td>\n",
       "      <td>228.771809</td>\n",
       "      <td>127.373757</td>\n",
       "      <td>55.677209</td>\n",
       "    </tr>\n",
       "    <tr>\n",
       "      <th>SF_nodata</th>\n",
       "      <td>479.994968</td>\n",
       "      <td>203.358131</td>\n",
       "      <td>208.068984</td>\n",
       "      <td>171.045902</td>\n",
       "      <td>110.644013</td>\n",
       "      <td>81.265262</td>\n",
       "      <td>798.707965</td>\n",
       "      <td>277.876363</td>\n",
       "      <td>34.790734</td>\n",
       "    </tr>\n",
       "    <tr>\n",
       "      <th>Gain_omb</th>\n",
       "      <td>159.998323</td>\n",
       "      <td>117.606630</td>\n",
       "      <td>52.017246</td>\n",
       "      <td>85.557017</td>\n",
       "      <td>110.644013</td>\n",
       "      <td>81.265262</td>\n",
       "      <td>322.659582</td>\n",
       "      <td>166.599416</td>\n",
       "      <td>51.633184</td>\n",
       "    </tr>\n",
       "    <tr>\n",
       "      <th>Def_soud</th>\n",
       "      <td>1183.987588</td>\n",
       "      <td>318.199948</td>\n",
       "      <td>572.189705</td>\n",
       "      <td>283.383734</td>\n",
       "      <td>287.674434</td>\n",
       "      <td>130.695500</td>\n",
       "      <td>2043.851727</td>\n",
       "      <td>445.689198</td>\n",
       "      <td>21.806337</td>\n",
       "    </tr>\n",
       "    <tr>\n",
       "      <th>Gain_meso</th>\n",
       "      <td>127.998658</td>\n",
       "      <td>105.208239</td>\n",
       "      <td>52.017246</td>\n",
       "      <td>85.557017</td>\n",
       "      <td>22.128803</td>\n",
       "      <td>36.390098</td>\n",
       "      <td>202.144707</td>\n",
       "      <td>140.403049</td>\n",
       "      <td>69.456703</td>\n",
       "    </tr>\n",
       "    <tr>\n",
       "      <th>Def_subs</th>\n",
       "      <td>191.997987</td>\n",
       "      <td>128.809961</td>\n",
       "      <td>0.000000</td>\n",
       "      <td>0.000000</td>\n",
       "      <td>0.000000</td>\n",
       "      <td>0.000000</td>\n",
       "      <td>191.997987</td>\n",
       "      <td>128.809961</td>\n",
       "      <td>67.089225</td>\n",
       "    </tr>\n",
       "    <tr>\n",
       "      <th>Deg_subs</th>\n",
       "      <td>0.000000</td>\n",
       "      <td>0.000000</td>\n",
       "      <td>52.017246</td>\n",
       "      <td>85.557017</td>\n",
       "      <td>0.000000</td>\n",
       "      <td>0.000000</td>\n",
       "      <td>52.017246</td>\n",
       "      <td>85.557017</td>\n",
       "      <td>164.478176</td>\n",
       "    </tr>\n",
       "    <tr>\n",
       "      <th>Deg_soud</th>\n",
       "      <td>0.000000</td>\n",
       "      <td>0.000000</td>\n",
       "      <td>0.000000</td>\n",
       "      <td>0.000000</td>\n",
       "      <td>22.128803</td>\n",
       "      <td>36.390098</td>\n",
       "      <td>22.128803</td>\n",
       "      <td>36.390098</td>\n",
       "      <td>164.446755</td>\n",
       "    </tr>\n",
       "    <tr>\n",
       "      <th>Deg_omb</th>\n",
       "      <td>31.999665</td>\n",
       "      <td>52.630618</td>\n",
       "      <td>0.000000</td>\n",
       "      <td>0.000000</td>\n",
       "      <td>309.803236</td>\n",
       "      <td>135.584857</td>\n",
       "      <td>341.802901</td>\n",
       "      <td>145.441519</td>\n",
       "      <td>42.551283</td>\n",
       "    </tr>\n",
       "    <tr>\n",
       "      <th>Deg_meso</th>\n",
       "      <td>0.000000</td>\n",
       "      <td>0.000000</td>\n",
       "      <td>0.000000</td>\n",
       "      <td>0.000000</td>\n",
       "      <td>88.515210</td>\n",
       "      <td>72.709455</td>\n",
       "      <td>88.515210</td>\n",
       "      <td>72.709455</td>\n",
       "      <td>82.143459</td>\n",
       "    </tr>\n",
       "    <tr>\n",
       "      <th>Def_nodata</th>\n",
       "      <td>31.999665</td>\n",
       "      <td>52.630618</td>\n",
       "      <td>0.000000</td>\n",
       "      <td>0.000000</td>\n",
       "      <td>0.000000</td>\n",
       "      <td>0.000000</td>\n",
       "      <td>31.999665</td>\n",
       "      <td>52.630618</td>\n",
       "      <td>164.472406</td>\n",
       "    </tr>\n",
       "    <tr>\n",
       "      <th>Gain_subs</th>\n",
       "      <td>31.999665</td>\n",
       "      <td>52.630618</td>\n",
       "      <td>52.017246</td>\n",
       "      <td>85.557017</td>\n",
       "      <td>0.000000</td>\n",
       "      <td>0.000000</td>\n",
       "      <td>84.016910</td>\n",
       "      <td>100.448918</td>\n",
       "      <td>119.557977</td>\n",
       "    </tr>\n",
       "  </tbody>\n",
       "</table>\n",
       "</div>"
      ],
      "text/plain": [
       "              area_stratum_0  ci_stratum_0  area_stratum_2  ci_stratum_2  \\\n",
       "SNF_soud        19231.798390   1153.071012    30430.088883   1902.237115   \n",
       "SF_soud         12447.869507    968.105392     5565.845317    872.471496   \n",
       "SDegF_meso        863.990943    272.281082      312.103476    209.431943   \n",
       "SNF_meso        22239.766857   1215.236640    45098.952242   2210.845740   \n",
       "SNF_omb         21119.778598   1193.273175    89573.697533   2616.831044   \n",
       "Def_omb           255.997316    148.686928      104.034492    120.979837   \n",
       "SF_subs          1343.985911    338.730870      832.275935    341.546203   \n",
       "SDegF_omb        1439.984904    350.440767      364.120722    226.182294   \n",
       "SF_meso          2239.976518    435.211600      572.189705    283.383734   \n",
       "SNF_subs         4383.954042    601.804484    10247.397453   1169.200592   \n",
       "SDegF_soud        319.996645    166.181114      104.034492    120.979837   \n",
       "Def_meso          319.996645    166.181114      104.034492    120.979837   \n",
       "SF_omb           6047.936598    700.356154     9831.259485   1146.496158   \n",
       "SNF_nodata        575.993962    222.654983     1820.603608    503.873325   \n",
       "SDegF_subs        223.997652    139.107275      104.034492    120.979837   \n",
       "SDegF_nodata       95.998994     91.128310        0.000000      0.000000   \n",
       "SF_nodata         479.994968    203.358131      208.068984    171.045902   \n",
       "Gain_omb          159.998323    117.606630       52.017246     85.557017   \n",
       "Def_soud         1183.987588    318.199948      572.189705    283.383734   \n",
       "Gain_meso         127.998658    105.208239       52.017246     85.557017   \n",
       "Def_subs          191.997987    128.809961        0.000000      0.000000   \n",
       "Deg_subs            0.000000      0.000000       52.017246     85.557017   \n",
       "Deg_soud            0.000000      0.000000        0.000000      0.000000   \n",
       "Deg_omb            31.999665     52.630618        0.000000      0.000000   \n",
       "Deg_meso            0.000000      0.000000        0.000000      0.000000   \n",
       "Def_nodata         31.999665     52.630618        0.000000      0.000000   \n",
       "Gain_subs          31.999665     52.630618       52.017246     85.557017   \n",
       "\n",
       "              area_stratum_1  ci_stratum_1     area_total          MOE  \\\n",
       "SNF_soud         1814.561812    320.766248   51476.449085  2247.436270   \n",
       "SF_soud          2566.941100    377.054982   20580.655924  1356.688992   \n",
       "SDegF_meso       1858.819417    324.432480    3034.913836   472.498847   \n",
       "SNF_meso         8519.588997    618.897793   75858.308095  2597.628429   \n",
       "SNF_omb          4182.343689    468.835320  114875.819820  2914.019928   \n",
       "Def_omb          1261.341748    269.710881    1621.373556   330.889533   \n",
       "SF_subs           730.250485    206.867583    2906.512331   523.628311   \n",
       "SDegF_omb        1836.690615    322.605901    3640.796241   527.296623   \n",
       "SF_meso          3496.350809    433.537181    6308.517033   676.513093   \n",
       "SNF_subs          885.152104    227.225894   15516.503599  1334.477526   \n",
       "SDegF_soud        221.288026    114.739714     645.319163   235.409188   \n",
       "Def_meso         1239.212945    267.424343    1663.244082   337.295216   \n",
       "SF_omb           4160.214887    467.765754   20039.410970  1422.588129   \n",
       "SNF_nodata        132.772816     88.992726    2529.370386   558.017270   \n",
       "SDegF_subs        199.159223    108.887102     527.191367   214.110616   \n",
       "SDegF_nodata      132.772816     88.992726     228.771809   127.373757   \n",
       "SF_nodata         110.644013     81.265262     798.707965   277.876363   \n",
       "Gain_omb          110.644013     81.265262     322.659582   166.599416   \n",
       "Def_soud          287.674434    130.695500    2043.851727   445.689198   \n",
       "Gain_meso          22.128803     36.390098     202.144707   140.403049   \n",
       "Def_subs            0.000000      0.000000     191.997987   128.809961   \n",
       "Deg_subs            0.000000      0.000000      52.017246    85.557017   \n",
       "Deg_soud           22.128803     36.390098      22.128803    36.390098   \n",
       "Deg_omb           309.803236    135.584857     341.802901   145.441519   \n",
       "Deg_meso           88.515210     72.709455      88.515210    72.709455   \n",
       "Def_nodata          0.000000      0.000000      31.999665    52.630618   \n",
       "Gain_subs           0.000000      0.000000      84.016910   100.448918   \n",
       "\n",
       "                MOE_perc  \n",
       "SNF_soud        4.365950  \n",
       "SF_soud         6.592059  \n",
       "SDegF_meso     15.568773  \n",
       "SNF_meso        3.424316  \n",
       "SNF_omb         2.536670  \n",
       "Def_omb        20.407976  \n",
       "SF_subs        18.015692  \n",
       "SDegF_omb      14.483003  \n",
       "SF_meso        10.723805  \n",
       "SNF_subs        8.600375  \n",
       "SDegF_soud     36.479497  \n",
       "Def_meso       20.279358  \n",
       "SF_omb          7.098952  \n",
       "SNF_nodata     22.061509  \n",
       "SDegF_subs     40.613453  \n",
       "SDegF_nodata   55.677209  \n",
       "SF_nodata      34.790734  \n",
       "Gain_omb       51.633184  \n",
       "Def_soud       21.806337  \n",
       "Gain_meso      69.456703  \n",
       "Def_subs       67.089225  \n",
       "Deg_subs      164.478176  \n",
       "Deg_soud      164.446755  \n",
       "Deg_omb        42.551283  \n",
       "Deg_meso       82.143459  \n",
       "Def_nodata    164.472406  \n",
       "Gain_subs     119.557977  "
      ]
     },
     "execution_count": 62,
     "metadata": {},
     "output_type": "execute_result"
    }
   ],
   "source": [
    "#scenario DA3: NERF = ERP + NERP par phyto \n",
    "calculate_areas(db_total=df320k_full, strata_column='kmeans_multi', categories_column='redd_phyto', total_area=len(df320k_full), z_score=1.645)"
   ]
  },
  {
   "cell_type": "markdown",
   "id": "9bc763f4-7b35-4076-bf8b-161ee2b9f7a7",
   "metadata": {},
   "source": [
    "### 7.  Résultats ]2020-2022]"
   ]
  },
  {
   "cell_type": "code",
   "execution_count": null,
   "id": "b5221013-8e62-4553-962e-02d2d6a226fe",
   "metadata": {
    "tags": []
   },
   "outputs": [],
   "source": [
    "pts835_22 = pd.read_csv('/home/sepal-user/eSBAE_CIV/data/835_final_v3_2022.csv', delimiter=';')\n",
    "pts835_22.rename(columns={'oce_n1_2022':'ocs_n1_2022'}, inplace=True)\n",
    "pts835_22.columns.to_list()"
   ]
  },
  {
   "cell_type": "code",
   "execution_count": null,
   "id": "f955e085-ccde-4b4a-8c11-4021138c8c6a",
   "metadata": {
    "tags": []
   },
   "outputs": [],
   "source": [
    "pts3k_22 = pd.read_csv('/home/sepal-user/eSBAE_CIV/data/3K_final_v3_2022.csv', delimiter=';')\n",
    "pts3k_22.columns.to_list()"
   ]
  },
  {
   "cell_type": "code",
   "execution_count": null,
   "id": "dbb551c9-b826-44fe-b303-94b15d0159d2",
   "metadata": {},
   "outputs": [],
   "source": [
    "##### identifier les colonnes essentielles de CEO\n",
    "harm_cols22 = ['point_id', 'ocs_n1_2020', 'ocs_n2_2020', 'ocs_n1_2022', 'ocs_n2_2022','source']"
   ]
  },
  {
   "cell_type": "code",
   "execution_count": null,
   "id": "f7fd4753-9a09-4c04-a308-561ee609e134",
   "metadata": {
    "tags": []
   },
   "outputs": [],
   "source": [
    "### Concatener les deux tables\n",
    "dfconcatCEO22 = pd.concat([pts835_22[harm_cols22],pts3k_22[harm_cols22]], axis=0, ignore_index=True)\n",
    "len(dfconcatCEO22) # = 4302                    \n"
   ]
  },
  {
   "cell_type": "code",
   "execution_count": null,
   "id": "236f44e4-ecf2-431f-b992-6326b3c5d193",
   "metadata": {
    "tags": []
   },
   "outputs": [],
   "source": [
    "duplicado22 = dfconcatCEO22['point_id'].duplicated().any() \n",
    "if duplicado22:\n",
    "    print (\"problem\")\n",
    "else:\n",
    "    print (\"all good\")"
   ]
  },
  {
   "cell_type": "code",
   "execution_count": null,
   "id": "aa9a689a-f73e-43e9-ba3c-77eef6bd1fd9",
   "metadata": {
    "tags": []
   },
   "outputs": [],
   "source": [
    "doublonsCEO22 = dfconcatCEO22[dfconcatCEO22.duplicated(subset='point_id', keep=False)]\n",
    "print(doublonsCEO22)"
   ]
  },
  {
   "cell_type": "code",
   "execution_count": null,
   "id": "36995bab-f9f0-4983-a898-2497cd5c6583",
   "metadata": {
    "tags": []
   },
   "outputs": [],
   "source": [
    "dfconcatCEO22['doublon'] = 'no'\n",
    "dfconcatCEO22['doublon'] = np.where((dfconcatCEO22['point_id'] == 155643) & (dfconcatCEO22['source'] == 'CEO3467'), 'yes', dfconcatCEO22['doublon'])\n",
    "dfconcatCEO22['doublon'] = np.where((dfconcatCEO22['point_id'] == 72898) & (dfconcatCEO22['source'] == 'CEO3467'), 'yes', dfconcatCEO22['doublon'])\n",
    "dfconcatCEO22['doublon'] = np.where((dfconcatCEO22['point_id'] == 200349) & (dfconcatCEO22['source'] == 'CEO3467'), 'yes', dfconcatCEO22['doublon'])\n",
    "dfconcatCEO22['doublon'] = np.where((dfconcatCEO22['point_id'] == 275438) & (dfconcatCEO22['source'] == 'CEO3467'), 'yes', dfconcatCEO22['doublon'])\n",
    "dfconcatCEO22['doublon'] = np.where((dfconcatCEO22['point_id'] == 289002) & (dfconcatCEO22['source'] == 'CEO3467'), 'yes', dfconcatCEO22['doublon'])\n",
    "\n",
    "count_values_doublon22 = dfconcatCEO22['doublon'].value_counts()\n",
    "print(count_values_doublon22)"
   ]
  },
  {
   "cell_type": "code",
   "execution_count": null,
   "id": "d544222f-9806-4d6f-b67d-e98bcb0f8ab7",
   "metadata": {
    "tags": []
   },
   "outputs": [],
   "source": [
    "dfconcatCEO22_clean = dfconcatCEO22[dfconcatCEO22['doublon'] == 'no']\n",
    "len(dfconcatCEO22_clean)\n"
   ]
  },
  {
   "cell_type": "code",
   "execution_count": null,
   "id": "5a282b61-ef96-4b84-aa1c-89a651d813bd",
   "metadata": {
    "tags": []
   },
   "outputs": [],
   "source": [
    "#dfconcatCEO22_clean.to_csv('/home/sepal-user/eSBAE_CIV/data/dfconcatCEO22_clean.csv',index=False)"
   ]
  },
  {
   "cell_type": "code",
   "execution_count": null,
   "id": "b8309f87-ecb7-46fd-a96f-ce81cb5389d2",
   "metadata": {
    "tags": []
   },
   "outputs": [],
   "source": [
    "#### transition matrix level 1\n",
    "tmatrix2022 = pd.pivot_table(dfconcatCEO22_clean,values='source',index=['ocs_n1_2020'],columns=['ocs_n1_2022'],aggfunc=\"count\")\n",
    "tmatrix2022"
   ]
  },
  {
   "cell_type": "code",
   "execution_count": null,
   "id": "67c7ed5d-8198-4ed5-8b31-bf0e687d7b86",
   "metadata": {
    "tags": []
   },
   "outputs": [],
   "source": [
    "#### transition matrix level 1\n",
    "tmatrix2022n2 = pd.pivot_table(dfconcatCEO22_clean,values='source',index=['ocs_n2_2020'],columns=['ocs_n2_2022'],aggfunc=\"count\")\n",
    "tmatrix2022n2\n"
   ]
  },
  {
   "cell_type": "code",
   "execution_count": null,
   "id": "ea15ce66-879b-4f38-8e3b-ae4a48fcb8f8",
   "metadata": {
    "tags": []
   },
   "outputs": [],
   "source": [
    "##create our classes/redd activities/target column that contains the classes for which you want to get the area estimations ('column of interest')\n",
    "##Create category column == target column == column of interest\n",
    "\n",
    "dfconcatCEO22_clean['redd_22'] = 'problem'\n",
    "\n",
    "#IPCC categories level\n",
    "dfconcatCEO22_clean['redd_22'] = np.where((dfconcatCEO22_clean['ocs_n1_2020'] == 'Terres forestieres') & (dfconcatCEO22_clean['ocs_n1_2022'] != 'Terres forestieres'), 'Def', dfconcatCEO22_clean['redd_22'])\n",
    "dfconcatCEO22_clean['redd_22'] = np.where((dfconcatCEO22_clean['ocs_n1_2020'] != 'Terres forestieres') & (dfconcatCEO22_clean['ocs_n1_2022'] == 'Terres forestieres'), 'Gain', dfconcatCEO22_clean['redd_22'])\n",
    "dfconcatCEO22_clean['redd_22'] = np.where((dfconcatCEO22_clean['ocs_n1_2020'] == 'Terres forestieres') & (dfconcatCEO22_clean['ocs_n1_2022'] == 'Terres forestieres'), 'SF', dfconcatCEO22_clean['redd_22'])\n",
    "dfconcatCEO22_clean['redd_22'] = np.where((dfconcatCEO22_clean['ocs_n1_2020'] != 'Terres forestieres') & (dfconcatCEO22_clean['ocs_n1_2022'] != 'Terres forestieres'), 'SNF', dfconcatCEO22_clean['redd_22'])\n",
    "\n",
    "#new degradation from level 2 (national classes - NERP)\n",
    "dfconcatCEO22_clean['redd_22'] = np.where((dfconcatCEO22_clean['ocs_n1_2020'] == 'Terres forestieres') & (dfconcatCEO22_clean['ocs_n2_2022'] == 'Foret secondaire ou degradee'), 'Deg', dfconcatCEO22_clean['redd_22'])\n",
    "#new degradation from level 2 (national classes - ERP)\n",
    "dfconcatCEO22_clean['redd_22'] = np.where((dfconcatCEO22_clean['ocs_n1_2020'] == 'Terres forestieres') & (dfconcatCEO22_clean['ocs_n2_2022'] == 'Foret secondaire'), 'Deg', dfconcatCEO22_clean['redd_22'])\n",
    "\n",
    "#superficie stable de forêt dégradée (hypothèse dans les calculs sera que pertes et gains sont en équilibre, donc émissions nettes = 0)\n",
    "dfconcatCEO22_clean['redd_22'] = np.where((dfconcatCEO22_clean['ocs_n2_2020'] == 'Foret secondaire') & (dfconcatCEO22_clean['ocs_n2_2022'] == 'Foret secondaire'), 'SDegF', dfconcatCEO22_clean['redd_22'])\n",
    "dfconcatCEO22_clean['redd_22'] = np.where((dfconcatCEO22_clean['ocs_n2_2020'] == 'Foret secondaire ou degradee') & (dfconcatCEO22_clean['ocs_n2_2022'] == 'Foret secondaire ou degradee'), 'SDegF', dfconcatCEO22_clean['redd_22'])\n",
    "\n",
    "count_values_dfconcatCEO22 = dfconcatCEO22_clean['redd_22'].value_counts()\n",
    "print(count_values_dfconcatCEO22)"
   ]
  },
  {
   "cell_type": "code",
   "execution_count": null,
   "id": "a7f656c9-b7e2-4028-af23-f0e6e31821ba",
   "metadata": {
    "tags": []
   },
   "outputs": [],
   "source": [
    "df320k_full_NERP22 = df320k_full[['point_id', 'kmeans_multi', 'LON', 'LAT', 'ERPOBJECTI', 'phytoiffnz', 'phytoZone']].merge(dfconcatCEO22_clean[['point_id', 'redd_22']], how='left', on='point_id')\n",
    "len(df320k_full_NERP22)"
   ]
  },
  {
   "cell_type": "code",
   "execution_count": null,
   "id": "25897cf2-d84e-4c7e-9e19-c395058b400f",
   "metadata": {
    "tags": []
   },
   "outputs": [],
   "source": [
    "#resultats 2022: NERP\n",
    "calculate_areas(db_total=df320k_full_NERP22, strata_column='kmeans_multi', categories_column='redd_22', total_area=len(df320k_full_NERP22), z_score=1.645)"
   ]
  }
 ],
 "metadata": {
  "kernelspec": {
   "display_name": " (venv) Sample Based Area Estimation",
   "language": "python",
   "name": "venv-esbae_notebooks"
  },
  "language_info": {
   "codemirror_mode": {
    "name": "ipython",
    "version": 3
   },
   "file_extension": ".py",
   "mimetype": "text/x-python",
   "name": "python",
   "nbconvert_exporter": "python",
   "pygments_lexer": "ipython3",
   "version": "3.8.10"
  }
 },
 "nbformat": 4,
 "nbformat_minor": 5
}
