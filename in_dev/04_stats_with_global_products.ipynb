{
 "cells": [
  {
   "cell_type": "code",
   "execution_count": 1,
   "id": "1d265c12-5205-4ad6-8e08-950ebd81f794",
   "metadata": {},
   "outputs": [],
   "source": [
    "import numpy as np\n",
    "import pandas as pd\n",
    "from sklearn.ensemble import RandomForestClassifier"
   ]
  },
  {
   "cell_type": "markdown",
   "id": "74d55e65-630d-4996-8d81-a0ced31999d0",
   "metadata": {},
   "source": [
    "# 1 Read file(s)"
   ]
  },
  {
   "cell_type": "code",
   "execution_count": null,
   "id": "388d4baa-2a7f-4f82-8818-91f785fbc1c4",
   "metadata": {},
   "outputs": [],
   "source": [
    "ts_df = pd.read_pickle('')\n",
    "glbPrdDf = pd.read_pickle('')\n",
    "\n",
    "df = pd.concat([ts_df, glbPrd], on='points_id', how='inner').dropna()\n",
    "df.columns"
   ]
  },
  {
   "cell_type": "markdown",
   "id": "27884f95-9f84-42b2-a806-5cac1950e74f",
   "metadata": {},
   "source": [
    "# 2 Define predictive values & balance classes\n",
    "\n",
    "Random Forest should be given a balanced set of classes"
   ]
  },
  {
   "cell_type": "code",
   "execution_count": null,
   "id": "6b14a707-d9cb-463b-b25e-37c4eb55eea3",
   "metadata": {},
   "outputs": [],
   "source": [
    "predictive_cols = [\n",
    "    'mon_images',\n",
    "    #'bfast_magnitude', 'bfast_means', \n",
    "    'cusum_confidence', 'cusum_magnitude', \n",
    "    'ts_mean', 'ts_sd', 'ts_min', 'ts_max', \n",
    "    'bs_slope_mean', 'bs_slope_sd', 'bs_slope_min', 'bs_slope_max'\n",
    "]\n",
    "\n",
    "target_column = ['gfc_loss']\n",
    "\n",
    "\n",
    "# balance train samples\n",
    "nr_of_samples_per_target = 100\n",
    "subset_df = pd.DataFrame(columns=df.columns)\n",
    "for value in df[target_column].unique():\n",
    "    subset_df = pd.concat([\n",
    "        subset_df,\n",
    "        df[df['target_column'] == value].sample(nr_of_samples_per_cluster)\n",
    "    ]) "
   ]
  },
  {
   "cell_type": "markdown",
   "id": "2b5495ed-49bd-4175-8a20-a1ff2611867c",
   "metadata": {},
   "source": [
    "# 3 Run the classification"
   ]
  },
  {
   "cell_type": "code",
   "execution_count": null,
   "id": "17aa781b-0a4c-4862-bae7-87d2746c7faa",
   "metadata": {},
   "outputs": [],
   "source": [
    "clf = RandomForestClassifier(max_depth=2, random_state=0)\n",
    "clf.fit(subset_df[predictive_cols], subset_df[target_column])\n",
    "\n",
    "df['class'] = clf.predict(df[predictive_cols])\n",
    "df['class_prob'] = clf.predict_prob(df[predictive_cols])\n",
    "df['class_log_prob'] = clf.predict_log_proba(df[predictive_cols])"
   ]
  }
 ],
 "metadata": {
  "kernelspec": {
   "display_name": "Python 3",
   "language": "python",
   "name": "python3"
  },
  "language_info": {
   "codemirror_mode": {
    "name": "ipython",
    "version": 3
   },
   "file_extension": ".py",
   "mimetype": "text/x-python",
   "name": "python",
   "nbconvert_exporter": "python",
   "pygments_lexer": "ipython3",
   "version": "3.8.10"
  }
 },
 "nbformat": 4,
 "nbformat_minor": 5
}
