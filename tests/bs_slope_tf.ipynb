{
 "cells": [
  {
   "cell_type": "code",
   "execution_count": null,
   "id": "0d6881e5-e633-459d-a035-9fca56b77813",
   "metadata": {},
   "outputs": [],
   "source": [
    "import tensorflow as tf\n",
    "import numpy as np\n",
    "import pandas as pd"
   ]
  },
  {
   "cell_type": "code",
   "execution_count": null,
   "id": "73876504-f071-435c-9ea0-40ca6b7cd534",
   "metadata": {},
   "outputs": [],
   "source": [
    "df = pd.read_pickle('/home/vollrath/Ethiopia/ts_analysis_oldSus/sbae_point_analysis/results_ref/results_Landsat_ndfi_2010-01-01_2013-01-01_2018-01-01_0.25.pickle')\n",
    "\n",
    "dates = df.head(1).dates.values[0]\n",
    "dates_float = tf.constant([(date.year + np.round(date.dayofyear/365, 3)) for date in dates])\n",
    "ts = tf.constant(df.head(1).ts.values[0])\n",
    "nr_bootstraps = 500\n",
    "\n",
    "def slope_tf(x, y):\n",
    "    A = tf.stack([tf.cast(x, tf.float32), tf.ones(len(x))], axis=1)\n",
    "    y = y[:, tf.newaxis]\n",
    "    m = tf.linalg.lstsq(A, y)\n",
    "    return m[0]"
   ]
  },
  {
   "cell_type": "code",
   "execution_count": null,
   "id": "00dd68ac-3ed3-4350-ab4f-a75a90e568af",
   "metadata": {},
   "outputs": [],
   "source": [
    "%%timeit\n",
    "boot_means = []\n",
    "for _ in range(nr_bootstraps):\n",
    "\n",
    "    # the fraction of sample we want to include (randon)\n",
    "    #size = np.abs(np.random.normal(0.5, 0.1))\n",
    "    size = int(len(ts) * .66)\n",
    "\n",
    "    # select the random samples\n",
    "    rand_idx = tf.sort(tf.random.shuffle(tf.constant(tf.range(1, len(ts))))[0:size])\n",
    "    x = tf.gather(dates_float, indices=rand_idx)\n",
    "    y = tf.gather(ts, indices=rand_idx)\n",
    "    \n",
    "    # calculate the slope on the randomly selected samples\n",
    "    s = slope(x, y)\n",
    "    \n",
    "    # add to list of bootstrap samples\n",
    "    boot_means.append(s)\n",
    "\n",
    "# calculate stats adn return\n",
    "boot_means_np = np.array(boot_means)\n",
    "print(np.mean(boot_means_np), np.std(boot_means_np), np.max(boot_means_np), np.min(boot_means_np))"
   ]
  },
  {
   "cell_type": "code",
   "execution_count": null,
   "id": "52a3ce44-6461-4af6-a983-ad5ba08cb7a2",
   "metadata": {},
   "outputs": [],
   "source": [
    "df = pd.read_pickle('/home/vollrath/Ethiopia/ts_analysis_oldSus/sbae_point_analysis/results_ref/results_Landsat_ndfi_2010-01-01_2013-01-01_2018-01-01_0.25.pickle')\n",
    "dates = df.head(1).dates.values[0]\n",
    "dates_float = [(date.year + np.round(date.dayofyear/365, 3)) for date in dates]\n",
    "ts = df.head(1).ts.values[0]\n",
    "y = np.array(ts)\n",
    "x = np.array(dates_float)\n",
    "nr_bootstraps = 500\n",
    "def slope(x, y):\n",
    "    A = np.vstack([x, np.ones(len(x))]).T\n",
    "    \n",
    "    m, c = np.linalg.lstsq(A, y, rcond=None)[0]\n",
    "    return m"
   ]
  },
  {
   "cell_type": "code",
   "execution_count": null,
   "id": "5ec0bc84-a817-4d75-89a1-8fc7a0feb7a2",
   "metadata": {},
   "outputs": [],
   "source": [
    "%%timeit\n",
    "boot_means = []\n",
    "for _ in range(nr_bootstraps):\n",
    "\n",
    "\n",
    "    # the fraction of sample we want to include (randon)\n",
    "    #size = np.abs(np.random.normal(0.5, 0.1))\n",
    "    size = 0.66\n",
    "\n",
    "    # select the random samples\n",
    "    rand_idx = sorted(np.random.choice(np.arange(y.size), int(y.size * size), replace=False))\n",
    "\n",
    "    # calculate the slope on the randomly selected samples\n",
    "    s = slope_tf(x[rand_idx], y[rand_idx])\n",
    "\n",
    "    # add to list of bootstrap samples\n",
    "    boot_means.append(s)\n",
    "\n",
    "# calculate stats adn return\n",
    "boot_means_np = np.array(boot_means)\n",
    "print(np.mean(boot_means_np), np.std(boot_means_np), np.max(boot_means_np), np.min(boot_means_np))"
   ]
  },
  {
   "cell_type": "code",
   "execution_count": null,
   "id": "71566d6a-26c3-437a-b783-0ebdb6b9cef3",
   "metadata": {},
   "outputs": [],
   "source": []
  }
 ],
 "metadata": {
  "kernelspec": {
   "display_name": "Python 3",
   "language": "python",
   "name": "python3"
  },
  "language_info": {
   "codemirror_mode": {
    "name": "ipython",
    "version": 3
   },
   "file_extension": ".py",
   "mimetype": "text/x-python",
   "name": "python",
   "nbconvert_exporter": "python",
   "pygments_lexer": "ipython3",
   "version": "3.8.10"
  }
 },
 "nbformat": 4,
 "nbformat_minor": 5
}
