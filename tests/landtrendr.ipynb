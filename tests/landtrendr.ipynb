{
 "cells": [
  {
   "cell_type": "code",
   "execution_count": 1,
   "id": "8ca4c5de-caa1-41a2-b064-e2cf02bfde1e",
   "metadata": {},
   "outputs": [],
   "source": [
    "import ee \n",
    "ee.Initialize()\n",
    "import pandas as pd\n",
    "import numpy as np\n"
   ]
  },
  {
   "cell_type": "code",
   "execution_count": 112,
   "id": "233ffb39-1338-41b2-8d62-16c8b60bf41c",
   "metadata": {},
   "outputs": [],
   "source": [
    "fake_geometry = ee.Geometry.Polygon([\n",
    "    [[\n",
    "        14.642002058678267,\n",
    "        -1.5396013709395364\n",
    "      ],\n",
    "      [\n",
    "        21.497470808678266,\n",
    "        -1.5396013709395364\n",
    "      ],\n",
    "      [\n",
    "        21.497470808678266,\n",
    "        2.326761024980699\n",
    "      ],\n",
    "      [\n",
    "        14.642002058678267,\n",
    "        2.326761024980699\n",
    "      ],\n",
    "      [\n",
    "        14.642002058678267,\n",
    "        -1.5396013709395364\n",
    "      ]\n",
    "    ]\n",
    "  ])\n",
    "def zip2Image(element):\n",
    "  \n",
    "    value = ee.List(element).get(0)\n",
    "    year = ee.List(element).get(1)\n",
    "    \n",
    "    return (ee.Image.constant(ee.Number.parse(value))\n",
    "      .rename('ndvi')\n",
    "      .clip(fake_geometry)\n",
    "      .set('system:time_start', ee.Date.fromYMD(year, 1, 1).millis())\n",
    "      .toFloat()\n",
    "           )\n",
    "\n",
    "def extract_landtrendr(args_list):\n",
    "    \n",
    "    years_list, ts_list, point_id = args_list\n",
    "    ts = ee.List([str(value) for value in ts_list])\n",
    "    dates = ee.List([int(year) for year in years_list])\n",
    "\n",
    "    ts = ts.zip(dates)\n",
    "    startYear = np.min(years_list)\n",
    "    endYear = np.max(years_list)\n",
    "\n",
    "    tsee = ee.ImageCollection(\n",
    "      ts.map(zip2Image)\n",
    "    )\n",
    "\n",
    "    runParams = { \n",
    "        'maxSegments':            6,\n",
    "        'spikeThreshold':         0.9,\n",
    "        'vertexCountOvershoot':   3,\n",
    "        'preventOneYearRecovery': True,\n",
    "        'recoveryThreshold':      0.25,\n",
    "        'pvalThreshold':          0.05,\n",
    "        'bestModelProportion':    0.75,\n",
    "        'minObservationsNeeded':  3,\n",
    "        'timeSeries':            tsee\n",
    "    }\n",
    "\n",
    "    lt = ee.Algorithms.TemporalSegmentation.LandTrendr(**runParams).select([\"LandTrendr\"])\n",
    "\n",
    "    vertexMask = lt.arraySlice(0, 3, 4); # slice out the 'Is Vertex' row - yes(1)/no(0)\n",
    "    vertices = lt.arrayMask(vertexMask); # use the 'Is Vertex' row as a mask for all rows\n",
    "\n",
    "    left = vertices.arraySlice(1, 0, -1);    # slice out the vertices as the start of segments\n",
    "    right = vertices.arraySlice(1, 1, None); # slice out the vertices as the end of segments\n",
    "    startYear = left.arraySlice(0, 0, 1);    # get year dimension of LT data from the segment start vertices\n",
    "    startVal = left.arraySlice(0, 2, 3);     # get spectral index dimension of LT data from the segment start vertices\n",
    "    endYear = right.arraySlice(0, 0, 1);     # get year dimension of LT data from the segment end vertices \n",
    "    endVal = right.arraySlice(0, 2, 3);      # get spectral index dimension of LT data from the segment end vertices\n",
    "\n",
    "    dur = endYear.subtract(startYear);       # subtract the segment start year from the segment end year to calculate the duration of segments \n",
    "    mag = endVal.subtract(startVal);         # substract the segment start index value from the segment end index value to calculate the delta of segments\n",
    "    rate = mag.divide(dur);                  # calculate the rate of spectral change\n",
    "\n",
    "    segInfo = (\n",
    "        ee.Image.cat([startYear.add(1), endYear, startVal, endVal, mag, dur, rate])\n",
    "            .toArray(0)\n",
    "            .mask(vertexMask.mask())\n",
    "    )\n",
    "\n",
    "    distDir = -1;\n",
    "\n",
    "    sortByThis = segInfo.arraySlice(0,4,5).toArray(0).multiply(-1); # need to flip the delta here, since arraySort is working by ascending order\n",
    "    segInfoSorted = segInfo.arraySort(sortByThis); # sort the array by magnitude\n",
    "    bigDelta = segInfoSorted.arraySlice(1, 0, 1); # get the first segment in the sorted array (greatest magnitude vegetation loss segment)\n",
    "\n",
    "    bigDeltaImg = ee.Image.cat(bigDelta.arraySlice(0,0,1).arrayProject([1]).arrayFlatten([['yod']]),\n",
    "    bigDelta.arraySlice(0,1,2).arrayProject([1]).arrayFlatten([['endYr']]),\n",
    "    bigDelta.arraySlice(0,2,3).arrayProject([1]).arrayFlatten([['startVal']]).multiply(distDir),\n",
    "    bigDelta.arraySlice(0,3,4).arrayProject([1]).arrayFlatten([['endVal']]).multiply(distDir),\n",
    "    bigDelta.arraySlice(0,4,5).arrayProject([1]).arrayFlatten([['mag']]).multiply(distDir),\n",
    "    bigDelta.arraySlice(0,5,6).arrayProject([1]).arrayFlatten([['dur']]),\n",
    "    bigDelta.arraySlice(0,6,7).arrayProject([1]).arrayFlatten([['rate']]).multiply(distDir));\n",
    "\n",
    "    distMask =  bigDeltaImg.select(['mag']).lt(1000).And(bigDeltaImg.select(['dur']).lt(5));\n",
    "\n",
    "    bigFastDist = bigDeltaImg  #.mask(distMask).int16(); // need to set as int16 bit to use connectedPixelCount for minimum mapping unit filter\n",
    "\n",
    "    landtrendr = bigFastDist.select(['mag', 'dur', 'yod', 'rate', 'endYr']).clip(fake_geometry).reduceRegion(**{\n",
    "      'reducer': ee.Reducer.first(),\n",
    "      'scale': 3000\n",
    "    }).getInfo()\n",
    "\n",
    "    return landtrendr['mag'], landtrendr['dur'], landtrendr['yod'], landtrendr['rate'],  landtrendr['endYr'], point_id"
   ]
  },
  {
   "cell_type": "code",
   "execution_count": 113,
   "id": "84df364f-003a-4b1b-a190-2e67fd923ab7",
   "metadata": {},
   "outputs": [],
   "source": [
    "df = pd.read_pickle('/home/vollrath/Ethiopia/ts_analysis_oldSus/sbae_point_analysis/results_ref/results_Landsat_ndfi_2010-01-01_2013-01-01_2018-01-01_0.25.pickle')"
   ]
  },
  {
   "cell_type": "code",
   "execution_count": 114,
   "id": "f88b05d6-75ef-420c-9ac9-52c5b7a9d4c3",
   "metadata": {},
   "outputs": [
    {
     "data": {
      "text/plain": [
       "(105, 105)"
      ]
     },
     "execution_count": 114,
     "metadata": {},
     "output_type": "execute_result"
    }
   ],
   "source": [
    "dates = df.head(1).dates.values[0]\n",
    "ts = np.array(df.head(1).ts.values[0])\n",
    "len(dates), len(ts)"
   ]
  },
  {
   "cell_type": "code",
   "execution_count": 115,
   "id": "57387ae2-c788-4af8-a6be-8d1bddaad856",
   "metadata": {},
   "outputs": [],
   "source": [
    "args_list = []\n",
    "for i, row in df.iterrows():\n",
    "\n",
    "    years = np.unique([date.year for date in row.dates])\n",
    "    ts_yearly = []\n",
    "\n",
    "    for year in years:\n",
    "        \n",
    "        idx = np.array([True if date.year == year else False for date in row.dates])\n",
    "        ts_yearly.append(np.nanmean(np.array(row.ts)[idx]))\n",
    "        \n",
    "    args_list.append([years, ts_yearly, row.point_id])\n",
    "    if i > 3:\n",
    "        break\n",
    "#extract_landtrendr(years, ts_yearly)"
   ]
  },
  {
   "cell_type": "code",
   "execution_count": 116,
   "id": "b2c7b314-9fda-43a9-b2b9-67390915675b",
   "metadata": {},
   "outputs": [],
   "source": [
    "from godale import Executor"
   ]
  },
  {
   "cell_type": "code",
   "execution_count": 117,
   "id": "0758cd9b-a8b4-4c31-a007-fed721c2423c",
   "metadata": {},
   "outputs": [],
   "source": [
    "\n",
    "d ={}\n",
    "executor = Executor(executor=\"concurrent_threads\", max_workers=16)\n",
    "for i, task in enumerate(executor.as_completed(\n",
    "    func=extract_landtrendr,\n",
    "    iterable=args_list\n",
    ")):\n",
    "    try:\n",
    "        d[i] = list(task.result())\n",
    "    except ValueError:\n",
    "        print(\"timescan task failed\")\n",
    "\n",
    "landtrendr_df = pd.DataFrame.from_dict(d, orient='index')\n",
    "landtrendr_df.columns = ['ltr_magnitude', 'ltr_dur', 'ltr_yod', 'ltr_rate', 'ltr_end_year', 'point_id']"
   ]
  },
  {
   "cell_type": "code",
   "execution_count": 118,
   "id": "7a5af140-624b-4a52-b061-a4f53bc8ac78",
   "metadata": {},
   "outputs": [
    {
     "data": {
      "text/html": [
       "<div>\n",
       "<style scoped>\n",
       "    .dataframe tbody tr th:only-of-type {\n",
       "        vertical-align: middle;\n",
       "    }\n",
       "\n",
       "    .dataframe tbody tr th {\n",
       "        vertical-align: top;\n",
       "    }\n",
       "\n",
       "    .dataframe thead th {\n",
       "        text-align: right;\n",
       "    }\n",
       "</style>\n",
       "<table border=\"1\" class=\"dataframe\">\n",
       "  <thead>\n",
       "    <tr style=\"text-align: right;\">\n",
       "      <th></th>\n",
       "      <th>ltr_magnitude</th>\n",
       "      <th>ltr_dur</th>\n",
       "      <th>ltr_yod</th>\n",
       "      <th>ltr_rate</th>\n",
       "      <th>ltr_end_year</th>\n",
       "      <th>point_id</th>\n",
       "    </tr>\n",
       "  </thead>\n",
       "  <tbody>\n",
       "    <tr>\n",
       "      <th>0</th>\n",
       "      <td>-151.452474</td>\n",
       "      <td>7</td>\n",
       "      <td>2010</td>\n",
       "      <td>-21.636068</td>\n",
       "      <td>2016</td>\n",
       "      <td>32932</td>\n",
       "    </tr>\n",
       "    <tr>\n",
       "      <th>1</th>\n",
       "      <td>0.000000</td>\n",
       "      <td>7</td>\n",
       "      <td>2010</td>\n",
       "      <td>0.000000</td>\n",
       "      <td>2016</td>\n",
       "      <td>32941</td>\n",
       "    </tr>\n",
       "    <tr>\n",
       "      <th>2</th>\n",
       "      <td>-264.949148</td>\n",
       "      <td>7</td>\n",
       "      <td>2010</td>\n",
       "      <td>-37.849878</td>\n",
       "      <td>2016</td>\n",
       "      <td>32933</td>\n",
       "    </tr>\n",
       "    <tr>\n",
       "      <th>3</th>\n",
       "      <td>-165.923646</td>\n",
       "      <td>7</td>\n",
       "      <td>2010</td>\n",
       "      <td>-23.703378</td>\n",
       "      <td>2016</td>\n",
       "      <td>32931</td>\n",
       "    </tr>\n",
       "    <tr>\n",
       "      <th>4</th>\n",
       "      <td>-174.507507</td>\n",
       "      <td>2</td>\n",
       "      <td>2010</td>\n",
       "      <td>-87.253753</td>\n",
       "      <td>2011</td>\n",
       "      <td>32942</td>\n",
       "    </tr>\n",
       "  </tbody>\n",
       "</table>\n",
       "</div>"
      ],
      "text/plain": [
       "   ltr_magnitude  ltr_dur  ltr_yod   ltr_rate  ltr_end_year  point_id\n",
       "0    -151.452474        7     2010 -21.636068          2016     32932\n",
       "1       0.000000        7     2010   0.000000          2016     32941\n",
       "2    -264.949148        7     2010 -37.849878          2016     32933\n",
       "3    -165.923646        7     2010 -23.703378          2016     32931\n",
       "4    -174.507507        2     2010 -87.253753          2011     32942"
      ]
     },
     "execution_count": 118,
     "metadata": {},
     "output_type": "execute_result"
    }
   ],
   "source": [
    "landtrendr_df"
   ]
  },
  {
   "cell_type": "code",
   "execution_count": 1,
   "id": "69e353e3-996e-4156-82c3-f031b6ed647c",
   "metadata": {},
   "outputs": [],
   "source": [
    "d = {'key': 2}"
   ]
  },
  {
   "cell_type": "code",
   "execution_count": 2,
   "id": "67d03084-39ce-4a28-814f-813b7948cb0d",
   "metadata": {},
   "outputs": [],
   "source": [
    "d.update(timeSeries=23)"
   ]
  },
  {
   "cell_type": "code",
   "execution_count": 4,
   "id": "e141b935-a71e-465a-9dd5-9995ff1f86a6",
   "metadata": {},
   "outputs": [
    {
     "data": {
      "text/plain": [
       "23"
      ]
     },
     "execution_count": 4,
     "metadata": {},
     "output_type": "execute_result"
    }
   ],
   "source": [
    "d.pop('timeSeries', None)"
   ]
  },
  {
   "cell_type": "code",
   "execution_count": 125,
   "id": "4397b23c-c016-4e78-bce1-a90ed002cf1d",
   "metadata": {},
   "outputs": [],
   "source": [
    "del d['timeSeries']"
   ]
  },
  {
   "cell_type": "code",
   "execution_count": 5,
   "id": "5205208b-f323-4bad-ba75-57813d6f00f1",
   "metadata": {},
   "outputs": [
    {
     "data": {
      "text/plain": [
       "{'key': 2}"
      ]
     },
     "execution_count": 5,
     "metadata": {},
     "output_type": "execute_result"
    }
   ],
   "source": [
    "d"
   ]
  },
  {
   "cell_type": "code",
   "execution_count": null,
   "id": "8c753dff-6676-4279-9940-7fc44f19bac6",
   "metadata": {},
   "outputs": [],
   "source": []
  }
 ],
 "metadata": {
  "kernelspec": {
   "display_name": "Python 3",
   "language": "python",
   "name": "python3"
  },
  "language_info": {
   "codemirror_mode": {
    "name": "ipython",
    "version": 3
   },
   "file_extension": ".py",
   "mimetype": "text/x-python",
   "name": "python",
   "nbconvert_exporter": "python",
   "pygments_lexer": "ipython3",
   "version": "3.8.10"
  }
 },
 "nbformat": 4,
 "nbformat_minor": 5
}
