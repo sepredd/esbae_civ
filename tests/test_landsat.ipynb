{
 "cells": [
  {
   "cell_type": "code",
   "execution_count": null,
   "id": "d38cb1dd-3b8b-44d9-afc5-dbe046607401",
   "metadata": {},
   "outputs": [],
   "source": [
    "from helpers import landsat_collection\n",
    "import ee\n",
    "ee.Initialize()\n",
    "from sepal_ui.mapping import SepalMap"
   ]
  },
  {
   "cell_type": "code",
   "execution_count": null,
   "id": "752fa070-5a7f-4af6-84aa-bd61518ba14a",
   "metadata": {},
   "outputs": [],
   "source": [
    "start = '2021-01-30'\n",
    "end = '2022-03-04'\n",
    "aoi = ee.FeatureCollection(\"users/andreasvollrath/aoi_ecu\")"
   ]
  },
  {
   "cell_type": "code",
   "execution_count": null,
   "id": "f545d99f-0adb-472b-aaf6-e839f51fe9a9",
   "metadata": {},
   "outputs": [],
   "source": [
    "lc = landsat_collection(\n",
    "    start, \n",
    "    end, \n",
    "    aoi, \n",
    "    l9=True,\n",
    "    l8=True, \n",
    "    l7=False, \n",
    "    l5=True, \n",
    "    l4=True, \n",
    "    brdf=True, \n",
    "    bands=[\"brightness\", \"greenness\", \"wetness\"],\n",
    "    max_cc=35\n",
    ")\n",
    "\n",
    "print(lc.size().getInfo())"
   ]
  },
  {
   "cell_type": "code",
   "execution_count": null,
   "id": "abcbb74a-e5e6-4f09-b872-3d19e157407a",
   "metadata": {},
   "outputs": [],
   "source": [
    "Map = SepalMap(['HYBRID'])\n",
    "Map.zoom_ee_object(aoi.geometry())\n",
    "\n",
    "# add layers\n",
    "Map.addLayer(lc.first())\n",
    "Map"
   ]
  },
  {
   "cell_type": "code",
   "execution_count": null,
   "id": "a5e83e25-a22f-4a63-b4d3-7689883de0e0",
   "metadata": {},
   "outputs": [],
   "source": []
  }
 ],
 "metadata": {
  "kernelspec": {
   "display_name": "Python 3",
   "language": "python",
   "name": "python3"
  },
  "language_info": {
   "codemirror_mode": {
    "name": "ipython",
    "version": 3
   },
   "file_extension": ".py",
   "mimetype": "text/x-python",
   "name": "python",
   "nbconvert_exporter": "python",
   "pygments_lexer": "ipython3",
   "version": "3.8.10"
  }
 },
 "nbformat": 4,
 "nbformat_minor": 5
}
